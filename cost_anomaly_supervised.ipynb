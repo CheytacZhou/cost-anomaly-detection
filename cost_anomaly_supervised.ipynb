{
 "cells": [
  {
   "cell_type": "code",
   "execution_count": 10,
   "metadata": {},
   "outputs": [],
   "source": [
    "import numpy as np\n",
    "import pandas as pd\n",
    "\n",
    "from sklearn.preprocessing import StandardScaler, Normalizer\n",
    "from sklearn.model_selection import train_test_split\n",
    "from sklearn.metrics import roc_auc_score\n",
    "from sklearn.metrics import precision_score\n",
    "from sklearn.metrics import precision_recall_curve\n",
    "from sklearn.metrics import auc\n",
    "from sklearn.neighbors import LocalOutlierFactor\n",
    "from sklearn.ensemble import RandomForestClassifier\n",
    "from sklearn.ensemble import IsolationForest\n",
    "from sklearn.svm import OneClassSVM\n",
    "from xgboost.sklearn import XGBClassifier\n",
    "from pyod.models.knn import KNN"
   ]
  },
  {
   "cell_type": "code",
   "execution_count": 30,
   "metadata": {},
   "outputs": [],
   "source": [
    "def get_precision(y, y_pred):\n",
    "    \n",
    "    outlier_percent = np.count_nonzero(y) / len(y)\n",
    "    threshold = np.percentile(y_pred, 100 * (1 - outlier_percent))\n",
    "    y_pred = (y_pred > threshold).astype(\"int\")\n",
    "    return precision_score(y, y_pred)\n",
    "\n",
    "def random_selection(X, X_new, roc_list, p):\n",
    "    import random\n",
    "    selected_feature_rnd = random.sample(range(0, len(roc_list)), p)\n",
    "    X_new_rnd = X_new[:, selected_feature_rnd]\n",
    "    X_all_rnd = np.concatenate([X, X_new_rnd], axis = 1)\n",
    "    return X_new_rnd, X_all_rnd\n",
    "\n",
    "def accurate_selection(X, X_new, roc_list, p, n):\n",
    "    roc_list = np.asarray(roc_list)\n",
    "    length = roc_list.shape[0]\n",
    "    roc_sorted = np.partition(roc_list, length - n)\n",
    "    threshold = roc_sorted[int(length - n)]\n",
    "    selected_feature_accurate = np.where(np.greater_equal(roc_list, threshold))\n",
    "    X_new_accurate = X_new[:, selected_feature_accurate[0][0:p]]\n",
    "    X_all_accurate = np.concatenate((X, X_new_accurate), axis = 1)\n",
    "    return X_new_accurate, X_all_accurate\n",
    "\n",
    "def balance_selection(X, X_new, roc_list, p):\n",
    "    from scipy.stats import pearsonr\n",
    "    \n",
    "    selected_feature_balance = []\n",
    "    pearson_list = np.zeros([len(roc_list), 1])\n",
    "    max_value_idx = roc_list.index(max(roc_list))\n",
    "    selected_feature_balance.append(max_value_idx)\n",
    "    roc_list[max_value_idx] = -1\n",
    "    \n",
    "    for i in range(p - 1):\n",
    "        for j in range(len(roc_list)):\n",
    "            pearson = pearsonr(X_new[:, max_value_idx], X_new[:, j])\n",
    "            pearson_list[j] = np.abs([pearson_list[j]]) + np.abs(pearson[0])\n",
    "        discounted_roc = np.true_divide(roc_list, pearson_list.transpose())\n",
    "        max_value_idx = np.argmax(discounted_roc)\n",
    "        selected_feature_balance.append(max_value_idx)\n",
    "        roc_list[max_value_idx] = -1\n",
    "    \n",
    "    X_new_balance = X_new[:, selected_feature_balance]\n",
    "    X_all_balance = np.concatenate((X, X_new_balance), axis = 1)\n",
    "    return X_new_balance, X_all_balance\n",
    "\n",
    "def set_parameters(origin_label, iteration = 10, test_size = 0.3):\n",
    "    \n",
    "    # Parameter setting\n",
    "    iteration = iteration\n",
    "    test_size = test_size\n",
    "    \n",
    "    # Outlier percentage\n",
    "    outlier_percentage = np.count_nonzero(origin_label) / len(origin_label)\n",
    "    \n",
    "    return iteration, test_size, outlier_percentage\n",
    "\n",
    "def initialize_classifier(\n",
    "    clf_list = [XGBClassifier(), RandomForestClassifier()],\n",
    "    clf_name_list = [\"Extreme_Grandient_Boost_\", \"Random_Forest_\"],\n",
    "    feature_name_list = [\n",
    "        \"origin\", \n",
    "        \"anomaly_score\", \"anomaly_score_random\", \"anomaly_score_accurate\", \"anomaly_score_balance\",\n",
    "        \"semi_supervised\", \"semi_supervised_random\", \"semi_supervised_accurate\", \"semi_supervised_balance\"\n",
    "    ]\n",
    "):\n",
    "    result_dict = {}\n",
    "    evaluation_list = [\"roc_\", \"precision_\", \"auc_\"]\n",
    "    for clf_name in clf_name_list:\n",
    "        for evaluation in evaluation_list:\n",
    "            for feature in feature_name_list:\n",
    "                result_dict[clf_name + evaluation + feature] = []\n",
    "    \n",
    "    return clf_list, result_dict\n",
    "\n",
    "def get_results_from_KNN(k_list_def, origin_feature, origin_feature_test, label_test, outlier_percentag, method):\n",
    "    \n",
    "    k_list = [k for k in k_list_def if k < X.shape[0]]    \n",
    "    train_array = np.zeros([origin_feature.shape[0], len(k_list)])\n",
    "    test_array = np.zeros([origin_feature_test.shape[0], len(k_list)])\n",
    "    feature_list = []\n",
    "    roc_list = []\n",
    "    precision_list = []\n",
    "        \n",
    "    for i in range(len(k_list)):\n",
    "        k = k_list[i]\n",
    "        clf = KNN(n_neighbors = k, contamination = outlier_percent, method = method)\n",
    "        clf.fit(origin_feature)\n",
    "        train_score = clf.decision_scores_\n",
    "        predict_score = clf.decision_function(origin_feature_test)\n",
    "        \n",
    "        roc = np.round(roc_auc_score(label_test, predict_score), decimals = 4)\n",
    "        precision = np.round(get_precision(label_test, predict_score), decimals = 4)\n",
    "        print(\n",
    "            \"{method} KNN Roc and Precision in {k} Neighbors are {roc} and {precision}\".format(\n",
    "                method = method, k = k, roc = roc, precision = precision\n",
    "            )\n",
    "        )\n",
    "        \n",
    "        feature_list.append(\"KNN_\" + method + \"_\" + str(k))\n",
    "        roc_list.append(roc)\n",
    "        precision_list.append(precision)\n",
    "        train_array[:, i] = train_score\n",
    "        test_array[:, i] = predict_score.ravel()\n",
    "            \n",
    "    return feature_list, train_array, test_array, roc_list, precision_list\n",
    "\n",
    "def get_results_from_LOF(k_list_def, origin_feature, origin_feature_test, label_test, outlier_percentage):\n",
    "    \n",
    "    k_list = [k for k in k_list_def if k < X.shape[0]]\n",
    "    train_array = np.zeros([origin_feature.shape[0], len(k_list)])\n",
    "    test_array = np.zeros([origin_feature_test.shape[0], len(k_list)])\n",
    "    feature_list = []\n",
    "    roc_list = []\n",
    "    precision_list = []\n",
    "    \n",
    "    for i in range(len(k_list)):\n",
    "        k = k_list[i]\n",
    "        clf = LocalOutlierFactor(n_neighbors = k)\n",
    "        clf.fit(origin_feature)\n",
    "        train_score = clf.negative_outlier_factor_ * -1\n",
    "        predict_score = clf._decision_function(origin_feature_test)\n",
    "        \n",
    "        roc = np.round(roc_auc_score(label_test, predict_score), decimals = 4)\n",
    "        precision = np.round(get_precision(label_test, predict_score), decimals = 4)\n",
    "        print(\n",
    "            \"Local Outlier Factor Roc and Precision in {k} Neighbors are {roc} and {precision}\".format(\n",
    "                k = k, roc = roc, precision = precision\n",
    "            )\n",
    "        )\n",
    "\n",
    "        feature_list.append(\"LOF_\" + str(k))\n",
    "        roc_list.append(roc)\n",
    "        precision_list.append(precision)\n",
    "        train_array[:, i] = train_score\n",
    "        test_array[:, i] = predict_score.ravel()\n",
    "    \n",
    "    return feature_list, train_array, test_array, roc_list, precision_list\n",
    "\n",
    "def get_results_from_SVM(nu_list, origin_feature, origin_feature_test, label_test, outlier_percentage):\n",
    "        \n",
    "    train_array = np.zeros([origin_feature.shape[0], len(nu_list)])\n",
    "    test_array = np.zeros([origin_feature_test.shape[0], len(nu_list)])\n",
    "    feature_list= []\n",
    "    roc_list = []\n",
    "    precision_list = []\n",
    "    \n",
    "    for i in range(len(nu_list)):\n",
    "        nu = nu_list[i]\n",
    "        clf = OneClassSVM(nu = nu)\n",
    "        clf.fit(origin_feature)\n",
    "        train_score = clf.decision_function(X) * -1\n",
    "        predict_score = clf.decision_function(origin_feature_test)\n",
    "        \n",
    "        roc = np.round(roc_auc_score(label_test, predict_score), decimals = 4)\n",
    "        precision = np.round(get_precision(label_test, predict_score), decimals = 4)\n",
    "        print(\n",
    "            \"Support Vector Machine Roc and Precision in {nu} are {roc} and {precision}\".format(\n",
    "                nu = nu, roc = roc, precision = precision\n",
    "            )\n",
    "        )\n",
    "        feature_list.append(\"SVM_\" + str(nu))\n",
    "        roc_list.append(roc)\n",
    "        precision_list.append(precision)\n",
    "        \n",
    "        train_array[:, i] = train_score\n",
    "        test_array[:, i] = predict_score.ravel()\n",
    "    \n",
    "    return feature_list, train_array, test_array, roc_list, precision_list\n",
    "\n",
    "def get_results_from_IF(n_list, origin_feature, orgin_feature_test, label_test, outlier_percentage):\n",
    "    \n",
    "    train_array = np.zeros([origin_feature.shape[0], len(n_list)])\n",
    "    test_array = np.zeros([orgin_feature_test.shape[0], len(n_list)])\n",
    "    feature_list = []\n",
    "    roc_list = []\n",
    "    precision_list = []\n",
    "    \n",
    "    for i in range(len(n_list)):\n",
    "        n = n_list[i]\n",
    "        clf = IsolationForest(n_estimators = n)\n",
    "        clf.fit(origin_feature)\n",
    "        train_score = clf.decision_function(X) * -1\n",
    "        predict_score = clf.decision_function(orgin_feature_test)\n",
    "        \n",
    "        roc = np.round(roc_auc_score(label_test, predict_score), decimals = 4)\n",
    "        precision = np.round(get_precision(label_test, predict_score), decimals = 4)\n",
    "        print(\n",
    "            \"Isolation Forest Roc and Precision in {n} Estimators are {roc} and {precision}\".format(\n",
    "                n = n, roc = roc, precision = precision\n",
    "            )\n",
    "        )\n",
    "        \n",
    "        feature_list.append(\"IF_\" + str(n))\n",
    "        roc_list.append(roc)\n",
    "        precision_list.append(precision)\n",
    "        \n",
    "        train_array[:, i] = train_score\n",
    "        test_array[:, i] = predict_score.ravel()\n",
    "    \n",
    "    return feature_list, train_array, test_array, roc_list, precision_list\n",
    "\n",
    "def generate_new_feature(origin_feature, origin_feature_test, anomaly_score, anomaly_score_test, roc, precision):\n",
    "    \n",
    "    new_feature = np.concatenate([score for score in anomaly_score], axis = 1)\n",
    "    new_feature_test = np.concatenate([score_test for score_test in anomaly_score_test], axis = 1)\n",
    "    all_feature = np.concatenate([origin_feature, new_feature], axis = 1)\n",
    "    all_feature_test = np.concatenate([origin_feature_test, new_feature_test], axis = 1)\n",
    "\n",
    "    roc_list = list(np.concatenate([r for r in roc], axis = 0))\n",
    "    precision_list = list(np.concatenate([prec for prec in precision], axis = 0))\n",
    "    \n",
    "    return new_feature, new_feature_test, all_feature, all_feature_test, roc_list, precision_list\n",
    "\n",
    "\n",
    "def train_classifier(\n",
    "    feature_list, feature_test_list, label, label_test,\n",
    "    clf_list = [XGBClassifier(), RandomForestClassifier()],\n",
    "    clf_name_list = [\"Extreme_Grandient_Boost_\", \"Random_Forest_\"],\n",
    "    feature_name_list = [\n",
    "        \"origin\", \n",
    "        \"anomaly_score\", \"anomaly_score_random\", \"anomaly_score_accurate\", \"anomaly_score_balance\",\n",
    "        \"semi_supervised\", \"semi_supervised_random\", \"semi_supervised_accurate\", \"semi_supervised_balance\"\n",
    "    ]\n",
    "):\n",
    "    \n",
    "    for clf, clf_name in zip(clf_list, clf_name_list):\n",
    "        print(\"Processing\", clf_name)\n",
    "        for i, feature_name in enumerate(feature_name_list):\n",
    "            clf.fit(feature_list[i], label.ravel())\n",
    "            y_predict = clf.predict_proba(feature_test_list[i])\n",
    "            roc_score = roc_auc_score(label_test, y_predict[:, 1])\n",
    "            precis = get_precision(label_test, y_predict[:, 1])\n",
    "            precision, recall, _ = precision_recall_curve(label_test, y_predict[:, 1])\n",
    "            auc_score = auc(recall, precision)\n",
    "    \n",
    "            result_dict[clf_name + \"roc_\" + feature_name].append(roc_score)\n",
    "            result_dict[clf_name + \"precision_\" + feature_name].append(precis)\n",
    "            result_dict[clf_name + \"auc_\" + feature_name].append(auc_score)\n",
    "    \n",
    "    return result_dict\n",
    "\n",
    "def evaluate_classifier(\n",
    "    clf_list = [XGBClassifier(), RandomForestClassifier()],\n",
    "    clf_name_list = [\"Extreme_Grandient_Boost_\", \"Random_Forest_\"],\n",
    "    feature_name_list = [\n",
    "        \"origin\", \n",
    "        \"anomaly_score\", \"anomaly_score_random\", \"anomaly_score_accurate\", \"anomaly_score_balance\",\n",
    "        \"semi_supervised\", \"semi_supervised_random\", \"semi_supervised_accurate\", \"semi_supervised_balance\"\n",
    "    ]\n",
    "):\n",
    "    \n",
    "    for evaluation in [\"roc_\", \"precision_\", \"auc_\"]:\n",
    "        print()\n",
    "        for clf_name in clf_name_list:\n",
    "            for feature in feature_name_list:\n",
    "                print(\n",
    "                    np.round(np.mean(result_dict[clf_name + evaluation + feature]), decimals = 4),\n",
    "                    evaluation + clf_name + feature\n",
    "                )"
   ]
  },
  {
   "cell_type": "code",
   "execution_count": 24,
   "metadata": {},
   "outputs": [],
   "source": [
    "cost_sample = pd.read_csv(\"cost_sample.csv\")\n",
    "\n",
    "cost_sample = cost_sample.loc[\n",
    "    (~ cost_sample.country.isna()) &\n",
    "    (cost_sample.cost >= 0) &\n",
    "    (~ cost_sample.costType.isna()) &\n",
    "    (~ cost_sample.region.isna())  &\n",
    "    (~ cost_sample.usageAmount.isna()) &\n",
    "    (cost_sample.usageAmount >= 0)\n",
    "]\n",
    "\n",
    "cost_sample_cat_onehot = pd.get_dummies(\n",
    "    cost_sample[[\"description\", \"id\", \"country\", \"region\"]],\n",
    "    columns = [\"description\", \"id\", \"country\", \"region\"],\n",
    "    prefix = [\"description\", \"id\", \"country\", \"region\"]\n",
    ")\n",
    "\n",
    "cost_transformed = pd.concat(\n",
    "    [cost_sample_cat_onehot, cost_sample[[\"runningTime\", \"conversionRate\", \"usageAmount\", \"cost\"]]],\n",
    "    axis = 1\n",
    ")"
   ]
  },
  {
   "cell_type": "code",
   "execution_count": 25,
   "metadata": {},
   "outputs": [
    {
     "data": {
      "text/html": [
       "<div>\n",
       "<style scoped>\n",
       "    .dataframe tbody tr th:only-of-type {\n",
       "        vertical-align: middle;\n",
       "    }\n",
       "\n",
       "    .dataframe tbody tr th {\n",
       "        vertical-align: top;\n",
       "    }\n",
       "\n",
       "    .dataframe thead th {\n",
       "        text-align: right;\n",
       "    }\n",
       "</style>\n",
       "<table border=\"1\" class=\"dataframe\">\n",
       "  <thead>\n",
       "    <tr style=\"text-align: right;\">\n",
       "      <th></th>\n",
       "      <th>description_Cloud Composer</th>\n",
       "      <th>description_Cloud Dataflow</th>\n",
       "      <th>description_Cloud Functions</th>\n",
       "      <th>description_Cloud Memorystore for Redis</th>\n",
       "      <th>description_Cloud Pub/Sub</th>\n",
       "      <th>description_Cloud SQL</th>\n",
       "      <th>description_Compute Engine</th>\n",
       "      <th>description_Stackdriver Monitoring</th>\n",
       "      <th>id_gamesys-eu-dev-sbtech-data</th>\n",
       "      <th>id_gamesys-eu-live-sbtech-data</th>\n",
       "      <th>...</th>\n",
       "      <th>region_europe-west3</th>\n",
       "      <th>region_europe-west4</th>\n",
       "      <th>region_europe-west5</th>\n",
       "      <th>region_southamerica-east1</th>\n",
       "      <th>region_us-central1</th>\n",
       "      <th>region_us-west1</th>\n",
       "      <th>runningTime</th>\n",
       "      <th>conversionRate</th>\n",
       "      <th>usageAmount</th>\n",
       "      <th>cost</th>\n",
       "    </tr>\n",
       "  </thead>\n",
       "  <tbody>\n",
       "    <tr>\n",
       "      <th>0</th>\n",
       "      <td>0</td>\n",
       "      <td>0</td>\n",
       "      <td>0</td>\n",
       "      <td>0</td>\n",
       "      <td>0</td>\n",
       "      <td>0</td>\n",
       "      <td>0</td>\n",
       "      <td>1</td>\n",
       "      <td>0</td>\n",
       "      <td>0</td>\n",
       "      <td>...</td>\n",
       "      <td>0</td>\n",
       "      <td>0</td>\n",
       "      <td>0</td>\n",
       "      <td>0</td>\n",
       "      <td>0</td>\n",
       "      <td>0</td>\n",
       "      <td>2</td>\n",
       "      <td>0.77</td>\n",
       "      <td>2456.00</td>\n",
       "      <td>0.00</td>\n",
       "    </tr>\n",
       "    <tr>\n",
       "      <th>1</th>\n",
       "      <td>1</td>\n",
       "      <td>0</td>\n",
       "      <td>0</td>\n",
       "      <td>0</td>\n",
       "      <td>0</td>\n",
       "      <td>0</td>\n",
       "      <td>0</td>\n",
       "      <td>0</td>\n",
       "      <td>0</td>\n",
       "      <td>0</td>\n",
       "      <td>...</td>\n",
       "      <td>0</td>\n",
       "      <td>0</td>\n",
       "      <td>0</td>\n",
       "      <td>0</td>\n",
       "      <td>0</td>\n",
       "      <td>0</td>\n",
       "      <td>10</td>\n",
       "      <td>0.79</td>\n",
       "      <td>1200.00</td>\n",
       "      <td>0.02</td>\n",
       "    </tr>\n",
       "    <tr>\n",
       "      <th>2</th>\n",
       "      <td>0</td>\n",
       "      <td>0</td>\n",
       "      <td>0</td>\n",
       "      <td>0</td>\n",
       "      <td>0</td>\n",
       "      <td>0</td>\n",
       "      <td>1</td>\n",
       "      <td>0</td>\n",
       "      <td>0</td>\n",
       "      <td>0</td>\n",
       "      <td>...</td>\n",
       "      <td>0</td>\n",
       "      <td>0</td>\n",
       "      <td>0</td>\n",
       "      <td>0</td>\n",
       "      <td>0</td>\n",
       "      <td>0</td>\n",
       "      <td>60</td>\n",
       "      <td>0.77</td>\n",
       "      <td>13326.00</td>\n",
       "      <td>0.00</td>\n",
       "    </tr>\n",
       "    <tr>\n",
       "      <th>3</th>\n",
       "      <td>0</td>\n",
       "      <td>0</td>\n",
       "      <td>0</td>\n",
       "      <td>0</td>\n",
       "      <td>0</td>\n",
       "      <td>0</td>\n",
       "      <td>1</td>\n",
       "      <td>0</td>\n",
       "      <td>0</td>\n",
       "      <td>0</td>\n",
       "      <td>...</td>\n",
       "      <td>0</td>\n",
       "      <td>0</td>\n",
       "      <td>0</td>\n",
       "      <td>0</td>\n",
       "      <td>0</td>\n",
       "      <td>0</td>\n",
       "      <td>60</td>\n",
       "      <td>0.76</td>\n",
       "      <td>4446.00</td>\n",
       "      <td>0.00</td>\n",
       "    </tr>\n",
       "    <tr>\n",
       "      <th>4</th>\n",
       "      <td>1</td>\n",
       "      <td>0</td>\n",
       "      <td>0</td>\n",
       "      <td>0</td>\n",
       "      <td>0</td>\n",
       "      <td>0</td>\n",
       "      <td>0</td>\n",
       "      <td>0</td>\n",
       "      <td>0</td>\n",
       "      <td>0</td>\n",
       "      <td>...</td>\n",
       "      <td>0</td>\n",
       "      <td>0</td>\n",
       "      <td>0</td>\n",
       "      <td>0</td>\n",
       "      <td>0</td>\n",
       "      <td>0</td>\n",
       "      <td>10</td>\n",
       "      <td>0.81</td>\n",
       "      <td>1200.00</td>\n",
       "      <td>0.02</td>\n",
       "    </tr>\n",
       "  </tbody>\n",
       "</table>\n",
       "<p>5 rows × 56 columns</p>\n",
       "</div>"
      ],
      "text/plain": [
       "   description_Cloud Composer  description_Cloud Dataflow  \\\n",
       "0                           0                           0   \n",
       "1                           1                           0   \n",
       "2                           0                           0   \n",
       "3                           0                           0   \n",
       "4                           1                           0   \n",
       "\n",
       "   description_Cloud Functions  description_Cloud Memorystore for Redis  \\\n",
       "0                            0                                        0   \n",
       "1                            0                                        0   \n",
       "2                            0                                        0   \n",
       "3                            0                                        0   \n",
       "4                            0                                        0   \n",
       "\n",
       "   description_Cloud Pub/Sub  description_Cloud SQL  \\\n",
       "0                          0                      0   \n",
       "1                          0                      0   \n",
       "2                          0                      0   \n",
       "3                          0                      0   \n",
       "4                          0                      0   \n",
       "\n",
       "   description_Compute Engine  description_Stackdriver Monitoring  \\\n",
       "0                           0                                   1   \n",
       "1                           0                                   0   \n",
       "2                           1                                   0   \n",
       "3                           1                                   0   \n",
       "4                           0                                   0   \n",
       "\n",
       "   id_gamesys-eu-dev-sbtech-data  id_gamesys-eu-live-sbtech-data  ...  \\\n",
       "0                              0                               0  ...   \n",
       "1                              0                               0  ...   \n",
       "2                              0                               0  ...   \n",
       "3                              0                               0  ...   \n",
       "4                              0                               0  ...   \n",
       "\n",
       "   region_europe-west3  region_europe-west4  region_europe-west5  \\\n",
       "0                    0                    0                    0   \n",
       "1                    0                    0                    0   \n",
       "2                    0                    0                    0   \n",
       "3                    0                    0                    0   \n",
       "4                    0                    0                    0   \n",
       "\n",
       "   region_southamerica-east1  region_us-central1  region_us-west1  \\\n",
       "0                          0                   0                0   \n",
       "1                          0                   0                0   \n",
       "2                          0                   0                0   \n",
       "3                          0                   0                0   \n",
       "4                          0                   0                0   \n",
       "\n",
       "   runningTime  conversionRate  usageAmount  cost  \n",
       "0            2            0.77      2456.00  0.00  \n",
       "1           10            0.79      1200.00  0.02  \n",
       "2           60            0.77     13326.00  0.00  \n",
       "3           60            0.76      4446.00  0.00  \n",
       "4           10            0.81      1200.00  0.02  \n",
       "\n",
       "[5 rows x 56 columns]"
      ]
     },
     "execution_count": 25,
     "metadata": {},
     "output_type": "execute_result"
    }
   ],
   "source": [
    "cost_transformed.head()"
   ]
  },
  {
   "cell_type": "code",
   "execution_count": 26,
   "metadata": {},
   "outputs": [
    {
     "data": {
      "text/html": [
       "<div>\n",
       "<style scoped>\n",
       "    .dataframe tbody tr th:only-of-type {\n",
       "        vertical-align: middle;\n",
       "    }\n",
       "\n",
       "    .dataframe tbody tr th {\n",
       "        vertical-align: top;\n",
       "    }\n",
       "\n",
       "    .dataframe thead th {\n",
       "        text-align: right;\n",
       "    }\n",
       "</style>\n",
       "<table border=\"1\" class=\"dataframe\">\n",
       "  <thead>\n",
       "    <tr style=\"text-align: right;\">\n",
       "      <th></th>\n",
       "      <th>description_Cloud Composer</th>\n",
       "      <th>description_Cloud Dataflow</th>\n",
       "      <th>description_Cloud Functions</th>\n",
       "      <th>description_Cloud Memorystore for Redis</th>\n",
       "      <th>description_Cloud Pub/Sub</th>\n",
       "      <th>description_Cloud SQL</th>\n",
       "      <th>description_Compute Engine</th>\n",
       "      <th>description_Stackdriver Monitoring</th>\n",
       "      <th>id_gamesys-eu-dev-sbtech-data</th>\n",
       "      <th>id_gamesys-eu-live-sbtech-data</th>\n",
       "      <th>...</th>\n",
       "      <th>region_europe-west3</th>\n",
       "      <th>region_europe-west4</th>\n",
       "      <th>region_europe-west5</th>\n",
       "      <th>region_southamerica-east1</th>\n",
       "      <th>region_us-central1</th>\n",
       "      <th>region_us-west1</th>\n",
       "      <th>runningTime</th>\n",
       "      <th>conversionRate</th>\n",
       "      <th>usageAmount</th>\n",
       "      <th>cost</th>\n",
       "    </tr>\n",
       "  </thead>\n",
       "  <tbody>\n",
       "    <tr>\n",
       "      <th>count</th>\n",
       "      <td>1234.00</td>\n",
       "      <td>1234.00</td>\n",
       "      <td>1234.00</td>\n",
       "      <td>1234.00</td>\n",
       "      <td>1234.00</td>\n",
       "      <td>1234.00</td>\n",
       "      <td>1234.00</td>\n",
       "      <td>1234.00</td>\n",
       "      <td>1234.00</td>\n",
       "      <td>1234.00</td>\n",
       "      <td>...</td>\n",
       "      <td>1234.00</td>\n",
       "      <td>1234.00</td>\n",
       "      <td>1234.00</td>\n",
       "      <td>1234.00</td>\n",
       "      <td>1234.00</td>\n",
       "      <td>1234.00</td>\n",
       "      <td>1234.00</td>\n",
       "      <td>1234.00</td>\n",
       "      <td>1234.00</td>\n",
       "      <td>1234.00</td>\n",
       "    </tr>\n",
       "    <tr>\n",
       "      <th>mean</th>\n",
       "      <td>0.05</td>\n",
       "      <td>0.00</td>\n",
       "      <td>0.00</td>\n",
       "      <td>0.00</td>\n",
       "      <td>0.03</td>\n",
       "      <td>0.01</td>\n",
       "      <td>0.88</td>\n",
       "      <td>0.03</td>\n",
       "      <td>0.02</td>\n",
       "      <td>0.04</td>\n",
       "      <td>...</td>\n",
       "      <td>0.02</td>\n",
       "      <td>0.24</td>\n",
       "      <td>0.00</td>\n",
       "      <td>0.03</td>\n",
       "      <td>0.06</td>\n",
       "      <td>0.00</td>\n",
       "      <td>77.39</td>\n",
       "      <td>0.78</td>\n",
       "      <td>198485622443355.84</td>\n",
       "      <td>0.04</td>\n",
       "    </tr>\n",
       "    <tr>\n",
       "      <th>std</th>\n",
       "      <td>0.22</td>\n",
       "      <td>0.05</td>\n",
       "      <td>0.07</td>\n",
       "      <td>0.03</td>\n",
       "      <td>0.16</td>\n",
       "      <td>0.10</td>\n",
       "      <td>0.32</td>\n",
       "      <td>0.16</td>\n",
       "      <td>0.14</td>\n",
       "      <td>0.19</td>\n",
       "      <td>...</td>\n",
       "      <td>0.15</td>\n",
       "      <td>0.43</td>\n",
       "      <td>0.06</td>\n",
       "      <td>0.17</td>\n",
       "      <td>0.23</td>\n",
       "      <td>0.05</td>\n",
       "      <td>100.36</td>\n",
       "      <td>0.02</td>\n",
       "      <td>2680299170069885.00</td>\n",
       "      <td>0.19</td>\n",
       "    </tr>\n",
       "    <tr>\n",
       "      <th>min</th>\n",
       "      <td>0.00</td>\n",
       "      <td>0.00</td>\n",
       "      <td>0.00</td>\n",
       "      <td>0.00</td>\n",
       "      <td>0.00</td>\n",
       "      <td>0.00</td>\n",
       "      <td>0.00</td>\n",
       "      <td>0.00</td>\n",
       "      <td>0.00</td>\n",
       "      <td>0.00</td>\n",
       "      <td>...</td>\n",
       "      <td>0.00</td>\n",
       "      <td>0.00</td>\n",
       "      <td>0.00</td>\n",
       "      <td>0.00</td>\n",
       "      <td>0.00</td>\n",
       "      <td>0.00</td>\n",
       "      <td>0.00</td>\n",
       "      <td>0.76</td>\n",
       "      <td>0.00</td>\n",
       "      <td>0.00</td>\n",
       "    </tr>\n",
       "    <tr>\n",
       "      <th>25%</th>\n",
       "      <td>0.00</td>\n",
       "      <td>0.00</td>\n",
       "      <td>0.00</td>\n",
       "      <td>0.00</td>\n",
       "      <td>0.00</td>\n",
       "      <td>0.00</td>\n",
       "      <td>1.00</td>\n",
       "      <td>0.00</td>\n",
       "      <td>0.00</td>\n",
       "      <td>0.00</td>\n",
       "      <td>...</td>\n",
       "      <td>0.00</td>\n",
       "      <td>0.00</td>\n",
       "      <td>0.00</td>\n",
       "      <td>0.00</td>\n",
       "      <td>0.00</td>\n",
       "      <td>0.00</td>\n",
       "      <td>60.00</td>\n",
       "      <td>0.77</td>\n",
       "      <td>3599.97</td>\n",
       "      <td>0.00</td>\n",
       "    </tr>\n",
       "    <tr>\n",
       "      <th>50%</th>\n",
       "      <td>0.00</td>\n",
       "      <td>0.00</td>\n",
       "      <td>0.00</td>\n",
       "      <td>0.00</td>\n",
       "      <td>0.00</td>\n",
       "      <td>0.00</td>\n",
       "      <td>1.00</td>\n",
       "      <td>0.00</td>\n",
       "      <td>0.00</td>\n",
       "      <td>0.00</td>\n",
       "      <td>...</td>\n",
       "      <td>0.00</td>\n",
       "      <td>0.00</td>\n",
       "      <td>0.00</td>\n",
       "      <td>0.00</td>\n",
       "      <td>0.00</td>\n",
       "      <td>0.00</td>\n",
       "      <td>60.00</td>\n",
       "      <td>0.77</td>\n",
       "      <td>55512.42</td>\n",
       "      <td>0.00</td>\n",
       "    </tr>\n",
       "    <tr>\n",
       "      <th>75%</th>\n",
       "      <td>0.00</td>\n",
       "      <td>0.00</td>\n",
       "      <td>0.00</td>\n",
       "      <td>0.00</td>\n",
       "      <td>0.00</td>\n",
       "      <td>0.00</td>\n",
       "      <td>1.00</td>\n",
       "      <td>0.00</td>\n",
       "      <td>0.00</td>\n",
       "      <td>0.00</td>\n",
       "      <td>...</td>\n",
       "      <td>0.00</td>\n",
       "      <td>0.00</td>\n",
       "      <td>0.00</td>\n",
       "      <td>0.00</td>\n",
       "      <td>0.00</td>\n",
       "      <td>0.00</td>\n",
       "      <td>60.00</td>\n",
       "      <td>0.79</td>\n",
       "      <td>80852513.00</td>\n",
       "      <td>0.00</td>\n",
       "    </tr>\n",
       "    <tr>\n",
       "      <th>max</th>\n",
       "      <td>1.00</td>\n",
       "      <td>1.00</td>\n",
       "      <td>1.00</td>\n",
       "      <td>1.00</td>\n",
       "      <td>1.00</td>\n",
       "      <td>1.00</td>\n",
       "      <td>1.00</td>\n",
       "      <td>1.00</td>\n",
       "      <td>1.00</td>\n",
       "      <td>1.00</td>\n",
       "      <td>...</td>\n",
       "      <td>1.00</td>\n",
       "      <td>1.00</td>\n",
       "      <td>1.00</td>\n",
       "      <td>1.00</td>\n",
       "      <td>1.00</td>\n",
       "      <td>1.00</td>\n",
       "      <td>1440.00</td>\n",
       "      <td>0.82</td>\n",
       "      <td>62493342893604864.00</td>\n",
       "      <td>3.32</td>\n",
       "    </tr>\n",
       "  </tbody>\n",
       "</table>\n",
       "<p>8 rows × 56 columns</p>\n",
       "</div>"
      ],
      "text/plain": [
       "       description_Cloud Composer  description_Cloud Dataflow  \\\n",
       "count                     1234.00                     1234.00   \n",
       "mean                         0.05                        0.00   \n",
       "std                          0.22                        0.05   \n",
       "min                          0.00                        0.00   \n",
       "25%                          0.00                        0.00   \n",
       "50%                          0.00                        0.00   \n",
       "75%                          0.00                        0.00   \n",
       "max                          1.00                        1.00   \n",
       "\n",
       "       description_Cloud Functions  description_Cloud Memorystore for Redis  \\\n",
       "count                      1234.00                                  1234.00   \n",
       "mean                          0.00                                     0.00   \n",
       "std                           0.07                                     0.03   \n",
       "min                           0.00                                     0.00   \n",
       "25%                           0.00                                     0.00   \n",
       "50%                           0.00                                     0.00   \n",
       "75%                           0.00                                     0.00   \n",
       "max                           1.00                                     1.00   \n",
       "\n",
       "       description_Cloud Pub/Sub  description_Cloud SQL  \\\n",
       "count                    1234.00                1234.00   \n",
       "mean                        0.03                   0.01   \n",
       "std                         0.16                   0.10   \n",
       "min                         0.00                   0.00   \n",
       "25%                         0.00                   0.00   \n",
       "50%                         0.00                   0.00   \n",
       "75%                         0.00                   0.00   \n",
       "max                         1.00                   1.00   \n",
       "\n",
       "       description_Compute Engine  description_Stackdriver Monitoring  \\\n",
       "count                     1234.00                             1234.00   \n",
       "mean                         0.88                                0.03   \n",
       "std                          0.32                                0.16   \n",
       "min                          0.00                                0.00   \n",
       "25%                          1.00                                0.00   \n",
       "50%                          1.00                                0.00   \n",
       "75%                          1.00                                0.00   \n",
       "max                          1.00                                1.00   \n",
       "\n",
       "       id_gamesys-eu-dev-sbtech-data  id_gamesys-eu-live-sbtech-data  ...  \\\n",
       "count                        1234.00                         1234.00  ...   \n",
       "mean                            0.02                            0.04  ...   \n",
       "std                             0.14                            0.19  ...   \n",
       "min                             0.00                            0.00  ...   \n",
       "25%                             0.00                            0.00  ...   \n",
       "50%                             0.00                            0.00  ...   \n",
       "75%                             0.00                            0.00  ...   \n",
       "max                             1.00                            1.00  ...   \n",
       "\n",
       "       region_europe-west3  region_europe-west4  region_europe-west5  \\\n",
       "count              1234.00              1234.00              1234.00   \n",
       "mean                  0.02                 0.24                 0.00   \n",
       "std                   0.15                 0.43                 0.06   \n",
       "min                   0.00                 0.00                 0.00   \n",
       "25%                   0.00                 0.00                 0.00   \n",
       "50%                   0.00                 0.00                 0.00   \n",
       "75%                   0.00                 0.00                 0.00   \n",
       "max                   1.00                 1.00                 1.00   \n",
       "\n",
       "       region_southamerica-east1  region_us-central1  region_us-west1  \\\n",
       "count                    1234.00             1234.00          1234.00   \n",
       "mean                        0.03                0.06             0.00   \n",
       "std                         0.17                0.23             0.05   \n",
       "min                         0.00                0.00             0.00   \n",
       "25%                         0.00                0.00             0.00   \n",
       "50%                         0.00                0.00             0.00   \n",
       "75%                         0.00                0.00             0.00   \n",
       "max                         1.00                1.00             1.00   \n",
       "\n",
       "       runningTime  conversionRate          usageAmount    cost  \n",
       "count      1234.00         1234.00              1234.00 1234.00  \n",
       "mean         77.39            0.78   198485622443355.84    0.04  \n",
       "std         100.36            0.02  2680299170069885.00    0.19  \n",
       "min           0.00            0.76                 0.00    0.00  \n",
       "25%          60.00            0.77              3599.97    0.00  \n",
       "50%          60.00            0.77             55512.42    0.00  \n",
       "75%          60.00            0.79          80852513.00    0.00  \n",
       "max        1440.00            0.82 62493342893604864.00    3.32  \n",
       "\n",
       "[8 rows x 56 columns]"
      ]
     },
     "execution_count": 26,
     "metadata": {},
     "output_type": "execute_result"
    }
   ],
   "source": [
    "pd.options.display.float_format = \"{:.2f}\".format\n",
    "cost_transformed.describe()"
   ]
  },
  {
   "cell_type": "code",
   "execution_count": 31,
   "metadata": {},
   "outputs": [
    {
     "name": "stderr",
     "output_type": "stream",
     "text": [
      "/Users/ziye.zhou/Documents/Work/cost_anomaly_detection/tensorflow-venv/lib/python3.7/site-packages/pandas/core/indexing.py:205: SettingWithCopyWarning: \n",
      "A value is trying to be set on a copy of a slice from a DataFrame\n",
      "\n",
      "See the caveats in the documentation: http://pandas.pydata.org/pandas-docs/stable/user_guide/indexing.html#returning-a-view-versus-a-copy\n",
      "  self._setitem_with_indexer(indexer, value)\n"
     ]
    },
    {
     "name": "stdout",
     "output_type": "stream",
     "text": [
      "Processing trial 1 out of 10 \n",
      "\n",
      "largest KNN Roc and Precision in 1 Neighbors are 0.3287 and 0.0\n",
      "largest KNN Roc and Precision in 2 Neighbors are 0.3076 and 0.0\n",
      "largest KNN Roc and Precision in 3 Neighbors are 0.298 and 0.0\n",
      "largest KNN Roc and Precision in 4 Neighbors are 0.2996 and 0.0\n",
      "largest KNN Roc and Precision in 5 Neighbors are 0.295 and 0.0\n",
      "largest KNN Roc and Precision in 10 Neighbors are 0.306 and 0.0\n",
      "largest KNN Roc and Precision in 15 Neighbors are 0.3165 and 0.0\n",
      "largest KNN Roc and Precision in 20 Neighbors are 0.3094 and 0.0\n",
      "largest KNN Roc and Precision in 30 Neighbors are 0.3082 and 0.0\n",
      "largest KNN Roc and Precision in 40 Neighbors are 0.3063 and 0.0\n",
      "largest KNN Roc and Precision in 50 Neighbors are 0.3076 and 0.0\n",
      "largest KNN Roc and Precision in 60 Neighbors are 0.3088 and 0.0\n",
      "largest KNN Roc and Precision in 70 Neighbors are 0.3189 and 0.0\n",
      "largest KNN Roc and Precision in 80 Neighbors are 0.3247 and 0.0\n",
      "largest KNN Roc and Precision in 90 Neighbors are 0.3266 and 0.0\n",
      "largest KNN Roc and Precision in 100 Neighbors are 0.3278 and 0.0\n",
      "\n",
      "\n",
      "mean KNN Roc and Precision in 1 Neighbors are 0.3287 and 0.0\n",
      "mean KNN Roc and Precision in 2 Neighbors are 0.3091 and 0.0\n",
      "mean KNN Roc and Precision in 3 Neighbors are 0.2983 and 0.0\n",
      "mean KNN Roc and Precision in 4 Neighbors are 0.2996 and 0.0\n",
      "mean KNN Roc and Precision in 5 Neighbors are 0.2907 and 0.0\n",
      "mean KNN Roc and Precision in 10 Neighbors are 0.2944 and 0.0\n",
      "mean KNN Roc and Precision in 15 Neighbors are 0.3036 and 0.0\n",
      "mean KNN Roc and Precision in 20 Neighbors are 0.306 and 0.0\n",
      "mean KNN Roc and Precision in 30 Neighbors are 0.3002 and 0.0\n",
      "mean KNN Roc and Precision in 40 Neighbors are 0.3063 and 0.0\n",
      "mean KNN Roc and Precision in 50 Neighbors are 0.3048 and 0.0\n",
      "mean KNN Roc and Precision in 60 Neighbors are 0.3029 and 0.0\n",
      "mean KNN Roc and Precision in 70 Neighbors are 0.3066 and 0.0\n",
      "mean KNN Roc and Precision in 80 Neighbors are 0.3131 and 0.0\n",
      "mean KNN Roc and Precision in 90 Neighbors are 0.3161 and 0.0\n",
      "mean KNN Roc and Precision in 100 Neighbors are 0.3177 and 0.0\n",
      "\n",
      "\n",
      "median KNN Roc and Precision in 1 Neighbors are 0.3287 and 0.0\n",
      "median KNN Roc and Precision in 2 Neighbors are 0.3091 and 0.0\n",
      "median KNN Roc and Precision in 3 Neighbors are 0.3076 and 0.0\n",
      "median KNN Roc and Precision in 4 Neighbors are 0.2983 and 0.0\n",
      "median KNN Roc and Precision in 5 Neighbors are 0.298 and 0.0\n",
      "median KNN Roc and Precision in 10 Neighbors are 0.2944 and 0.0\n",
      "median KNN Roc and Precision in 15 Neighbors are 0.3005 and 0.0\n",
      "median KNN Roc and Precision in 20 Neighbors are 0.31 and 0.0\n",
      "median KNN Roc and Precision in 30 Neighbors are 0.3143 and 0.0\n",
      "median KNN Roc and Precision in 40 Neighbors are 0.3069 and 0.0\n",
      "median KNN Roc and Precision in 50 Neighbors are 0.3085 and 0.0\n",
      "median KNN Roc and Precision in 60 Neighbors are 0.3069 and 0.0\n",
      "median KNN Roc and Precision in 70 Neighbors are 0.3063 and 0.0\n",
      "median KNN Roc and Precision in 80 Neighbors are 0.3063 and 0.0\n",
      "median KNN Roc and Precision in 90 Neighbors are 0.3131 and 0.0\n",
      "median KNN Roc and Precision in 100 Neighbors are 0.3115 and 0.0\n",
      "\n",
      "\n",
      "Local Outlier Factor Roc and Precision in 1 Neighbors are 0.5912 and 0.0\n",
      "Local Outlier Factor Roc and Precision in 2 Neighbors are 0.6119 and 0.125\n",
      "Local Outlier Factor Roc and Precision in 3 Neighbors are 0.4946 and 0.0\n",
      "Local Outlier Factor Roc and Precision in 4 Neighbors are 0.4276 and 0.0\n",
      "Local Outlier Factor Roc and Precision in 5 Neighbors are 0.4788 and 0.0\n",
      "Local Outlier Factor Roc and Precision in 10 Neighbors are 0.566 and 0.1111\n",
      "Local Outlier Factor Roc and Precision in 15 Neighbors are 0.5821 and 0.0\n",
      "Local Outlier Factor Roc and Precision in 20 Neighbors are 0.5924 and 0.1111\n",
      "Local Outlier Factor Roc and Precision in 30 Neighbors are 0.5836 and 0.0\n",
      "Local Outlier Factor Roc and Precision in 40 Neighbors are 0.5803 and 0.0\n",
      "Local Outlier Factor Roc and Precision in 50 Neighbors are 0.5875 and 0.0\n"
     ]
    },
    {
     "name": "stderr",
     "output_type": "stream",
     "text": [
      "/Users/ziye.zhou/Documents/Work/cost_anomaly_detection/tensorflow-venv/lib/python3.7/site-packages/sklearn/metrics/_classification.py:1272: UndefinedMetricWarning: Precision is ill-defined and being set to 0.0 due to no predicted samples. Use `zero_division` parameter to control this behavior.\n",
      "  _warn_prf(average, modifier, msg_start, len(result))\n"
     ]
    },
    {
     "name": "stdout",
     "output_type": "stream",
     "text": [
      "Local Outlier Factor Roc and Precision in 60 Neighbors are 0.5935 and 0.0\n",
      "Local Outlier Factor Roc and Precision in 70 Neighbors are 0.6304 and 0.0\n",
      "Local Outlier Factor Roc and Precision in 80 Neighbors are 0.6329 and 0.0\n",
      "Local Outlier Factor Roc and Precision in 90 Neighbors are 0.632 and 0.0\n",
      "Local Outlier Factor Roc and Precision in 100 Neighbors are 0.6163 and 0.0\n",
      "\n",
      "\n",
      "Support Vector Machine Roc and Precision in 0.01 are 0.3002 and 0.0\n",
      "Support Vector Machine Roc and Precision in 0.1 are 0.3425 and 0.0\n",
      "Support Vector Machine Roc and Precision in 0.2 are 0.3788 and 0.0\n",
      "Support Vector Machine Roc and Precision in 0.3 are 0.3953 and 0.0\n",
      "Support Vector Machine Roc and Precision in 0.4 are 0.3987 and 0.0\n",
      "Support Vector Machine Roc and Precision in 0.5 are 0.4036 and 0.0\n",
      "Support Vector Machine Roc and Precision in 0.6 are 0.4064 and 0.0\n",
      "Support Vector Machine Roc and Precision in 0.7 are 0.4108 and 0.0\n",
      "Support Vector Machine Roc and Precision in 0.8 are 0.4176 and 0.0\n",
      "Support Vector Machine Roc and Precision in 0.9 are 0.4174 and 0.0\n",
      "Support Vector Machine Roc and Precision in 0.99 are 0.4205 and 0.0\n",
      "\n",
      "\n",
      "Isolation Forest Roc and Precision in 10 Estimators are 0.6188 and 0.0\n"
     ]
    },
    {
     "name": "stderr",
     "output_type": "stream",
     "text": [
      "/Users/ziye.zhou/Documents/Work/cost_anomaly_detection/tensorflow-venv/lib/python3.7/site-packages/sklearn/metrics/_classification.py:1272: UndefinedMetricWarning: Precision is ill-defined and being set to 0.0 due to no predicted samples. Use `zero_division` parameter to control this behavior.\n",
      "  _warn_prf(average, modifier, msg_start, len(result))\n",
      "/Users/ziye.zhou/Documents/Work/cost_anomaly_detection/tensorflow-venv/lib/python3.7/site-packages/sklearn/metrics/_classification.py:1272: UndefinedMetricWarning: Precision is ill-defined and being set to 0.0 due to no predicted samples. Use `zero_division` parameter to control this behavior.\n",
      "  _warn_prf(average, modifier, msg_start, len(result))\n",
      "/Users/ziye.zhou/Documents/Work/cost_anomaly_detection/tensorflow-venv/lib/python3.7/site-packages/sklearn/metrics/_classification.py:1272: UndefinedMetricWarning: Precision is ill-defined and being set to 0.0 due to no predicted samples. Use `zero_division` parameter to control this behavior.\n",
      "  _warn_prf(average, modifier, msg_start, len(result))\n"
     ]
    },
    {
     "name": "stdout",
     "output_type": "stream",
     "text": [
      "Isolation Forest Roc and Precision in 20 Estimators are 0.6272 and 0.0\n",
      "Isolation Forest Roc and Precision in 30 Estimators are 0.5494 and 0.0\n",
      "Isolation Forest Roc and Precision in 40 Estimators are 0.7083 and 0.0\n"
     ]
    },
    {
     "name": "stderr",
     "output_type": "stream",
     "text": [
      "/Users/ziye.zhou/Documents/Work/cost_anomaly_detection/tensorflow-venv/lib/python3.7/site-packages/sklearn/metrics/_classification.py:1272: UndefinedMetricWarning: Precision is ill-defined and being set to 0.0 due to no predicted samples. Use `zero_division` parameter to control this behavior.\n",
      "  _warn_prf(average, modifier, msg_start, len(result))\n",
      "/Users/ziye.zhou/Documents/Work/cost_anomaly_detection/tensorflow-venv/lib/python3.7/site-packages/sklearn/metrics/_classification.py:1272: UndefinedMetricWarning: Precision is ill-defined and being set to 0.0 due to no predicted samples. Use `zero_division` parameter to control this behavior.\n",
      "  _warn_prf(average, modifier, msg_start, len(result))\n"
     ]
    },
    {
     "name": "stdout",
     "output_type": "stream",
     "text": [
      "Isolation Forest Roc and Precision in 50 Estimators are 0.6871 and 0.0\n",
      "Isolation Forest Roc and Precision in 60 Estimators are 0.6934 and 0.0\n"
     ]
    },
    {
     "name": "stderr",
     "output_type": "stream",
     "text": [
      "/Users/ziye.zhou/Documents/Work/cost_anomaly_detection/tensorflow-venv/lib/python3.7/site-packages/sklearn/metrics/_classification.py:1272: UndefinedMetricWarning: Precision is ill-defined and being set to 0.0 due to no predicted samples. Use `zero_division` parameter to control this behavior.\n",
      "  _warn_prf(average, modifier, msg_start, len(result))\n",
      "/Users/ziye.zhou/Documents/Work/cost_anomaly_detection/tensorflow-venv/lib/python3.7/site-packages/sklearn/metrics/_classification.py:1272: UndefinedMetricWarning: Precision is ill-defined and being set to 0.0 due to no predicted samples. Use `zero_division` parameter to control this behavior.\n",
      "  _warn_prf(average, modifier, msg_start, len(result))\n"
     ]
    },
    {
     "name": "stdout",
     "output_type": "stream",
     "text": [
      "Isolation Forest Roc and Precision in 70 Estimators are 0.6489 and 0.0\n",
      "Isolation Forest Roc and Precision in 80 Estimators are 0.6196 and 0.0\n"
     ]
    },
    {
     "name": "stderr",
     "output_type": "stream",
     "text": [
      "/Users/ziye.zhou/Documents/Work/cost_anomaly_detection/tensorflow-venv/lib/python3.7/site-packages/sklearn/metrics/_classification.py:1272: UndefinedMetricWarning: Precision is ill-defined and being set to 0.0 due to no predicted samples. Use `zero_division` parameter to control this behavior.\n",
      "  _warn_prf(average, modifier, msg_start, len(result))\n",
      "/Users/ziye.zhou/Documents/Work/cost_anomaly_detection/tensorflow-venv/lib/python3.7/site-packages/sklearn/metrics/_classification.py:1272: UndefinedMetricWarning: Precision is ill-defined and being set to 0.0 due to no predicted samples. Use `zero_division` parameter to control this behavior.\n",
      "  _warn_prf(average, modifier, msg_start, len(result))\n"
     ]
    },
    {
     "name": "stdout",
     "output_type": "stream",
     "text": [
      "Isolation Forest Roc and Precision in 90 Estimators are 0.7693 and 0.0\n",
      "Isolation Forest Roc and Precision in 100 Estimators are 0.7526 and 0.0\n"
     ]
    },
    {
     "name": "stderr",
     "output_type": "stream",
     "text": [
      "/Users/ziye.zhou/Documents/Work/cost_anomaly_detection/tensorflow-venv/lib/python3.7/site-packages/sklearn/metrics/_classification.py:1272: UndefinedMetricWarning: Precision is ill-defined and being set to 0.0 due to no predicted samples. Use `zero_division` parameter to control this behavior.\n",
      "  _warn_prf(average, modifier, msg_start, len(result))\n",
      "/Users/ziye.zhou/Documents/Work/cost_anomaly_detection/tensorflow-venv/lib/python3.7/site-packages/sklearn/metrics/_classification.py:1272: UndefinedMetricWarning: Precision is ill-defined and being set to 0.0 due to no predicted samples. Use `zero_division` parameter to control this behavior.\n",
      "  _warn_prf(average, modifier, msg_start, len(result))\n"
     ]
    },
    {
     "name": "stdout",
     "output_type": "stream",
     "text": [
      "Isolation Forest Roc and Precision in 150 Estimators are 0.6971 and 0.0\n"
     ]
    },
    {
     "name": "stderr",
     "output_type": "stream",
     "text": [
      "/Users/ziye.zhou/Documents/Work/cost_anomaly_detection/tensorflow-venv/lib/python3.7/site-packages/sklearn/metrics/_classification.py:1272: UndefinedMetricWarning: Precision is ill-defined and being set to 0.0 due to no predicted samples. Use `zero_division` parameter to control this behavior.\n",
      "  _warn_prf(average, modifier, msg_start, len(result))\n"
     ]
    },
    {
     "name": "stdout",
     "output_type": "stream",
     "text": [
      "Isolation Forest Roc and Precision in 200 Estimators are 0.6604 and 0.0\n"
     ]
    },
    {
     "name": "stderr",
     "output_type": "stream",
     "text": [
      "/Users/ziye.zhou/Documents/Work/cost_anomaly_detection/tensorflow-venv/lib/python3.7/site-packages/sklearn/metrics/_classification.py:1272: UndefinedMetricWarning: Precision is ill-defined and being set to 0.0 due to no predicted samples. Use `zero_division` parameter to control this behavior.\n",
      "  _warn_prf(average, modifier, msg_start, len(result))\n"
     ]
    },
    {
     "name": "stdout",
     "output_type": "stream",
     "text": [
      "Isolation Forest Roc and Precision in 250 Estimators are 0.7161 and 0.0\n",
      "\n",
      "\n",
      "Processing Extreme_Grandient_Boost_\n"
     ]
    },
    {
     "name": "stderr",
     "output_type": "stream",
     "text": [
      "/Users/ziye.zhou/Documents/Work/cost_anomaly_detection/tensorflow-venv/lib/python3.7/site-packages/sklearn/metrics/_classification.py:1272: UndefinedMetricWarning: Precision is ill-defined and being set to 0.0 due to no predicted samples. Use `zero_division` parameter to control this behavior.\n",
      "  _warn_prf(average, modifier, msg_start, len(result))\n",
      "/Users/ziye.zhou/Documents/Work/cost_anomaly_detection/tensorflow-venv/lib/python3.7/site-packages/sklearn/metrics/_classification.py:1272: UndefinedMetricWarning: Precision is ill-defined and being set to 0.0 due to no predicted samples. Use `zero_division` parameter to control this behavior.\n",
      "  _warn_prf(average, modifier, msg_start, len(result))\n"
     ]
    },
    {
     "name": "stdout",
     "output_type": "stream",
     "text": [
      "Processing Random_Forest_\n"
     ]
    },
    {
     "name": "stderr",
     "output_type": "stream",
     "text": [
      "/Users/ziye.zhou/Documents/Work/cost_anomaly_detection/tensorflow-venv/lib/python3.7/site-packages/sklearn/metrics/_classification.py:1272: UndefinedMetricWarning: Precision is ill-defined and being set to 0.0 due to no predicted samples. Use `zero_division` parameter to control this behavior.\n",
      "  _warn_prf(average, modifier, msg_start, len(result))\n"
     ]
    },
    {
     "name": "stdout",
     "output_type": "stream",
     "text": [
      "\n",
      "\n",
      "Processing trial 2 out of 10 \n",
      "\n",
      "largest KNN Roc and Precision in 1 Neighbors are 0.3598 and 0.0\n",
      "largest KNN Roc and Precision in 2 Neighbors are 0.3344 and 0.0\n",
      "largest KNN Roc and Precision in 3 Neighbors are 0.3227 and 0.0\n",
      "largest KNN Roc and Precision in 4 Neighbors are 0.312 and 0.0\n",
      "largest KNN Roc and Precision in 5 Neighbors are 0.3292 and 0.0\n",
      "largest KNN Roc and Precision in 10 Neighbors are 0.3492 and 0.0\n",
      "largest KNN Roc and Precision in 15 Neighbors are 0.3468 and 0.0\n",
      "largest KNN Roc and Precision in 20 Neighbors are 0.3502 and 0.0\n",
      "largest KNN Roc and Precision in 30 Neighbors are 0.3512 and 0.0\n",
      "largest KNN Roc and Precision in 40 Neighbors are 0.3588 and 0.0\n",
      "largest KNN Roc and Precision in 50 Neighbors are 0.3557 and 0.0\n",
      "largest KNN Roc and Precision in 60 Neighbors are 0.3595 and 0.0\n",
      "largest KNN Roc and Precision in 70 Neighbors are 0.3633 and 0.0\n",
      "largest KNN Roc and Precision in 80 Neighbors are 0.3643 and 0.0\n",
      "largest KNN Roc and Precision in 90 Neighbors are 0.3671 and 0.0\n",
      "largest KNN Roc and Precision in 100 Neighbors are 0.3719 and 0.0\n",
      "\n",
      "\n",
      "mean KNN Roc and Precision in 1 Neighbors are 0.3598 and 0.0\n",
      "mean KNN Roc and Precision in 2 Neighbors are 0.3382 and 0.0\n",
      "mean KNN Roc and Precision in 3 Neighbors are 0.3278 and 0.0\n",
      "mean KNN Roc and Precision in 4 Neighbors are 0.3151 and 0.0\n",
      "mean KNN Roc and Precision in 5 Neighbors are 0.3147 and 0.0\n",
      "mean KNN Roc and Precision in 10 Neighbors are 0.3344 and 0.0\n",
      "mean KNN Roc and Precision in 15 Neighbors are 0.3375 and 0.0\n",
      "mean KNN Roc and Precision in 20 Neighbors are 0.3382 and 0.0\n",
      "mean KNN Roc and Precision in 30 Neighbors are 0.3437 and 0.0\n",
      "mean KNN Roc and Precision in 40 Neighbors are 0.345 and 0.0\n",
      "mean KNN Roc and Precision in 50 Neighbors are 0.3475 and 0.0\n",
      "mean KNN Roc and Precision in 60 Neighbors are 0.3519 and 0.0\n",
      "mean KNN Roc and Precision in 70 Neighbors are 0.3554 and 0.0\n",
      "mean KNN Roc and Precision in 80 Neighbors are 0.3564 and 0.0\n",
      "mean KNN Roc and Precision in 90 Neighbors are 0.3581 and 0.0\n",
      "mean KNN Roc and Precision in 100 Neighbors are 0.3609 and 0.0\n",
      "\n",
      "\n",
      "median KNN Roc and Precision in 1 Neighbors are 0.3598 and 0.0\n",
      "median KNN Roc and Precision in 2 Neighbors are 0.3382 and 0.0\n",
      "median KNN Roc and Precision in 3 Neighbors are 0.3344 and 0.0\n",
      "median KNN Roc and Precision in 4 Neighbors are 0.324 and 0.0\n",
      "median KNN Roc and Precision in 5 Neighbors are 0.3227 and 0.0\n",
      "median KNN Roc and Precision in 10 Neighbors are 0.334 and 0.0\n",
      "median KNN Roc and Precision in 15 Neighbors are 0.3375 and 0.0\n",
      "median KNN Roc and Precision in 20 Neighbors are 0.3509 and 0.0\n",
      "median KNN Roc and Precision in 30 Neighbors are 0.3433 and 0.0\n",
      "median KNN Roc and Precision in 40 Neighbors are 0.3523 and 0.0\n",
      "median KNN Roc and Precision in 50 Neighbors are 0.3519 and 0.0\n",
      "median KNN Roc and Precision in 60 Neighbors are 0.3526 and 0.0\n",
      "median KNN Roc and Precision in 70 Neighbors are 0.3537 and 0.0\n",
      "median KNN Roc and Precision in 80 Neighbors are 0.3592 and 0.0\n",
      "median KNN Roc and Precision in 90 Neighbors are 0.3595 and 0.0\n",
      "median KNN Roc and Precision in 100 Neighbors are 0.3557 and 0.0\n",
      "\n",
      "\n",
      "Local Outlier Factor Roc and Precision in 1 Neighbors are 0.4676 and 0.0\n",
      "Local Outlier Factor Roc and Precision in 2 Neighbors are 0.589 and 0.1429\n",
      "Local Outlier Factor Roc and Precision in 3 Neighbors are 0.6453 and 0.0\n",
      "Local Outlier Factor Roc and Precision in 4 Neighbors are 0.7948 and 0.0\n",
      "Local Outlier Factor Roc and Precision in 5 Neighbors are 0.7949 and 0.125\n",
      "Local Outlier Factor Roc and Precision in 10 Neighbors are 0.6281 and 0.0\n",
      "Local Outlier Factor Roc and Precision in 15 Neighbors are 0.5713 and 0.0\n",
      "Local Outlier Factor Roc and Precision in 20 Neighbors are 0.5005 and 0.0\n",
      "Local Outlier Factor Roc and Precision in 30 Neighbors are 0.4924 and 0.0\n",
      "Local Outlier Factor Roc and Precision in 40 Neighbors are 0.4935 and 0.0\n",
      "Local Outlier Factor Roc and Precision in 50 Neighbors are 0.4842 and 0.0\n"
     ]
    },
    {
     "name": "stderr",
     "output_type": "stream",
     "text": [
      "/Users/ziye.zhou/Documents/Work/cost_anomaly_detection/tensorflow-venv/lib/python3.7/site-packages/sklearn/metrics/_classification.py:1272: UndefinedMetricWarning: Precision is ill-defined and being set to 0.0 due to no predicted samples. Use `zero_division` parameter to control this behavior.\n",
      "  _warn_prf(average, modifier, msg_start, len(result))\n"
     ]
    },
    {
     "name": "stdout",
     "output_type": "stream",
     "text": [
      "Local Outlier Factor Roc and Precision in 60 Neighbors are 0.511 and 0.0\n",
      "Local Outlier Factor Roc and Precision in 70 Neighbors are 0.51 and 0.0\n",
      "Local Outlier Factor Roc and Precision in 80 Neighbors are 0.5213 and 0.0\n",
      "Local Outlier Factor Roc and Precision in 90 Neighbors are 0.5172 and 0.0\n",
      "Local Outlier Factor Roc and Precision in 100 Neighbors are 0.5062 and 0.0\n",
      "\n",
      "\n",
      "Support Vector Machine Roc and Precision in 0.01 are 0.3433 and 0.0\n",
      "Support Vector Machine Roc and Precision in 0.1 are 0.386 and 0.0\n",
      "Support Vector Machine Roc and Precision in 0.2 are 0.4277 and 0.0\n",
      "Support Vector Machine Roc and Precision in 0.3 are 0.439 and 0.0\n",
      "Support Vector Machine Roc and Precision in 0.4 are 0.439 and 0.0\n",
      "Support Vector Machine Roc and Precision in 0.5 are 0.4528 and 0.0\n",
      "Support Vector Machine Roc and Precision in 0.6 are 0.457 and 0.0\n",
      "Support Vector Machine Roc and Precision in 0.7 are 0.4638 and 0.0\n",
      "Support Vector Machine Roc and Precision in 0.8 are 0.4694 and 0.0\n",
      "Support Vector Machine Roc and Precision in 0.9 are 0.4711 and 0.0\n",
      "Support Vector Machine Roc and Precision in 0.99 are 0.4721 and 0.0\n",
      "\n",
      "\n",
      "Isolation Forest Roc and Precision in 10 Estimators are 0.6377 and 0.0\n",
      "Isolation Forest Roc and Precision in 20 Estimators are 0.6708 and 0.0\n",
      "Isolation Forest Roc and Precision in 30 Estimators are 0.7149 and 0.0\n"
     ]
    },
    {
     "name": "stderr",
     "output_type": "stream",
     "text": [
      "/Users/ziye.zhou/Documents/Work/cost_anomaly_detection/tensorflow-venv/lib/python3.7/site-packages/sklearn/metrics/_classification.py:1272: UndefinedMetricWarning: Precision is ill-defined and being set to 0.0 due to no predicted samples. Use `zero_division` parameter to control this behavior.\n",
      "  _warn_prf(average, modifier, msg_start, len(result))\n",
      "/Users/ziye.zhou/Documents/Work/cost_anomaly_detection/tensorflow-venv/lib/python3.7/site-packages/sklearn/metrics/_classification.py:1272: UndefinedMetricWarning: Precision is ill-defined and being set to 0.0 due to no predicted samples. Use `zero_division` parameter to control this behavior.\n",
      "  _warn_prf(average, modifier, msg_start, len(result))\n",
      "/Users/ziye.zhou/Documents/Work/cost_anomaly_detection/tensorflow-venv/lib/python3.7/site-packages/sklearn/metrics/_classification.py:1272: UndefinedMetricWarning: Precision is ill-defined and being set to 0.0 due to no predicted samples. Use `zero_division` parameter to control this behavior.\n",
      "  _warn_prf(average, modifier, msg_start, len(result))\n",
      "/Users/ziye.zhou/Documents/Work/cost_anomaly_detection/tensorflow-venv/lib/python3.7/site-packages/sklearn/metrics/_classification.py:1272: UndefinedMetricWarning: Precision is ill-defined and being set to 0.0 due to no predicted samples. Use `zero_division` parameter to control this behavior.\n",
      "  _warn_prf(average, modifier, msg_start, len(result))\n"
     ]
    },
    {
     "name": "stdout",
     "output_type": "stream",
     "text": [
      "Isolation Forest Roc and Precision in 40 Estimators are 0.6748 and 0.0\n",
      "Isolation Forest Roc and Precision in 50 Estimators are 0.7231 and 0.0\n"
     ]
    },
    {
     "name": "stderr",
     "output_type": "stream",
     "text": [
      "/Users/ziye.zhou/Documents/Work/cost_anomaly_detection/tensorflow-venv/lib/python3.7/site-packages/sklearn/metrics/_classification.py:1272: UndefinedMetricWarning: Precision is ill-defined and being set to 0.0 due to no predicted samples. Use `zero_division` parameter to control this behavior.\n",
      "  _warn_prf(average, modifier, msg_start, len(result))\n",
      "/Users/ziye.zhou/Documents/Work/cost_anomaly_detection/tensorflow-venv/lib/python3.7/site-packages/sklearn/metrics/_classification.py:1272: UndefinedMetricWarning: Precision is ill-defined and being set to 0.0 due to no predicted samples. Use `zero_division` parameter to control this behavior.\n",
      "  _warn_prf(average, modifier, msg_start, len(result))\n"
     ]
    },
    {
     "name": "stdout",
     "output_type": "stream",
     "text": [
      "Isolation Forest Roc and Precision in 60 Estimators are 0.6126 and 0.0\n",
      "Isolation Forest Roc and Precision in 70 Estimators are 0.6315 and 0.0\n"
     ]
    },
    {
     "name": "stderr",
     "output_type": "stream",
     "text": [
      "/Users/ziye.zhou/Documents/Work/cost_anomaly_detection/tensorflow-venv/lib/python3.7/site-packages/sklearn/metrics/_classification.py:1272: UndefinedMetricWarning: Precision is ill-defined and being set to 0.0 due to no predicted samples. Use `zero_division` parameter to control this behavior.\n",
      "  _warn_prf(average, modifier, msg_start, len(result))\n",
      "/Users/ziye.zhou/Documents/Work/cost_anomaly_detection/tensorflow-venv/lib/python3.7/site-packages/sklearn/metrics/_classification.py:1272: UndefinedMetricWarning: Precision is ill-defined and being set to 0.0 due to no predicted samples. Use `zero_division` parameter to control this behavior.\n",
      "  _warn_prf(average, modifier, msg_start, len(result))\n"
     ]
    },
    {
     "name": "stdout",
     "output_type": "stream",
     "text": [
      "Isolation Forest Roc and Precision in 80 Estimators are 0.6832 and 0.0\n",
      "Isolation Forest Roc and Precision in 90 Estimators are 0.6952 and 0.0\n"
     ]
    },
    {
     "name": "stderr",
     "output_type": "stream",
     "text": [
      "/Users/ziye.zhou/Documents/Work/cost_anomaly_detection/tensorflow-venv/lib/python3.7/site-packages/sklearn/metrics/_classification.py:1272: UndefinedMetricWarning: Precision is ill-defined and being set to 0.0 due to no predicted samples. Use `zero_division` parameter to control this behavior.\n",
      "  _warn_prf(average, modifier, msg_start, len(result))\n",
      "/Users/ziye.zhou/Documents/Work/cost_anomaly_detection/tensorflow-venv/lib/python3.7/site-packages/sklearn/metrics/_classification.py:1272: UndefinedMetricWarning: Precision is ill-defined and being set to 0.0 due to no predicted samples. Use `zero_division` parameter to control this behavior.\n",
      "  _warn_prf(average, modifier, msg_start, len(result))\n"
     ]
    },
    {
     "name": "stdout",
     "output_type": "stream",
     "text": [
      "Isolation Forest Roc and Precision in 100 Estimators are 0.668 and 0.0\n"
     ]
    },
    {
     "name": "stderr",
     "output_type": "stream",
     "text": [
      "/Users/ziye.zhou/Documents/Work/cost_anomaly_detection/tensorflow-venv/lib/python3.7/site-packages/sklearn/metrics/_classification.py:1272: UndefinedMetricWarning: Precision is ill-defined and being set to 0.0 due to no predicted samples. Use `zero_division` parameter to control this behavior.\n",
      "  _warn_prf(average, modifier, msg_start, len(result))\n"
     ]
    },
    {
     "name": "stdout",
     "output_type": "stream",
     "text": [
      "Isolation Forest Roc and Precision in 150 Estimators are 0.6939 and 0.0\n"
     ]
    },
    {
     "name": "stderr",
     "output_type": "stream",
     "text": [
      "/Users/ziye.zhou/Documents/Work/cost_anomaly_detection/tensorflow-venv/lib/python3.7/site-packages/sklearn/metrics/_classification.py:1272: UndefinedMetricWarning: Precision is ill-defined and being set to 0.0 due to no predicted samples. Use `zero_division` parameter to control this behavior.\n",
      "  _warn_prf(average, modifier, msg_start, len(result))\n"
     ]
    },
    {
     "name": "stdout",
     "output_type": "stream",
     "text": [
      "Isolation Forest Roc and Precision in 200 Estimators are 0.6586 and 0.0\n"
     ]
    },
    {
     "name": "stderr",
     "output_type": "stream",
     "text": [
      "/Users/ziye.zhou/Documents/Work/cost_anomaly_detection/tensorflow-venv/lib/python3.7/site-packages/sklearn/metrics/_classification.py:1272: UndefinedMetricWarning: Precision is ill-defined and being set to 0.0 due to no predicted samples. Use `zero_division` parameter to control this behavior.\n",
      "  _warn_prf(average, modifier, msg_start, len(result))\n"
     ]
    },
    {
     "name": "stdout",
     "output_type": "stream",
     "text": [
      "Isolation Forest Roc and Precision in 250 Estimators are 0.6402 and 0.0\n",
      "\n",
      "\n",
      "Processing Extreme_Grandient_Boost_\n"
     ]
    },
    {
     "name": "stderr",
     "output_type": "stream",
     "text": [
      "/Users/ziye.zhou/Documents/Work/cost_anomaly_detection/tensorflow-venv/lib/python3.7/site-packages/sklearn/metrics/_classification.py:1272: UndefinedMetricWarning: Precision is ill-defined and being set to 0.0 due to no predicted samples. Use `zero_division` parameter to control this behavior.\n",
      "  _warn_prf(average, modifier, msg_start, len(result))\n",
      "/Users/ziye.zhou/Documents/Work/cost_anomaly_detection/tensorflow-venv/lib/python3.7/site-packages/sklearn/metrics/_classification.py:1272: UndefinedMetricWarning: Precision is ill-defined and being set to 0.0 due to no predicted samples. Use `zero_division` parameter to control this behavior.\n",
      "  _warn_prf(average, modifier, msg_start, len(result))\n"
     ]
    },
    {
     "name": "stdout",
     "output_type": "stream",
     "text": [
      "Processing Random_Forest_\n"
     ]
    },
    {
     "name": "stderr",
     "output_type": "stream",
     "text": [
      "/Users/ziye.zhou/Documents/Work/cost_anomaly_detection/tensorflow-venv/lib/python3.7/site-packages/sklearn/metrics/_classification.py:1272: UndefinedMetricWarning: Precision is ill-defined and being set to 0.0 due to no predicted samples. Use `zero_division` parameter to control this behavior.\n",
      "  _warn_prf(average, modifier, msg_start, len(result))\n"
     ]
    },
    {
     "name": "stdout",
     "output_type": "stream",
     "text": [
      "\n",
      "\n",
      "Processing trial 3 out of 10 \n",
      "\n",
      "largest KNN Roc and Precision in 1 Neighbors are 0.3659 and 0.0\n",
      "largest KNN Roc and Precision in 2 Neighbors are 0.3415 and 0.0\n",
      "largest KNN Roc and Precision in 3 Neighbors are 0.3238 and 0.0\n",
      "largest KNN Roc and Precision in 4 Neighbors are 0.3184 and 0.0\n",
      "largest KNN Roc and Precision in 5 Neighbors are 0.3225 and 0.0\n",
      "largest KNN Roc and Precision in 10 Neighbors are 0.3266 and 0.0\n",
      "largest KNN Roc and Precision in 15 Neighbors are 0.3252 and 0.0\n",
      "largest KNN Roc and Precision in 20 Neighbors are 0.3225 and 0.0\n",
      "largest KNN Roc and Precision in 30 Neighbors are 0.3211 and 0.0\n",
      "largest KNN Roc and Precision in 40 Neighbors are 0.3211 and 0.0\n",
      "largest KNN Roc and Precision in 50 Neighbors are 0.3184 and 0.0\n",
      "largest KNN Roc and Precision in 60 Neighbors are 0.3238 and 0.0\n",
      "largest KNN Roc and Precision in 70 Neighbors are 0.3238 and 0.0\n",
      "largest KNN Roc and Precision in 80 Neighbors are 0.3238 and 0.0\n",
      "largest KNN Roc and Precision in 90 Neighbors are 0.3238 and 0.0\n",
      "largest KNN Roc and Precision in 100 Neighbors are 0.3238 and 0.0\n",
      "\n",
      "\n",
      "mean KNN Roc and Precision in 1 Neighbors are 0.3659 and 0.0\n",
      "mean KNN Roc and Precision in 2 Neighbors are 0.3428 and 0.0\n",
      "mean KNN Roc and Precision in 3 Neighbors are 0.3279 and 0.0\n",
      "mean KNN Roc and Precision in 4 Neighbors are 0.3225 and 0.0\n",
      "mean KNN Roc and Precision in 5 Neighbors are 0.3157 and 0.0\n",
      "mean KNN Roc and Precision in 10 Neighbors are 0.3211 and 0.0\n",
      "mean KNN Roc and Precision in 15 Neighbors are 0.3238 and 0.0\n",
      "mean KNN Roc and Precision in 20 Neighbors are 0.3225 and 0.0\n",
      "mean KNN Roc and Precision in 30 Neighbors are 0.3198 and 0.0\n",
      "mean KNN Roc and Precision in 40 Neighbors are 0.3211 and 0.0\n",
      "mean KNN Roc and Precision in 50 Neighbors are 0.3211 and 0.0\n",
      "mean KNN Roc and Precision in 60 Neighbors are 0.3211 and 0.0\n",
      "mean KNN Roc and Precision in 70 Neighbors are 0.3211 and 0.0\n",
      "mean KNN Roc and Precision in 80 Neighbors are 0.3211 and 0.0\n",
      "mean KNN Roc and Precision in 90 Neighbors are 0.3225 and 0.0\n",
      "mean KNN Roc and Precision in 100 Neighbors are 0.3225 and 0.0\n",
      "\n",
      "\n",
      "median KNN Roc and Precision in 1 Neighbors are 0.3659 and 0.0\n",
      "median KNN Roc and Precision in 2 Neighbors are 0.3428 and 0.0\n",
      "median KNN Roc and Precision in 3 Neighbors are 0.3415 and 0.0\n",
      "median KNN Roc and Precision in 4 Neighbors are 0.3252 and 0.0\n",
      "median KNN Roc and Precision in 5 Neighbors are 0.3238 and 0.0\n",
      "median KNN Roc and Precision in 10 Neighbors are 0.3171 and 0.0\n",
      "median KNN Roc and Precision in 15 Neighbors are 0.3293 and 0.0\n",
      "median KNN Roc and Precision in 20 Neighbors are 0.3252 and 0.0\n",
      "median KNN Roc and Precision in 30 Neighbors are 0.3252 and 0.0\n",
      "median KNN Roc and Precision in 40 Neighbors are 0.3225 and 0.0\n",
      "median KNN Roc and Precision in 50 Neighbors are 0.3211 and 0.0\n",
      "median KNN Roc and Precision in 60 Neighbors are 0.3211 and 0.0\n",
      "median KNN Roc and Precision in 70 Neighbors are 0.3211 and 0.0\n",
      "median KNN Roc and Precision in 80 Neighbors are 0.3211 and 0.0\n",
      "median KNN Roc and Precision in 90 Neighbors are 0.3211 and 0.0\n",
      "median KNN Roc and Precision in 100 Neighbors are 0.3184 and 0.0\n",
      "\n",
      "\n",
      "Local Outlier Factor Roc and Precision in 1 Neighbors are 0.5081 and 0.0\n",
      "Local Outlier Factor Roc and Precision in 2 Neighbors are 0.5623 and 0.0\n",
      "Local Outlier Factor Roc and Precision in 3 Neighbors are 0.9553 and 0.0\n",
      "Local Outlier Factor Roc and Precision in 4 Neighbors are 0.8211 and 0.0\n",
      "Local Outlier Factor Roc and Precision in 5 Neighbors are 0.5142 and 0.0\n",
      "Local Outlier Factor Roc and Precision in 10 Neighbors are 0.2696 and 0.0\n",
      "Local Outlier Factor Roc and Precision in 15 Neighbors are 0.2412 and 0.0\n",
      "Local Outlier Factor Roc and Precision in 20 Neighbors are 0.2493 and 0.0\n",
      "Local Outlier Factor Roc and Precision in 30 Neighbors are 0.3008 and 0.0\n",
      "Local Outlier Factor Roc and Precision in 40 Neighbors are 0.2778 and 0.0\n",
      "Local Outlier Factor Roc and Precision in 50 Neighbors are 0.2846 and 0.0\n",
      "Local Outlier Factor Roc and Precision in 60 Neighbors are 0.2615 and 0.0\n"
     ]
    },
    {
     "name": "stderr",
     "output_type": "stream",
     "text": [
      "/Users/ziye.zhou/Documents/Work/cost_anomaly_detection/tensorflow-venv/lib/python3.7/site-packages/sklearn/metrics/_classification.py:1272: UndefinedMetricWarning: Precision is ill-defined and being set to 0.0 due to no predicted samples. Use `zero_division` parameter to control this behavior.\n",
      "  _warn_prf(average, modifier, msg_start, len(result))\n"
     ]
    },
    {
     "name": "stdout",
     "output_type": "stream",
     "text": [
      "Local Outlier Factor Roc and Precision in 70 Neighbors are 0.2954 and 0.0\n",
      "Local Outlier Factor Roc and Precision in 80 Neighbors are 0.2791 and 0.0\n",
      "Local Outlier Factor Roc and Precision in 90 Neighbors are 0.2805 and 0.0\n",
      "Local Outlier Factor Roc and Precision in 100 Neighbors are 0.2846 and 0.0\n",
      "\n",
      "\n",
      "Support Vector Machine Roc and Precision in 0.01 are 0.3388 and 0.0\n",
      "Support Vector Machine Roc and Precision in 0.1 are 0.3862 and 0.0\n",
      "Support Vector Machine Roc and Precision in 0.2 are 0.4268 and 0.0\n",
      "Support Vector Machine Roc and Precision in 0.3 are 0.435 and 0.0\n",
      "Support Vector Machine Roc and Precision in 0.4 are 0.4404 and 0.0\n",
      "Support Vector Machine Roc and Precision in 0.5 are 0.4404 and 0.0\n",
      "Support Vector Machine Roc and Precision in 0.6 are 0.4553 and 0.0\n",
      "Support Vector Machine Roc and Precision in 0.7 are 0.4593 and 0.0\n",
      "Support Vector Machine Roc and Precision in 0.8 are 0.4661 and 0.0\n",
      "Support Vector Machine Roc and Precision in 0.9 are 0.4661 and 0.0\n",
      "Support Vector Machine Roc and Precision in 0.99 are 0.4688 and 0.0\n",
      "\n",
      "\n",
      "Isolation Forest Roc and Precision in 10 Estimators are 0.6816 and 0.0\n"
     ]
    },
    {
     "name": "stderr",
     "output_type": "stream",
     "text": [
      "/Users/ziye.zhou/Documents/Work/cost_anomaly_detection/tensorflow-venv/lib/python3.7/site-packages/sklearn/metrics/_classification.py:1272: UndefinedMetricWarning: Precision is ill-defined and being set to 0.0 due to no predicted samples. Use `zero_division` parameter to control this behavior.\n",
      "  _warn_prf(average, modifier, msg_start, len(result))\n",
      "/Users/ziye.zhou/Documents/Work/cost_anomaly_detection/tensorflow-venv/lib/python3.7/site-packages/sklearn/metrics/_classification.py:1272: UndefinedMetricWarning: Precision is ill-defined and being set to 0.0 due to no predicted samples. Use `zero_division` parameter to control this behavior.\n",
      "  _warn_prf(average, modifier, msg_start, len(result))\n",
      "/Users/ziye.zhou/Documents/Work/cost_anomaly_detection/tensorflow-venv/lib/python3.7/site-packages/sklearn/metrics/_classification.py:1272: UndefinedMetricWarning: Precision is ill-defined and being set to 0.0 due to no predicted samples. Use `zero_division` parameter to control this behavior.\n",
      "  _warn_prf(average, modifier, msg_start, len(result))\n",
      "/Users/ziye.zhou/Documents/Work/cost_anomaly_detection/tensorflow-venv/lib/python3.7/site-packages/sklearn/metrics/_classification.py:1272: UndefinedMetricWarning: Precision is ill-defined and being set to 0.0 due to no predicted samples. Use `zero_division` parameter to control this behavior.\n",
      "  _warn_prf(average, modifier, msg_start, len(result))\n"
     ]
    },
    {
     "name": "stdout",
     "output_type": "stream",
     "text": [
      "Isolation Forest Roc and Precision in 20 Estimators are 0.7507 and 0.0\n",
      "Isolation Forest Roc and Precision in 30 Estimators are 0.7818 and 0.0\n",
      "Isolation Forest Roc and Precision in 40 Estimators are 0.7209 and 0.0\n"
     ]
    },
    {
     "name": "stderr",
     "output_type": "stream",
     "text": [
      "/Users/ziye.zhou/Documents/Work/cost_anomaly_detection/tensorflow-venv/lib/python3.7/site-packages/sklearn/metrics/_classification.py:1272: UndefinedMetricWarning: Precision is ill-defined and being set to 0.0 due to no predicted samples. Use `zero_division` parameter to control this behavior.\n",
      "  _warn_prf(average, modifier, msg_start, len(result))\n",
      "/Users/ziye.zhou/Documents/Work/cost_anomaly_detection/tensorflow-venv/lib/python3.7/site-packages/sklearn/metrics/_classification.py:1272: UndefinedMetricWarning: Precision is ill-defined and being set to 0.0 due to no predicted samples. Use `zero_division` parameter to control this behavior.\n",
      "  _warn_prf(average, modifier, msg_start, len(result))\n"
     ]
    },
    {
     "name": "stdout",
     "output_type": "stream",
     "text": [
      "Isolation Forest Roc and Precision in 50 Estimators are 0.7724 and 0.0\n",
      "Isolation Forest Roc and Precision in 60 Estimators are 0.7602 and 0.0\n"
     ]
    },
    {
     "name": "stderr",
     "output_type": "stream",
     "text": [
      "/Users/ziye.zhou/Documents/Work/cost_anomaly_detection/tensorflow-venv/lib/python3.7/site-packages/sklearn/metrics/_classification.py:1272: UndefinedMetricWarning: Precision is ill-defined and being set to 0.0 due to no predicted samples. Use `zero_division` parameter to control this behavior.\n",
      "  _warn_prf(average, modifier, msg_start, len(result))\n",
      "/Users/ziye.zhou/Documents/Work/cost_anomaly_detection/tensorflow-venv/lib/python3.7/site-packages/sklearn/metrics/_classification.py:1272: UndefinedMetricWarning: Precision is ill-defined and being set to 0.0 due to no predicted samples. Use `zero_division` parameter to control this behavior.\n",
      "  _warn_prf(average, modifier, msg_start, len(result))\n"
     ]
    },
    {
     "name": "stdout",
     "output_type": "stream",
     "text": [
      "Isolation Forest Roc and Precision in 70 Estimators are 0.6958 and 0.0\n",
      "Isolation Forest Roc and Precision in 80 Estimators are 0.6579 and 0.0\n"
     ]
    },
    {
     "name": "stderr",
     "output_type": "stream",
     "text": [
      "/Users/ziye.zhou/Documents/Work/cost_anomaly_detection/tensorflow-venv/lib/python3.7/site-packages/sklearn/metrics/_classification.py:1272: UndefinedMetricWarning: Precision is ill-defined and being set to 0.0 due to no predicted samples. Use `zero_division` parameter to control this behavior.\n",
      "  _warn_prf(average, modifier, msg_start, len(result))\n",
      "/Users/ziye.zhou/Documents/Work/cost_anomaly_detection/tensorflow-venv/lib/python3.7/site-packages/sklearn/metrics/_classification.py:1272: UndefinedMetricWarning: Precision is ill-defined and being set to 0.0 due to no predicted samples. Use `zero_division` parameter to control this behavior.\n",
      "  _warn_prf(average, modifier, msg_start, len(result))\n"
     ]
    },
    {
     "name": "stdout",
     "output_type": "stream",
     "text": [
      "Isolation Forest Roc and Precision in 90 Estimators are 0.7588 and 0.0\n",
      "Isolation Forest Roc and Precision in 100 Estimators are 0.7696 and 0.0\n"
     ]
    },
    {
     "name": "stderr",
     "output_type": "stream",
     "text": [
      "/Users/ziye.zhou/Documents/Work/cost_anomaly_detection/tensorflow-venv/lib/python3.7/site-packages/sklearn/metrics/_classification.py:1272: UndefinedMetricWarning: Precision is ill-defined and being set to 0.0 due to no predicted samples. Use `zero_division` parameter to control this behavior.\n",
      "  _warn_prf(average, modifier, msg_start, len(result))\n"
     ]
    },
    {
     "name": "stdout",
     "output_type": "stream",
     "text": [
      "Isolation Forest Roc and Precision in 150 Estimators are 0.7873 and 0.0\n"
     ]
    },
    {
     "name": "stderr",
     "output_type": "stream",
     "text": [
      "/Users/ziye.zhou/Documents/Work/cost_anomaly_detection/tensorflow-venv/lib/python3.7/site-packages/sklearn/metrics/_classification.py:1272: UndefinedMetricWarning: Precision is ill-defined and being set to 0.0 due to no predicted samples. Use `zero_division` parameter to control this behavior.\n",
      "  _warn_prf(average, modifier, msg_start, len(result))\n"
     ]
    },
    {
     "name": "stdout",
     "output_type": "stream",
     "text": [
      "Isolation Forest Roc and Precision in 200 Estimators are 0.6775 and 0.0\n"
     ]
    },
    {
     "name": "stderr",
     "output_type": "stream",
     "text": [
      "/Users/ziye.zhou/Documents/Work/cost_anomaly_detection/tensorflow-venv/lib/python3.7/site-packages/sklearn/metrics/_classification.py:1272: UndefinedMetricWarning: Precision is ill-defined and being set to 0.0 due to no predicted samples. Use `zero_division` parameter to control this behavior.\n",
      "  _warn_prf(average, modifier, msg_start, len(result))\n"
     ]
    },
    {
     "name": "stdout",
     "output_type": "stream",
     "text": [
      "Isolation Forest Roc and Precision in 250 Estimators are 0.7182 and 0.0\n",
      "\n",
      "\n",
      "Processing Extreme_Grandient_Boost_\n"
     ]
    },
    {
     "name": "stderr",
     "output_type": "stream",
     "text": [
      "/Users/ziye.zhou/Documents/Work/cost_anomaly_detection/tensorflow-venv/lib/python3.7/site-packages/sklearn/metrics/_classification.py:1272: UndefinedMetricWarning: Precision is ill-defined and being set to 0.0 due to no predicted samples. Use `zero_division` parameter to control this behavior.\n",
      "  _warn_prf(average, modifier, msg_start, len(result))\n",
      "/Users/ziye.zhou/Documents/Work/cost_anomaly_detection/tensorflow-venv/lib/python3.7/site-packages/sklearn/metrics/_classification.py:1272: UndefinedMetricWarning: Precision is ill-defined and being set to 0.0 due to no predicted samples. Use `zero_division` parameter to control this behavior.\n",
      "  _warn_prf(average, modifier, msg_start, len(result))\n"
     ]
    },
    {
     "name": "stdout",
     "output_type": "stream",
     "text": [
      "Processing Random_Forest_\n",
      "\n",
      "\n",
      "Processing trial 4 out of 10 \n",
      "\n",
      "largest KNN Roc and Precision in 1 Neighbors are 0.3233 and 0.0\n",
      "largest KNN Roc and Precision in 2 Neighbors are 0.2895 and 0.0\n",
      "largest KNN Roc and Precision in 3 Neighbors are 0.2662 and 0.0\n",
      "largest KNN Roc and Precision in 4 Neighbors are 0.2607 and 0.0\n",
      "largest KNN Roc and Precision in 5 Neighbors are 0.2735 and 0.0\n",
      "largest KNN Roc and Precision in 10 Neighbors are 0.3009 and 0.0\n",
      "largest KNN Roc and Precision in 15 Neighbors are 0.3087 and 0.0\n",
      "largest KNN Roc and Precision in 20 Neighbors are 0.3215 and 0.0\n",
      "largest KNN Roc and Precision in 30 Neighbors are 0.3215 and 0.0\n",
      "largest KNN Roc and Precision in 40 Neighbors are 0.3142 and 0.0\n",
      "largest KNN Roc and Precision in 50 Neighbors are 0.3155 and 0.0\n",
      "largest KNN Roc and Precision in 60 Neighbors are 0.3132 and 0.0\n",
      "largest KNN Roc and Precision in 70 Neighbors are 0.3187 and 0.0\n",
      "largest KNN Roc and Precision in 80 Neighbors are 0.3256 and 0.0\n",
      "largest KNN Roc and Precision in 90 Neighbors are 0.3347 and 0.0\n",
      "largest KNN Roc and Precision in 100 Neighbors are 0.3356 and 0.0\n",
      "\n",
      "\n",
      "mean KNN Roc and Precision in 1 Neighbors are 0.3233 and 0.0\n",
      "mean KNN Roc and Precision in 2 Neighbors are 0.2995 and 0.0\n",
      "mean KNN Roc and Precision in 3 Neighbors are 0.2772 and 0.0\n",
      "mean KNN Roc and Precision in 4 Neighbors are 0.2712 and 0.0\n",
      "mean KNN Roc and Precision in 5 Neighbors are 0.2662 and 0.0\n",
      "mean KNN Roc and Precision in 10 Neighbors are 0.2863 and 0.0\n",
      "mean KNN Roc and Precision in 15 Neighbors are 0.3018 and 0.0\n",
      "mean KNN Roc and Precision in 20 Neighbors are 0.3014 and 0.0\n",
      "mean KNN Roc and Precision in 30 Neighbors are 0.3078 and 0.0\n",
      "mean KNN Roc and Precision in 40 Neighbors are 0.3087 and 0.0\n",
      "mean KNN Roc and Precision in 50 Neighbors are 0.311 and 0.0\n",
      "mean KNN Roc and Precision in 60 Neighbors are 0.3119 and 0.0\n",
      "mean KNN Roc and Precision in 70 Neighbors are 0.3114 and 0.0\n",
      "mean KNN Roc and Precision in 80 Neighbors are 0.3142 and 0.0\n",
      "mean KNN Roc and Precision in 90 Neighbors are 0.3164 and 0.0\n",
      "mean KNN Roc and Precision in 100 Neighbors are 0.3174 and 0.0\n",
      "\n",
      "\n",
      "median KNN Roc and Precision in 1 Neighbors are 0.3233 and 0.0\n",
      "median KNN Roc and Precision in 2 Neighbors are 0.2995 and 0.0\n",
      "median KNN Roc and Precision in 3 Neighbors are 0.2895 and 0.0\n",
      "median KNN Roc and Precision in 4 Neighbors are 0.2689 and 0.0\n",
      "median KNN Roc and Precision in 5 Neighbors are 0.2662 and 0.0\n",
      "median KNN Roc and Precision in 10 Neighbors are 0.2758 and 0.0\n",
      "median KNN Roc and Precision in 15 Neighbors are 0.2973 and 0.0\n",
      "median KNN Roc and Precision in 20 Neighbors are 0.3023 and 0.0\n",
      "median KNN Roc and Precision in 30 Neighbors are 0.3087 and 0.0\n",
      "median KNN Roc and Precision in 40 Neighbors are 0.3192 and 0.0\n",
      "median KNN Roc and Precision in 50 Neighbors are 0.3151 and 0.0\n",
      "median KNN Roc and Precision in 60 Neighbors are 0.3192 and 0.0\n",
      "median KNN Roc and Precision in 70 Neighbors are 0.3215 and 0.0\n",
      "median KNN Roc and Precision in 80 Neighbors are 0.3169 and 0.0\n",
      "median KNN Roc and Precision in 90 Neighbors are 0.3192 and 0.0\n",
      "median KNN Roc and Precision in 100 Neighbors are 0.3164 and 0.0\n",
      "\n",
      "\n",
      "Local Outlier Factor Roc and Precision in 1 Neighbors are 0.547 and 0.0\n",
      "Local Outlier Factor Roc and Precision in 2 Neighbors are 0.5562 and 0.0\n",
      "Local Outlier Factor Roc and Precision in 3 Neighbors are 0.808 and 0.0\n",
      "Local Outlier Factor Roc and Precision in 4 Neighbors are 0.7454 and 0.0\n",
      "Local Outlier Factor Roc and Precision in 5 Neighbors are 0.6475 and 0.0\n",
      "Local Outlier Factor Roc and Precision in 10 Neighbors are 0.7205 and 0.0\n",
      "Local Outlier Factor Roc and Precision in 15 Neighbors are 0.7543 and 0.0\n",
      "Local Outlier Factor Roc and Precision in 20 Neighbors are 0.7144 and 0.0\n",
      "Local Outlier Factor Roc and Precision in 30 Neighbors are 0.7142 and 0.0\n",
      "Local Outlier Factor Roc and Precision in 40 Neighbors are 0.7283 and 0.0\n",
      "Local Outlier Factor Roc and Precision in 50 Neighbors are 0.716 and 0.0\n"
     ]
    },
    {
     "name": "stderr",
     "output_type": "stream",
     "text": [
      "/Users/ziye.zhou/Documents/Work/cost_anomaly_detection/tensorflow-venv/lib/python3.7/site-packages/sklearn/metrics/_classification.py:1272: UndefinedMetricWarning: Precision is ill-defined and being set to 0.0 due to no predicted samples. Use `zero_division` parameter to control this behavior.\n",
      "  _warn_prf(average, modifier, msg_start, len(result))\n",
      "/Users/ziye.zhou/Documents/Work/cost_anomaly_detection/tensorflow-venv/lib/python3.7/site-packages/sklearn/metrics/_classification.py:1272: UndefinedMetricWarning: Precision is ill-defined and being set to 0.0 due to no predicted samples. Use `zero_division` parameter to control this behavior.\n",
      "  _warn_prf(average, modifier, msg_start, len(result))\n"
     ]
    },
    {
     "name": "stdout",
     "output_type": "stream",
     "text": [
      "Local Outlier Factor Roc and Precision in 60 Neighbors are 0.7311 and 0.0\n",
      "Local Outlier Factor Roc and Precision in 70 Neighbors are 0.7297 and 0.0\n",
      "Local Outlier Factor Roc and Precision in 80 Neighbors are 0.7479 and 0.0\n",
      "Local Outlier Factor Roc and Precision in 90 Neighbors are 0.7315 and 0.0\n",
      "Local Outlier Factor Roc and Precision in 100 Neighbors are 0.7215 and 0.0\n",
      "\n",
      "\n",
      "Support Vector Machine Roc and Precision in 0.01 are 0.2849 and 0.0\n",
      "Support Vector Machine Roc and Precision in 0.1 are 0.3219 and 0.0\n",
      "Support Vector Machine Roc and Precision in 0.2 are 0.3575 and 0.0\n",
      "Support Vector Machine Roc and Precision in 0.3 are 0.3712 and 0.0\n",
      "Support Vector Machine Roc and Precision in 0.4 are 0.3868 and 0.0\n",
      "Support Vector Machine Roc and Precision in 0.5 are 0.3973 and 0.0\n",
      "Support Vector Machine Roc and Precision in 0.6 are 0.4068 and 0.0\n",
      "Support Vector Machine Roc and Precision in 0.7 are 0.4142 and 0.0\n",
      "Support Vector Machine Roc and Precision in 0.8 are 0.4178 and 0.0\n",
      "Support Vector Machine Roc and Precision in 0.9 are 0.4178 and 0.0\n",
      "Support Vector Machine Roc and Precision in 0.99 are 0.4178 and 0.0\n",
      "\n",
      "\n",
      "Isolation Forest Roc and Precision in 10 Estimators are 0.5847 and 0.0\n"
     ]
    },
    {
     "name": "stderr",
     "output_type": "stream",
     "text": [
      "/Users/ziye.zhou/Documents/Work/cost_anomaly_detection/tensorflow-venv/lib/python3.7/site-packages/sklearn/metrics/_classification.py:1272: UndefinedMetricWarning: Precision is ill-defined and being set to 0.0 due to no predicted samples. Use `zero_division` parameter to control this behavior.\n",
      "  _warn_prf(average, modifier, msg_start, len(result))\n",
      "/Users/ziye.zhou/Documents/Work/cost_anomaly_detection/tensorflow-venv/lib/python3.7/site-packages/sklearn/metrics/_classification.py:1272: UndefinedMetricWarning: Precision is ill-defined and being set to 0.0 due to no predicted samples. Use `zero_division` parameter to control this behavior.\n",
      "  _warn_prf(average, modifier, msg_start, len(result))\n",
      "/Users/ziye.zhou/Documents/Work/cost_anomaly_detection/tensorflow-venv/lib/python3.7/site-packages/sklearn/metrics/_classification.py:1272: UndefinedMetricWarning: Precision is ill-defined and being set to 0.0 due to no predicted samples. Use `zero_division` parameter to control this behavior.\n",
      "  _warn_prf(average, modifier, msg_start, len(result))\n",
      "/Users/ziye.zhou/Documents/Work/cost_anomaly_detection/tensorflow-venv/lib/python3.7/site-packages/sklearn/metrics/_classification.py:1272: UndefinedMetricWarning: Precision is ill-defined and being set to 0.0 due to no predicted samples. Use `zero_division` parameter to control this behavior.\n",
      "  _warn_prf(average, modifier, msg_start, len(result))\n"
     ]
    },
    {
     "name": "stdout",
     "output_type": "stream",
     "text": [
      "Isolation Forest Roc and Precision in 20 Estimators are 0.6603 and 0.0\n",
      "Isolation Forest Roc and Precision in 30 Estimators are 0.6386 and 0.0\n",
      "Isolation Forest Roc and Precision in 40 Estimators are 0.6918 and 0.0\n"
     ]
    },
    {
     "name": "stderr",
     "output_type": "stream",
     "text": [
      "/Users/ziye.zhou/Documents/Work/cost_anomaly_detection/tensorflow-venv/lib/python3.7/site-packages/sklearn/metrics/_classification.py:1272: UndefinedMetricWarning: Precision is ill-defined and being set to 0.0 due to no predicted samples. Use `zero_division` parameter to control this behavior.\n",
      "  _warn_prf(average, modifier, msg_start, len(result))\n",
      "/Users/ziye.zhou/Documents/Work/cost_anomaly_detection/tensorflow-venv/lib/python3.7/site-packages/sklearn/metrics/_classification.py:1272: UndefinedMetricWarning: Precision is ill-defined and being set to 0.0 due to no predicted samples. Use `zero_division` parameter to control this behavior.\n",
      "  _warn_prf(average, modifier, msg_start, len(result))\n"
     ]
    },
    {
     "name": "stdout",
     "output_type": "stream",
     "text": [
      "Isolation Forest Roc and Precision in 50 Estimators are 0.7219 and 0.0\n",
      "Isolation Forest Roc and Precision in 60 Estimators are 0.7219 and 0.0\n"
     ]
    },
    {
     "name": "stderr",
     "output_type": "stream",
     "text": [
      "/Users/ziye.zhou/Documents/Work/cost_anomaly_detection/tensorflow-venv/lib/python3.7/site-packages/sklearn/metrics/_classification.py:1272: UndefinedMetricWarning: Precision is ill-defined and being set to 0.0 due to no predicted samples. Use `zero_division` parameter to control this behavior.\n",
      "  _warn_prf(average, modifier, msg_start, len(result))\n",
      "/Users/ziye.zhou/Documents/Work/cost_anomaly_detection/tensorflow-venv/lib/python3.7/site-packages/sklearn/metrics/_classification.py:1272: UndefinedMetricWarning: Precision is ill-defined and being set to 0.0 due to no predicted samples. Use `zero_division` parameter to control this behavior.\n",
      "  _warn_prf(average, modifier, msg_start, len(result))\n"
     ]
    },
    {
     "name": "stdout",
     "output_type": "stream",
     "text": [
      "Isolation Forest Roc and Precision in 70 Estimators are 0.6772 and 0.0\n",
      "Isolation Forest Roc and Precision in 80 Estimators are 0.7315 and 0.0\n"
     ]
    },
    {
     "name": "stderr",
     "output_type": "stream",
     "text": [
      "/Users/ziye.zhou/Documents/Work/cost_anomaly_detection/tensorflow-venv/lib/python3.7/site-packages/sklearn/metrics/_classification.py:1272: UndefinedMetricWarning: Precision is ill-defined and being set to 0.0 due to no predicted samples. Use `zero_division` parameter to control this behavior.\n",
      "  _warn_prf(average, modifier, msg_start, len(result))\n",
      "/Users/ziye.zhou/Documents/Work/cost_anomaly_detection/tensorflow-venv/lib/python3.7/site-packages/sklearn/metrics/_classification.py:1272: UndefinedMetricWarning: Precision is ill-defined and being set to 0.0 due to no predicted samples. Use `zero_division` parameter to control this behavior.\n",
      "  _warn_prf(average, modifier, msg_start, len(result))\n"
     ]
    },
    {
     "name": "stdout",
     "output_type": "stream",
     "text": [
      "Isolation Forest Roc and Precision in 90 Estimators are 0.7904 and 0.0\n",
      "Isolation Forest Roc and Precision in 100 Estimators are 0.6822 and 0.0\n"
     ]
    },
    {
     "name": "stderr",
     "output_type": "stream",
     "text": [
      "/Users/ziye.zhou/Documents/Work/cost_anomaly_detection/tensorflow-venv/lib/python3.7/site-packages/sklearn/metrics/_classification.py:1272: UndefinedMetricWarning: Precision is ill-defined and being set to 0.0 due to no predicted samples. Use `zero_division` parameter to control this behavior.\n",
      "  _warn_prf(average, modifier, msg_start, len(result))\n"
     ]
    },
    {
     "name": "stdout",
     "output_type": "stream",
     "text": [
      "Isolation Forest Roc and Precision in 150 Estimators are 0.6751 and 0.0\n"
     ]
    },
    {
     "name": "stderr",
     "output_type": "stream",
     "text": [
      "/Users/ziye.zhou/Documents/Work/cost_anomaly_detection/tensorflow-venv/lib/python3.7/site-packages/sklearn/metrics/_classification.py:1272: UndefinedMetricWarning: Precision is ill-defined and being set to 0.0 due to no predicted samples. Use `zero_division` parameter to control this behavior.\n",
      "  _warn_prf(average, modifier, msg_start, len(result))\n"
     ]
    },
    {
     "name": "stdout",
     "output_type": "stream",
     "text": [
      "Isolation Forest Roc and Precision in 200 Estimators are 0.7005 and 0.0\n"
     ]
    },
    {
     "name": "stderr",
     "output_type": "stream",
     "text": [
      "/Users/ziye.zhou/Documents/Work/cost_anomaly_detection/tensorflow-venv/lib/python3.7/site-packages/sklearn/metrics/_classification.py:1272: UndefinedMetricWarning: Precision is ill-defined and being set to 0.0 due to no predicted samples. Use `zero_division` parameter to control this behavior.\n",
      "  _warn_prf(average, modifier, msg_start, len(result))\n"
     ]
    },
    {
     "name": "stdout",
     "output_type": "stream",
     "text": [
      "Isolation Forest Roc and Precision in 250 Estimators are 0.6413 and 0.0\n",
      "\n",
      "\n",
      "Processing Extreme_Grandient_Boost_\n"
     ]
    },
    {
     "name": "stderr",
     "output_type": "stream",
     "text": [
      "/Users/ziye.zhou/Documents/Work/cost_anomaly_detection/tensorflow-venv/lib/python3.7/site-packages/sklearn/metrics/_classification.py:1272: UndefinedMetricWarning: Precision is ill-defined and being set to 0.0 due to no predicted samples. Use `zero_division` parameter to control this behavior.\n",
      "  _warn_prf(average, modifier, msg_start, len(result))\n"
     ]
    },
    {
     "name": "stdout",
     "output_type": "stream",
     "text": [
      "Processing Random_Forest_\n"
     ]
    },
    {
     "name": "stderr",
     "output_type": "stream",
     "text": [
      "/Users/ziye.zhou/Documents/Work/cost_anomaly_detection/tensorflow-venv/lib/python3.7/site-packages/sklearn/metrics/_classification.py:1272: UndefinedMetricWarning: Precision is ill-defined and being set to 0.0 due to no predicted samples. Use `zero_division` parameter to control this behavior.\n",
      "  _warn_prf(average, modifier, msg_start, len(result))\n"
     ]
    },
    {
     "name": "stdout",
     "output_type": "stream",
     "text": [
      "\n",
      "\n",
      "Processing trial 5 out of 10 \n",
      "\n",
      "largest KNN Roc and Precision in 1 Neighbors are 0.3541 and 0.0\n",
      "largest KNN Roc and Precision in 2 Neighbors are 0.3311 and 0.0\n",
      "largest KNN Roc and Precision in 3 Neighbors are 0.318 and 0.0\n",
      "largest KNN Roc and Precision in 4 Neighbors are 0.3137 and 0.0\n",
      "largest KNN Roc and Precision in 5 Neighbors are 0.3087 and 0.0\n",
      "largest KNN Roc and Precision in 10 Neighbors are 0.318 and 0.0\n",
      "largest KNN Roc and Precision in 15 Neighbors are 0.3197 and 0.0\n",
      "largest KNN Roc and Precision in 20 Neighbors are 0.3322 and 0.0\n",
      "largest KNN Roc and Precision in 30 Neighbors are 0.341 and 0.0\n",
      "largest KNN Roc and Precision in 40 Neighbors are 0.3448 and 0.0\n",
      "largest KNN Roc and Precision in 50 Neighbors are 0.3579 and 0.0\n",
      "largest KNN Roc and Precision in 60 Neighbors are 0.3508 and 0.0\n",
      "largest KNN Roc and Precision in 70 Neighbors are 0.3628 and 0.0\n",
      "largest KNN Roc and Precision in 80 Neighbors are 0.3732 and 0.0\n",
      "largest KNN Roc and Precision in 90 Neighbors are 0.3749 and 0.0\n",
      "largest KNN Roc and Precision in 100 Neighbors are 0.3858 and 0.0\n",
      "\n",
      "\n",
      "mean KNN Roc and Precision in 1 Neighbors are 0.3541 and 0.0\n",
      "mean KNN Roc and Precision in 2 Neighbors are 0.3317 and 0.0\n",
      "mean KNN Roc and Precision in 3 Neighbors are 0.3219 and 0.0\n",
      "mean KNN Roc and Precision in 4 Neighbors are 0.3169 and 0.0\n",
      "mean KNN Roc and Precision in 5 Neighbors are 0.3104 and 0.0\n",
      "mean KNN Roc and Precision in 10 Neighbors are 0.3104 and 0.0\n",
      "mean KNN Roc and Precision in 15 Neighbors are 0.3164 and 0.0\n",
      "mean KNN Roc and Precision in 20 Neighbors are 0.3191 and 0.0\n",
      "mean KNN Roc and Precision in 30 Neighbors are 0.3317 and 0.0\n",
      "mean KNN Roc and Precision in 40 Neighbors are 0.3333 and 0.0\n",
      "mean KNN Roc and Precision in 50 Neighbors are 0.3399 and 0.0\n",
      "mean KNN Roc and Precision in 60 Neighbors are 0.3415 and 0.0\n",
      "mean KNN Roc and Precision in 70 Neighbors are 0.3454 and 0.0\n",
      "mean KNN Roc and Precision in 80 Neighbors are 0.3508 and 0.0\n",
      "mean KNN Roc and Precision in 90 Neighbors are 0.3519 and 0.0\n",
      "mean KNN Roc and Precision in 100 Neighbors are 0.3574 and 0.0\n",
      "\n",
      "\n",
      "median KNN Roc and Precision in 1 Neighbors are 0.3541 and 0.0\n",
      "median KNN Roc and Precision in 2 Neighbors are 0.3317 and 0.0\n",
      "median KNN Roc and Precision in 3 Neighbors are 0.3311 and 0.0\n",
      "median KNN Roc and Precision in 4 Neighbors are 0.3197 and 0.0\n",
      "median KNN Roc and Precision in 5 Neighbors are 0.318 and 0.0\n",
      "median KNN Roc and Precision in 10 Neighbors are 0.3126 and 0.0\n",
      "median KNN Roc and Precision in 15 Neighbors are 0.3169 and 0.0\n",
      "median KNN Roc and Precision in 20 Neighbors are 0.3186 and 0.0\n",
      "median KNN Roc and Precision in 30 Neighbors are 0.3202 and 0.0\n",
      "median KNN Roc and Precision in 40 Neighbors are 0.3344 and 0.0\n",
      "median KNN Roc and Precision in 50 Neighbors are 0.3432 and 0.0\n",
      "median KNN Roc and Precision in 60 Neighbors are 0.3415 and 0.0\n",
      "median KNN Roc and Precision in 70 Neighbors are 0.3437 and 0.0\n",
      "median KNN Roc and Precision in 80 Neighbors are 0.3443 and 0.0\n",
      "median KNN Roc and Precision in 90 Neighbors are 0.3519 and 0.0\n",
      "median KNN Roc and Precision in 100 Neighbors are 0.359 and 0.0\n",
      "\n",
      "\n",
      "Local Outlier Factor Roc and Precision in 1 Neighbors are 0.6093 and 0.0\n",
      "Local Outlier Factor Roc and Precision in 2 Neighbors are 0.6071 and 0.0\n"
     ]
    },
    {
     "name": "stderr",
     "output_type": "stream",
     "text": [
      "/Users/ziye.zhou/Documents/Work/cost_anomaly_detection/tensorflow-venv/lib/python3.7/site-packages/sklearn/metrics/_classification.py:1272: UndefinedMetricWarning: Precision is ill-defined and being set to 0.0 due to no predicted samples. Use `zero_division` parameter to control this behavior.\n",
      "  _warn_prf(average, modifier, msg_start, len(result))\n"
     ]
    },
    {
     "name": "stdout",
     "output_type": "stream",
     "text": [
      "Local Outlier Factor Roc and Precision in 3 Neighbors are 0.7262 and 0.0\n",
      "Local Outlier Factor Roc and Precision in 4 Neighbors are 0.6973 and 0.0\n",
      "Local Outlier Factor Roc and Precision in 5 Neighbors are 0.6962 and 0.0\n",
      "Local Outlier Factor Roc and Precision in 10 Neighbors are 0.6656 and 0.0\n",
      "Local Outlier Factor Roc and Precision in 15 Neighbors are 0.6607 and 0.0\n",
      "Local Outlier Factor Roc and Precision in 20 Neighbors are 0.7975 and 0.0\n",
      "Local Outlier Factor Roc and Precision in 30 Neighbors are 0.7847 and 0.0\n",
      "Local Outlier Factor Roc and Precision in 40 Neighbors are 0.7645 and 0.0\n",
      "Local Outlier Factor Roc and Precision in 50 Neighbors are 0.7284 and 0.2\n",
      "Local Outlier Factor Roc and Precision in 60 Neighbors are 0.6995 and 0.0\n",
      "Local Outlier Factor Roc and Precision in 70 Neighbors are 0.6858 and 0.0\n",
      "Local Outlier Factor Roc and Precision in 80 Neighbors are 0.6973 and 0.0\n",
      "Local Outlier Factor Roc and Precision in 90 Neighbors are 0.7038 and 0.0\n",
      "Local Outlier Factor Roc and Precision in 100 Neighbors are 0.688 and 0.0\n",
      "\n",
      "\n",
      "Support Vector Machine Roc and Precision in 0.01 are 0.3366 and 0.0\n",
      "Support Vector Machine Roc and Precision in 0.1 are 0.3661 and 0.0\n",
      "Support Vector Machine Roc and Precision in 0.2 are 0.4016 and 0.0\n",
      "Support Vector Machine Roc and Precision in 0.3 are 0.4208 and 0.0\n",
      "Support Vector Machine Roc and Precision in 0.4 are 0.4235 and 0.0\n",
      "Support Vector Machine Roc and Precision in 0.5 are 0.4235 and 0.0\n",
      "Support Vector Machine Roc and Precision in 0.6 are 0.4235 and 0.0\n",
      "Support Vector Machine Roc and Precision in 0.7 are 0.4372 and 0.0\n",
      "Support Vector Machine Roc and Precision in 0.8 are 0.4454 and 0.0\n",
      "Support Vector Machine Roc and Precision in 0.9 are 0.4481 and 0.0\n",
      "Support Vector Machine Roc and Precision in 0.99 are 0.4481 and 0.0\n",
      "\n",
      "\n",
      "Isolation Forest Roc and Precision in 10 Estimators are 0.6134 and 0.0\n",
      "Isolation Forest Roc and Precision in 20 Estimators are 0.6544 and 0.0\n",
      "Isolation Forest Roc and Precision in 30 Estimators are 0.6281 and 0.0\n"
     ]
    },
    {
     "name": "stderr",
     "output_type": "stream",
     "text": [
      "/Users/ziye.zhou/Documents/Work/cost_anomaly_detection/tensorflow-venv/lib/python3.7/site-packages/sklearn/metrics/_classification.py:1272: UndefinedMetricWarning: Precision is ill-defined and being set to 0.0 due to no predicted samples. Use `zero_division` parameter to control this behavior.\n",
      "  _warn_prf(average, modifier, msg_start, len(result))\n",
      "/Users/ziye.zhou/Documents/Work/cost_anomaly_detection/tensorflow-venv/lib/python3.7/site-packages/sklearn/metrics/_classification.py:1272: UndefinedMetricWarning: Precision is ill-defined and being set to 0.0 due to no predicted samples. Use `zero_division` parameter to control this behavior.\n",
      "  _warn_prf(average, modifier, msg_start, len(result))\n",
      "/Users/ziye.zhou/Documents/Work/cost_anomaly_detection/tensorflow-venv/lib/python3.7/site-packages/sklearn/metrics/_classification.py:1272: UndefinedMetricWarning: Precision is ill-defined and being set to 0.0 due to no predicted samples. Use `zero_division` parameter to control this behavior.\n",
      "  _warn_prf(average, modifier, msg_start, len(result))\n",
      "/Users/ziye.zhou/Documents/Work/cost_anomaly_detection/tensorflow-venv/lib/python3.7/site-packages/sklearn/metrics/_classification.py:1272: UndefinedMetricWarning: Precision is ill-defined and being set to 0.0 due to no predicted samples. Use `zero_division` parameter to control this behavior.\n",
      "  _warn_prf(average, modifier, msg_start, len(result))\n"
     ]
    },
    {
     "name": "stdout",
     "output_type": "stream",
     "text": [
      "Isolation Forest Roc and Precision in 40 Estimators are 0.7227 and 0.0\n",
      "Isolation Forest Roc and Precision in 50 Estimators are 0.694 and 0.0\n"
     ]
    },
    {
     "name": "stderr",
     "output_type": "stream",
     "text": [
      "/Users/ziye.zhou/Documents/Work/cost_anomaly_detection/tensorflow-venv/lib/python3.7/site-packages/sklearn/metrics/_classification.py:1272: UndefinedMetricWarning: Precision is ill-defined and being set to 0.0 due to no predicted samples. Use `zero_division` parameter to control this behavior.\n",
      "  _warn_prf(average, modifier, msg_start, len(result))\n",
      "/Users/ziye.zhou/Documents/Work/cost_anomaly_detection/tensorflow-venv/lib/python3.7/site-packages/sklearn/metrics/_classification.py:1272: UndefinedMetricWarning: Precision is ill-defined and being set to 0.0 due to no predicted samples. Use `zero_division` parameter to control this behavior.\n",
      "  _warn_prf(average, modifier, msg_start, len(result))\n"
     ]
    },
    {
     "name": "stdout",
     "output_type": "stream",
     "text": [
      "Isolation Forest Roc and Precision in 60 Estimators are 0.7295 and 0.0\n",
      "Isolation Forest Roc and Precision in 70 Estimators are 0.7514 and 0.0\n"
     ]
    },
    {
     "name": "stderr",
     "output_type": "stream",
     "text": [
      "/Users/ziye.zhou/Documents/Work/cost_anomaly_detection/tensorflow-venv/lib/python3.7/site-packages/sklearn/metrics/_classification.py:1272: UndefinedMetricWarning: Precision is ill-defined and being set to 0.0 due to no predicted samples. Use `zero_division` parameter to control this behavior.\n",
      "  _warn_prf(average, modifier, msg_start, len(result))\n",
      "/Users/ziye.zhou/Documents/Work/cost_anomaly_detection/tensorflow-venv/lib/python3.7/site-packages/sklearn/metrics/_classification.py:1272: UndefinedMetricWarning: Precision is ill-defined and being set to 0.0 due to no predicted samples. Use `zero_division` parameter to control this behavior.\n",
      "  _warn_prf(average, modifier, msg_start, len(result))\n"
     ]
    },
    {
     "name": "stdout",
     "output_type": "stream",
     "text": [
      "Isolation Forest Roc and Precision in 80 Estimators are 0.5265 and 0.0\n",
      "Isolation Forest Roc and Precision in 90 Estimators are 0.5219 and 0.0\n"
     ]
    },
    {
     "name": "stderr",
     "output_type": "stream",
     "text": [
      "/Users/ziye.zhou/Documents/Work/cost_anomaly_detection/tensorflow-venv/lib/python3.7/site-packages/sklearn/metrics/_classification.py:1272: UndefinedMetricWarning: Precision is ill-defined and being set to 0.0 due to no predicted samples. Use `zero_division` parameter to control this behavior.\n",
      "  _warn_prf(average, modifier, msg_start, len(result))\n",
      "/Users/ziye.zhou/Documents/Work/cost_anomaly_detection/tensorflow-venv/lib/python3.7/site-packages/sklearn/metrics/_classification.py:1272: UndefinedMetricWarning: Precision is ill-defined and being set to 0.0 due to no predicted samples. Use `zero_division` parameter to control this behavior.\n",
      "  _warn_prf(average, modifier, msg_start, len(result))\n"
     ]
    },
    {
     "name": "stdout",
     "output_type": "stream",
     "text": [
      "Isolation Forest Roc and Precision in 100 Estimators are 0.6221 and 0.0\n"
     ]
    },
    {
     "name": "stderr",
     "output_type": "stream",
     "text": [
      "/Users/ziye.zhou/Documents/Work/cost_anomaly_detection/tensorflow-venv/lib/python3.7/site-packages/sklearn/metrics/_classification.py:1272: UndefinedMetricWarning: Precision is ill-defined and being set to 0.0 due to no predicted samples. Use `zero_division` parameter to control this behavior.\n",
      "  _warn_prf(average, modifier, msg_start, len(result))\n"
     ]
    },
    {
     "name": "stdout",
     "output_type": "stream",
     "text": [
      "Isolation Forest Roc and Precision in 150 Estimators are 0.6298 and 0.0\n"
     ]
    },
    {
     "name": "stderr",
     "output_type": "stream",
     "text": [
      "/Users/ziye.zhou/Documents/Work/cost_anomaly_detection/tensorflow-venv/lib/python3.7/site-packages/sklearn/metrics/_classification.py:1272: UndefinedMetricWarning: Precision is ill-defined and being set to 0.0 due to no predicted samples. Use `zero_division` parameter to control this behavior.\n",
      "  _warn_prf(average, modifier, msg_start, len(result))\n"
     ]
    },
    {
     "name": "stdout",
     "output_type": "stream",
     "text": [
      "Isolation Forest Roc and Precision in 200 Estimators are 0.659 and 0.0\n"
     ]
    },
    {
     "name": "stderr",
     "output_type": "stream",
     "text": [
      "/Users/ziye.zhou/Documents/Work/cost_anomaly_detection/tensorflow-venv/lib/python3.7/site-packages/sklearn/metrics/_classification.py:1272: UndefinedMetricWarning: Precision is ill-defined and being set to 0.0 due to no predicted samples. Use `zero_division` parameter to control this behavior.\n",
      "  _warn_prf(average, modifier, msg_start, len(result))\n"
     ]
    },
    {
     "name": "stdout",
     "output_type": "stream",
     "text": [
      "Isolation Forest Roc and Precision in 250 Estimators are 0.6243 and 0.0\n",
      "\n",
      "\n",
      "Processing Extreme_Grandient_Boost_\n",
      "Processing Random_Forest_\n"
     ]
    },
    {
     "name": "stderr",
     "output_type": "stream",
     "text": [
      "/Users/ziye.zhou/Documents/Work/cost_anomaly_detection/tensorflow-venv/lib/python3.7/site-packages/sklearn/metrics/_classification.py:1272: UndefinedMetricWarning: Precision is ill-defined and being set to 0.0 due to no predicted samples. Use `zero_division` parameter to control this behavior.\n",
      "  _warn_prf(average, modifier, msg_start, len(result))\n"
     ]
    },
    {
     "name": "stdout",
     "output_type": "stream",
     "text": [
      "\n",
      "\n",
      "Processing trial 6 out of 10 \n",
      "\n",
      "largest KNN Roc and Precision in 1 Neighbors are 0.4443 and 0.0\n",
      "largest KNN Roc and Precision in 2 Neighbors are 0.4164 and 0.0\n",
      "largest KNN Roc and Precision in 3 Neighbors are 0.407 and 0.0\n",
      "largest KNN Roc and Precision in 4 Neighbors are 0.4023 and 0.0\n",
      "largest KNN Roc and Precision in 5 Neighbors are 0.4042 and 0.0\n",
      "largest KNN Roc and Precision in 10 Neighbors are 0.4231 and 0.0\n",
      "largest KNN Roc and Precision in 15 Neighbors are 0.4333 and 0.0\n",
      "largest KNN Roc and Precision in 20 Neighbors are 0.4203 and 0.0\n",
      "largest KNN Roc and Precision in 30 Neighbors are 0.4254 and 0.0\n",
      "largest KNN Roc and Precision in 40 Neighbors are 0.4313 and 0.0\n",
      "largest KNN Roc and Precision in 50 Neighbors are 0.4301 and 0.0\n",
      "largest KNN Roc and Precision in 60 Neighbors are 0.4286 and 0.0\n",
      "largest KNN Roc and Precision in 70 Neighbors are 0.4309 and 0.0\n",
      "largest KNN Roc and Precision in 80 Neighbors are 0.4301 and 0.0\n",
      "largest KNN Roc and Precision in 90 Neighbors are 0.4349 and 0.0\n",
      "largest KNN Roc and Precision in 100 Neighbors are 0.4368 and 0.0\n",
      "\n",
      "\n",
      "mean KNN Roc and Precision in 1 Neighbors are 0.4443 and 0.0\n",
      "mean KNN Roc and Precision in 2 Neighbors are 0.4156 and 0.0\n",
      "mean KNN Roc and Precision in 3 Neighbors are 0.4038 and 0.0\n",
      "mean KNN Roc and Precision in 4 Neighbors are 0.3972 and 0.0\n",
      "mean KNN Roc and Precision in 5 Neighbors are 0.3976 and 0.0\n",
      "mean KNN Roc and Precision in 10 Neighbors are 0.407 and 0.0\n",
      "mean KNN Roc and Precision in 15 Neighbors are 0.4184 and 0.0\n",
      "mean KNN Roc and Precision in 20 Neighbors are 0.4215 and 0.0\n",
      "mean KNN Roc and Precision in 30 Neighbors are 0.4176 and 0.0\n",
      "mean KNN Roc and Precision in 40 Neighbors are 0.4203 and 0.0\n",
      "mean KNN Roc and Precision in 50 Neighbors are 0.425 and 0.0\n",
      "mean KNN Roc and Precision in 60 Neighbors are 0.4254 and 0.0\n",
      "mean KNN Roc and Precision in 70 Neighbors are 0.4266 and 0.0\n",
      "mean KNN Roc and Precision in 80 Neighbors are 0.427 and 0.0\n",
      "mean KNN Roc and Precision in 90 Neighbors are 0.4294 and 0.0\n",
      "mean KNN Roc and Precision in 100 Neighbors are 0.4297 and 0.0\n",
      "\n",
      "\n",
      "median KNN Roc and Precision in 1 Neighbors are 0.4443 and 0.0\n",
      "median KNN Roc and Precision in 2 Neighbors are 0.4156 and 0.0\n",
      "median KNN Roc and Precision in 3 Neighbors are 0.4164 and 0.0\n",
      "median KNN Roc and Precision in 4 Neighbors are 0.4054 and 0.0\n",
      "median KNN Roc and Precision in 5 Neighbors are 0.407 and 0.0\n",
      "median KNN Roc and Precision in 10 Neighbors are 0.405 and 0.0\n",
      "median KNN Roc and Precision in 15 Neighbors are 0.4262 and 0.0\n",
      "median KNN Roc and Precision in 20 Neighbors are 0.4207 and 0.0\n",
      "median KNN Roc and Precision in 30 Neighbors are 0.4352 and 0.0\n",
      "median KNN Roc and Precision in 40 Neighbors are 0.4239 and 0.0\n",
      "median KNN Roc and Precision in 50 Neighbors are 0.4266 and 0.0\n",
      "median KNN Roc and Precision in 60 Neighbors are 0.4258 and 0.0\n",
      "median KNN Roc and Precision in 70 Neighbors are 0.4294 and 0.0\n",
      "median KNN Roc and Precision in 80 Neighbors are 0.4313 and 0.0\n",
      "median KNN Roc and Precision in 90 Neighbors are 0.4321 and 0.0\n",
      "median KNN Roc and Precision in 100 Neighbors are 0.4297 and 0.0\n",
      "\n",
      "\n",
      "Local Outlier Factor Roc and Precision in 1 Neighbors are 0.6464 and 0.0\n",
      "Local Outlier Factor Roc and Precision in 2 Neighbors are 0.7435 and 0.0\n",
      "Local Outlier Factor Roc and Precision in 3 Neighbors are 0.8307 and 0.0\n",
      "Local Outlier Factor Roc and Precision in 4 Neighbors are 0.6415 and 0.0\n",
      "Local Outlier Factor Roc and Precision in 5 Neighbors are 0.6941 and 0.1429\n",
      "Local Outlier Factor Roc and Precision in 10 Neighbors are 0.5522 and 0.0\n",
      "Local Outlier Factor Roc and Precision in 15 Neighbors are 0.5944 and 0.0\n",
      "Local Outlier Factor Roc and Precision in 20 Neighbors are 0.6383 and 0.1429\n"
     ]
    },
    {
     "name": "stderr",
     "output_type": "stream",
     "text": [
      "/Users/ziye.zhou/Documents/Work/cost_anomaly_detection/tensorflow-venv/lib/python3.7/site-packages/sklearn/metrics/_classification.py:1272: UndefinedMetricWarning: Precision is ill-defined and being set to 0.0 due to no predicted samples. Use `zero_division` parameter to control this behavior.\n",
      "  _warn_prf(average, modifier, msg_start, len(result))\n"
     ]
    },
    {
     "name": "stdout",
     "output_type": "stream",
     "text": [
      "Local Outlier Factor Roc and Precision in 30 Neighbors are 0.5597 and 0.0\n",
      "Local Outlier Factor Roc and Precision in 40 Neighbors are 0.6224 and 0.1429\n",
      "Local Outlier Factor Roc and Precision in 50 Neighbors are 0.582 and 0.0\n",
      "Local Outlier Factor Roc and Precision in 60 Neighbors are 0.5765 and 0.0\n",
      "Local Outlier Factor Roc and Precision in 70 Neighbors are 0.5703 and 0.0\n",
      "Local Outlier Factor Roc and Precision in 80 Neighbors are 0.5703 and 0.0\n",
      "Local Outlier Factor Roc and Precision in 90 Neighbors are 0.5581 and 0.0\n",
      "Local Outlier Factor Roc and Precision in 100 Neighbors are 0.5597 and 0.0\n",
      "\n",
      "\n",
      "Support Vector Machine Roc and Precision in 0.01 are 0.4274 and 0.0\n",
      "Support Vector Machine Roc and Precision in 0.1 are 0.4655 and 0.0\n",
      "Support Vector Machine Roc and Precision in 0.2 are 0.4937 and 0.0\n",
      "Support Vector Machine Roc and Precision in 0.3 are 0.502 and 0.0\n",
      "Support Vector Machine Roc and Precision in 0.4 are 0.5161 and 0.0\n",
      "Support Vector Machine Roc and Precision in 0.5 are 0.5239 and 0.0\n",
      "Support Vector Machine Roc and Precision in 0.6 are 0.5357 and 0.0\n",
      "Support Vector Machine Roc and Precision in 0.7 are 0.5514 and 0.0\n",
      "Support Vector Machine Roc and Precision in 0.8 are 0.5522 and 0.0\n",
      "Support Vector Machine Roc and Precision in 0.9 are 0.5542 and 0.0\n",
      "Support Vector Machine Roc and Precision in 0.99 are 0.5542 and 0.0\n",
      "\n",
      "\n",
      "Isolation Forest Roc and Precision in 10 Estimators are 0.6868 and 0.0\n",
      "Isolation Forest Roc and Precision in 20 Estimators are 0.5622 and 0.0\n"
     ]
    },
    {
     "name": "stderr",
     "output_type": "stream",
     "text": [
      "/Users/ziye.zhou/Documents/Work/cost_anomaly_detection/tensorflow-venv/lib/python3.7/site-packages/sklearn/metrics/_classification.py:1272: UndefinedMetricWarning: Precision is ill-defined and being set to 0.0 due to no predicted samples. Use `zero_division` parameter to control this behavior.\n",
      "  _warn_prf(average, modifier, msg_start, len(result))\n",
      "/Users/ziye.zhou/Documents/Work/cost_anomaly_detection/tensorflow-venv/lib/python3.7/site-packages/sklearn/metrics/_classification.py:1272: UndefinedMetricWarning: Precision is ill-defined and being set to 0.0 due to no predicted samples. Use `zero_division` parameter to control this behavior.\n",
      "  _warn_prf(average, modifier, msg_start, len(result))\n",
      "/Users/ziye.zhou/Documents/Work/cost_anomaly_detection/tensorflow-venv/lib/python3.7/site-packages/sklearn/metrics/_classification.py:1272: UndefinedMetricWarning: Precision is ill-defined and being set to 0.0 due to no predicted samples. Use `zero_division` parameter to control this behavior.\n",
      "  _warn_prf(average, modifier, msg_start, len(result))\n",
      "/Users/ziye.zhou/Documents/Work/cost_anomaly_detection/tensorflow-venv/lib/python3.7/site-packages/sklearn/metrics/_classification.py:1272: UndefinedMetricWarning: Precision is ill-defined and being set to 0.0 due to no predicted samples. Use `zero_division` parameter to control this behavior.\n",
      "  _warn_prf(average, modifier, msg_start, len(result))\n"
     ]
    },
    {
     "name": "stdout",
     "output_type": "stream",
     "text": [
      "Isolation Forest Roc and Precision in 30 Estimators are 0.7349 and 0.0\n",
      "Isolation Forest Roc and Precision in 40 Estimators are 0.7033 and 0.0\n",
      "Isolation Forest Roc and Precision in 50 Estimators are 0.56 and 0.0\n"
     ]
    },
    {
     "name": "stderr",
     "output_type": "stream",
     "text": [
      "/Users/ziye.zhou/Documents/Work/cost_anomaly_detection/tensorflow-venv/lib/python3.7/site-packages/sklearn/metrics/_classification.py:1272: UndefinedMetricWarning: Precision is ill-defined and being set to 0.0 due to no predicted samples. Use `zero_division` parameter to control this behavior.\n",
      "  _warn_prf(average, modifier, msg_start, len(result))\n",
      "/Users/ziye.zhou/Documents/Work/cost_anomaly_detection/tensorflow-venv/lib/python3.7/site-packages/sklearn/metrics/_classification.py:1272: UndefinedMetricWarning: Precision is ill-defined and being set to 0.0 due to no predicted samples. Use `zero_division` parameter to control this behavior.\n",
      "  _warn_prf(average, modifier, msg_start, len(result))\n"
     ]
    },
    {
     "name": "stdout",
     "output_type": "stream",
     "text": [
      "Isolation Forest Roc and Precision in 60 Estimators are 0.739 and 0.0\n",
      "Isolation Forest Roc and Precision in 70 Estimators are 0.6374 and 0.0\n"
     ]
    },
    {
     "name": "stderr",
     "output_type": "stream",
     "text": [
      "/Users/ziye.zhou/Documents/Work/cost_anomaly_detection/tensorflow-venv/lib/python3.7/site-packages/sklearn/metrics/_classification.py:1272: UndefinedMetricWarning: Precision is ill-defined and being set to 0.0 due to no predicted samples. Use `zero_division` parameter to control this behavior.\n",
      "  _warn_prf(average, modifier, msg_start, len(result))\n",
      "/Users/ziye.zhou/Documents/Work/cost_anomaly_detection/tensorflow-venv/lib/python3.7/site-packages/sklearn/metrics/_classification.py:1272: UndefinedMetricWarning: Precision is ill-defined and being set to 0.0 due to no predicted samples. Use `zero_division` parameter to control this behavior.\n",
      "  _warn_prf(average, modifier, msg_start, len(result))\n"
     ]
    },
    {
     "name": "stdout",
     "output_type": "stream",
     "text": [
      "Isolation Forest Roc and Precision in 80 Estimators are 0.6703 and 0.0\n",
      "Isolation Forest Roc and Precision in 90 Estimators are 0.6215 and 0.0\n"
     ]
    },
    {
     "name": "stderr",
     "output_type": "stream",
     "text": [
      "/Users/ziye.zhou/Documents/Work/cost_anomaly_detection/tensorflow-venv/lib/python3.7/site-packages/sklearn/metrics/_classification.py:1272: UndefinedMetricWarning: Precision is ill-defined and being set to 0.0 due to no predicted samples. Use `zero_division` parameter to control this behavior.\n",
      "  _warn_prf(average, modifier, msg_start, len(result))\n",
      "/Users/ziye.zhou/Documents/Work/cost_anomaly_detection/tensorflow-venv/lib/python3.7/site-packages/sklearn/metrics/_classification.py:1272: UndefinedMetricWarning: Precision is ill-defined and being set to 0.0 due to no predicted samples. Use `zero_division` parameter to control this behavior.\n",
      "  _warn_prf(average, modifier, msg_start, len(result))\n"
     ]
    },
    {
     "name": "stdout",
     "output_type": "stream",
     "text": [
      "Isolation Forest Roc and Precision in 100 Estimators are 0.7582 and 0.0\n"
     ]
    },
    {
     "name": "stderr",
     "output_type": "stream",
     "text": [
      "/Users/ziye.zhou/Documents/Work/cost_anomaly_detection/tensorflow-venv/lib/python3.7/site-packages/sklearn/metrics/_classification.py:1272: UndefinedMetricWarning: Precision is ill-defined and being set to 0.0 due to no predicted samples. Use `zero_division` parameter to control this behavior.\n",
      "  _warn_prf(average, modifier, msg_start, len(result))\n"
     ]
    },
    {
     "name": "stdout",
     "output_type": "stream",
     "text": [
      "Isolation Forest Roc and Precision in 150 Estimators are 0.637 and 0.0\n"
     ]
    },
    {
     "name": "stderr",
     "output_type": "stream",
     "text": [
      "/Users/ziye.zhou/Documents/Work/cost_anomaly_detection/tensorflow-venv/lib/python3.7/site-packages/sklearn/metrics/_classification.py:1272: UndefinedMetricWarning: Precision is ill-defined and being set to 0.0 due to no predicted samples. Use `zero_division` parameter to control this behavior.\n",
      "  _warn_prf(average, modifier, msg_start, len(result))\n"
     ]
    },
    {
     "name": "stdout",
     "output_type": "stream",
     "text": [
      "Isolation Forest Roc and Precision in 200 Estimators are 0.6901 and 0.0\n"
     ]
    },
    {
     "name": "stderr",
     "output_type": "stream",
     "text": [
      "/Users/ziye.zhou/Documents/Work/cost_anomaly_detection/tensorflow-venv/lib/python3.7/site-packages/sklearn/metrics/_classification.py:1272: UndefinedMetricWarning: Precision is ill-defined and being set to 0.0 due to no predicted samples. Use `zero_division` parameter to control this behavior.\n",
      "  _warn_prf(average, modifier, msg_start, len(result))\n"
     ]
    },
    {
     "name": "stdout",
     "output_type": "stream",
     "text": [
      "Isolation Forest Roc and Precision in 250 Estimators are 0.5914 and 0.0\n",
      "\n",
      "\n",
      "Processing Extreme_Grandient_Boost_\n"
     ]
    },
    {
     "name": "stderr",
     "output_type": "stream",
     "text": [
      "/Users/ziye.zhou/Documents/Work/cost_anomaly_detection/tensorflow-venv/lib/python3.7/site-packages/sklearn/metrics/_classification.py:1272: UndefinedMetricWarning: Precision is ill-defined and being set to 0.0 due to no predicted samples. Use `zero_division` parameter to control this behavior.\n",
      "  _warn_prf(average, modifier, msg_start, len(result))\n",
      "/Users/ziye.zhou/Documents/Work/cost_anomaly_detection/tensorflow-venv/lib/python3.7/site-packages/sklearn/metrics/_classification.py:1272: UndefinedMetricWarning: Precision is ill-defined and being set to 0.0 due to no predicted samples. Use `zero_division` parameter to control this behavior.\n",
      "  _warn_prf(average, modifier, msg_start, len(result))\n"
     ]
    },
    {
     "name": "stdout",
     "output_type": "stream",
     "text": [
      "Processing Random_Forest_\n",
      "\n",
      "\n",
      "Processing trial 7 out of 10 \n",
      "\n",
      "largest KNN Roc and Precision in 1 Neighbors are 0.3696 and 0.0\n",
      "largest KNN Roc and Precision in 2 Neighbors are 0.3339 and 0.0\n",
      "largest KNN Roc and Precision in 3 Neighbors are 0.3168 and 0.0\n",
      "largest KNN Roc and Precision in 4 Neighbors are 0.3165 and 0.0\n",
      "largest KNN Roc and Precision in 5 Neighbors are 0.3195 and 0.0\n",
      "largest KNN Roc and Precision in 10 Neighbors are 0.3309 and 0.0\n",
      "largest KNN Roc and Precision in 15 Neighbors are 0.3361 and 0.0\n",
      "largest KNN Roc and Precision in 20 Neighbors are 0.3309 and 0.0\n",
      "largest KNN Roc and Precision in 30 Neighbors are 0.3376 and 0.0\n",
      "largest KNN Roc and Precision in 40 Neighbors are 0.3481 and 0.0\n",
      "largest KNN Roc and Precision in 50 Neighbors are 0.3502 and 0.0\n",
      "largest KNN Roc and Precision in 60 Neighbors are 0.3502 and 0.0\n",
      "largest KNN Roc and Precision in 70 Neighbors are 0.3536 and 0.0\n",
      "largest KNN Roc and Precision in 80 Neighbors are 0.36 and 0.0\n",
      "largest KNN Roc and Precision in 90 Neighbors are 0.364 and 0.0\n",
      "largest KNN Roc and Precision in 100 Neighbors are 0.3637 and 0.0\n",
      "\n",
      "\n",
      "mean KNN Roc and Precision in 1 Neighbors are 0.3696 and 0.0\n",
      "mean KNN Roc and Precision in 2 Neighbors are 0.3395 and 0.0\n",
      "mean KNN Roc and Precision in 3 Neighbors are 0.3217 and 0.0\n",
      "mean KNN Roc and Precision in 4 Neighbors are 0.3189 and 0.0\n",
      "mean KNN Roc and Precision in 5 Neighbors are 0.3143 and 0.0\n",
      "mean KNN Roc and Precision in 10 Neighbors are 0.3244 and 0.0\n",
      "mean KNN Roc and Precision in 15 Neighbors are 0.3275 and 0.0\n",
      "mean KNN Roc and Precision in 20 Neighbors are 0.3303 and 0.0\n",
      "mean KNN Roc and Precision in 30 Neighbors are 0.3297 and 0.0\n",
      "mean KNN Roc and Precision in 40 Neighbors are 0.3324 and 0.0\n",
      "mean KNN Roc and Precision in 50 Neighbors are 0.3413 and 0.0\n",
      "mean KNN Roc and Precision in 60 Neighbors are 0.3438 and 0.0\n",
      "mean KNN Roc and Precision in 70 Neighbors are 0.3453 and 0.0\n",
      "mean KNN Roc and Precision in 80 Neighbors are 0.3484 and 0.0\n",
      "mean KNN Roc and Precision in 90 Neighbors are 0.3514 and 0.0\n",
      "mean KNN Roc and Precision in 100 Neighbors are 0.3527 and 0.0\n",
      "\n",
      "\n",
      "median KNN Roc and Precision in 1 Neighbors are 0.3696 and 0.0\n",
      "median KNN Roc and Precision in 2 Neighbors are 0.3395 and 0.0\n",
      "median KNN Roc and Precision in 3 Neighbors are 0.3339 and 0.0\n",
      "median KNN Roc and Precision in 4 Neighbors are 0.318 and 0.0\n",
      "median KNN Roc and Precision in 5 Neighbors are 0.3168 and 0.0\n",
      "median KNN Roc and Precision in 10 Neighbors are 0.3229 and 0.0\n",
      "median KNN Roc and Precision in 15 Neighbors are 0.333 and 0.0\n",
      "median KNN Roc and Precision in 20 Neighbors are 0.3333 and 0.0\n",
      "median KNN Roc and Precision in 30 Neighbors are 0.3361 and 0.0\n",
      "median KNN Roc and Precision in 40 Neighbors are 0.3321 and 0.0\n",
      "median KNN Roc and Precision in 50 Neighbors are 0.3352 and 0.0\n",
      "median KNN Roc and Precision in 60 Neighbors are 0.3401 and 0.0\n",
      "median KNN Roc and Precision in 70 Neighbors are 0.3422 and 0.0\n",
      "median KNN Roc and Precision in 80 Neighbors are 0.3487 and 0.0\n",
      "median KNN Roc and Precision in 90 Neighbors are 0.3487 and 0.0\n",
      "median KNN Roc and Precision in 100 Neighbors are 0.3505 and 0.0\n",
      "\n",
      "\n",
      "Local Outlier Factor Roc and Precision in 1 Neighbors are 0.5684 and 0.0\n",
      "Local Outlier Factor Roc and Precision in 2 Neighbors are 0.4952 and 0.0\n",
      "Local Outlier Factor Roc and Precision in 3 Neighbors are 0.5849 and 0.0\n",
      "Local Outlier Factor Roc and Precision in 4 Neighbors are 0.6892 and 0.0\n",
      "Local Outlier Factor Roc and Precision in 5 Neighbors are 0.6056 and 0.1111\n",
      "Local Outlier Factor Roc and Precision in 10 Neighbors are 0.5345 and 0.0\n",
      "Local Outlier Factor Roc and Precision in 15 Neighbors are 0.6255 and 0.0\n",
      "Local Outlier Factor Roc and Precision in 20 Neighbors are 0.7342 and 0.25\n",
      "Local Outlier Factor Roc and Precision in 30 Neighbors are 0.6575 and 0.0\n",
      "Local Outlier Factor Roc and Precision in 40 Neighbors are 0.6593 and 0.0\n"
     ]
    },
    {
     "name": "stderr",
     "output_type": "stream",
     "text": [
      "/Users/ziye.zhou/Documents/Work/cost_anomaly_detection/tensorflow-venv/lib/python3.7/site-packages/sklearn/metrics/_classification.py:1272: UndefinedMetricWarning: Precision is ill-defined and being set to 0.0 due to no predicted samples. Use `zero_division` parameter to control this behavior.\n",
      "  _warn_prf(average, modifier, msg_start, len(result))\n"
     ]
    },
    {
     "name": "stdout",
     "output_type": "stream",
     "text": [
      "Local Outlier Factor Roc and Precision in 50 Neighbors are 0.6056 and 0.0\n",
      "Local Outlier Factor Roc and Precision in 60 Neighbors are 0.5991 and 0.0\n",
      "Local Outlier Factor Roc and Precision in 70 Neighbors are 0.6028 and 0.0\n",
      "Local Outlier Factor Roc and Precision in 80 Neighbors are 0.5936 and 0.0\n",
      "Local Outlier Factor Roc and Precision in 90 Neighbors are 0.5853 and 0.0\n",
      "Local Outlier Factor Roc and Precision in 100 Neighbors are 0.5878 and 0.0\n",
      "\n",
      "\n",
      "Support Vector Machine Roc and Precision in 0.01 are 0.3315 and 0.0\n",
      "Support Vector Machine Roc and Precision in 0.1 are 0.3594 and 0.0\n",
      "Support Vector Machine Roc and Precision in 0.2 are 0.3883 and 0.0\n",
      "Support Vector Machine Roc and Precision in 0.3 are 0.4021 and 0.0\n",
      "Support Vector Machine Roc and Precision in 0.4 are 0.4076 and 0.0\n",
      "Support Vector Machine Roc and Precision in 0.5 are 0.4131 and 0.0\n",
      "Support Vector Machine Roc and Precision in 0.6 are 0.4187 and 0.0\n",
      "Support Vector Machine Roc and Precision in 0.7 are 0.4214 and 0.0\n",
      "Support Vector Machine Roc and Precision in 0.8 are 0.4325 and 0.0\n",
      "Support Vector Machine Roc and Precision in 0.9 are 0.438 and 0.0\n",
      "Support Vector Machine Roc and Precision in 0.99 are 0.4408 and 0.0\n",
      "\n",
      "\n",
      "Isolation Forest Roc and Precision in 10 Estimators are 0.6326 and 0.0\n",
      "Isolation Forest Roc and Precision in 20 Estimators are 0.6561 and 0.0\n",
      "Isolation Forest Roc and Precision in 30 Estimators are 0.6837 and 0.0\n",
      "Isolation Forest Roc and Precision in 40 Estimators are 0.6653 and 0.0\n"
     ]
    },
    {
     "name": "stderr",
     "output_type": "stream",
     "text": [
      "/Users/ziye.zhou/Documents/Work/cost_anomaly_detection/tensorflow-venv/lib/python3.7/site-packages/sklearn/metrics/_classification.py:1272: UndefinedMetricWarning: Precision is ill-defined and being set to 0.0 due to no predicted samples. Use `zero_division` parameter to control this behavior.\n",
      "  _warn_prf(average, modifier, msg_start, len(result))\n",
      "/Users/ziye.zhou/Documents/Work/cost_anomaly_detection/tensorflow-venv/lib/python3.7/site-packages/sklearn/metrics/_classification.py:1272: UndefinedMetricWarning: Precision is ill-defined and being set to 0.0 due to no predicted samples. Use `zero_division` parameter to control this behavior.\n",
      "  _warn_prf(average, modifier, msg_start, len(result))\n",
      "/Users/ziye.zhou/Documents/Work/cost_anomaly_detection/tensorflow-venv/lib/python3.7/site-packages/sklearn/metrics/_classification.py:1272: UndefinedMetricWarning: Precision is ill-defined and being set to 0.0 due to no predicted samples. Use `zero_division` parameter to control this behavior.\n",
      "  _warn_prf(average, modifier, msg_start, len(result))\n",
      "/Users/ziye.zhou/Documents/Work/cost_anomaly_detection/tensorflow-venv/lib/python3.7/site-packages/sklearn/metrics/_classification.py:1272: UndefinedMetricWarning: Precision is ill-defined and being set to 0.0 due to no predicted samples. Use `zero_division` parameter to control this behavior.\n",
      "  _warn_prf(average, modifier, msg_start, len(result))\n",
      "/Users/ziye.zhou/Documents/Work/cost_anomaly_detection/tensorflow-venv/lib/python3.7/site-packages/sklearn/metrics/_classification.py:1272: UndefinedMetricWarning: Precision is ill-defined and being set to 0.0 due to no predicted samples. Use `zero_division` parameter to control this behavior.\n",
      "  _warn_prf(average, modifier, msg_start, len(result))\n",
      "/Users/ziye.zhou/Documents/Work/cost_anomaly_detection/tensorflow-venv/lib/python3.7/site-packages/sklearn/metrics/_classification.py:1272: UndefinedMetricWarning: Precision is ill-defined and being set to 0.0 due to no predicted samples. Use `zero_division` parameter to control this behavior.\n",
      "  _warn_prf(average, modifier, msg_start, len(result))\n"
     ]
    },
    {
     "name": "stdout",
     "output_type": "stream",
     "text": [
      "Isolation Forest Roc and Precision in 50 Estimators are 0.7182 and 0.0\n",
      "Isolation Forest Roc and Precision in 60 Estimators are 0.6941 and 0.0\n"
     ]
    },
    {
     "name": "stderr",
     "output_type": "stream",
     "text": [
      "/Users/ziye.zhou/Documents/Work/cost_anomaly_detection/tensorflow-venv/lib/python3.7/site-packages/sklearn/metrics/_classification.py:1272: UndefinedMetricWarning: Precision is ill-defined and being set to 0.0 due to no predicted samples. Use `zero_division` parameter to control this behavior.\n",
      "  _warn_prf(average, modifier, msg_start, len(result))\n",
      "/Users/ziye.zhou/Documents/Work/cost_anomaly_detection/tensorflow-venv/lib/python3.7/site-packages/sklearn/metrics/_classification.py:1272: UndefinedMetricWarning: Precision is ill-defined and being set to 0.0 due to no predicted samples. Use `zero_division` parameter to control this behavior.\n",
      "  _warn_prf(average, modifier, msg_start, len(result))\n"
     ]
    },
    {
     "name": "stdout",
     "output_type": "stream",
     "text": [
      "Isolation Forest Roc and Precision in 70 Estimators are 0.6614 and 0.0\n",
      "Isolation Forest Roc and Precision in 80 Estimators are 0.7087 and 0.0\n"
     ]
    },
    {
     "name": "stderr",
     "output_type": "stream",
     "text": [
      "/Users/ziye.zhou/Documents/Work/cost_anomaly_detection/tensorflow-venv/lib/python3.7/site-packages/sklearn/metrics/_classification.py:1272: UndefinedMetricWarning: Precision is ill-defined and being set to 0.0 due to no predicted samples. Use `zero_division` parameter to control this behavior.\n",
      "  _warn_prf(average, modifier, msg_start, len(result))\n"
     ]
    },
    {
     "name": "stdout",
     "output_type": "stream",
     "text": [
      "Isolation Forest Roc and Precision in 90 Estimators are 0.6869 and 0.0\n"
     ]
    },
    {
     "name": "stderr",
     "output_type": "stream",
     "text": [
      "/Users/ziye.zhou/Documents/Work/cost_anomaly_detection/tensorflow-venv/lib/python3.7/site-packages/sklearn/metrics/_classification.py:1272: UndefinedMetricWarning: Precision is ill-defined and being set to 0.0 due to no predicted samples. Use `zero_division` parameter to control this behavior.\n",
      "  _warn_prf(average, modifier, msg_start, len(result))\n"
     ]
    },
    {
     "name": "stdout",
     "output_type": "stream",
     "text": [
      "Isolation Forest Roc and Precision in 100 Estimators are 0.6105 and 0.0\n"
     ]
    },
    {
     "name": "stderr",
     "output_type": "stream",
     "text": [
      "/Users/ziye.zhou/Documents/Work/cost_anomaly_detection/tensorflow-venv/lib/python3.7/site-packages/sklearn/metrics/_classification.py:1272: UndefinedMetricWarning: Precision is ill-defined and being set to 0.0 due to no predicted samples. Use `zero_division` parameter to control this behavior.\n",
      "  _warn_prf(average, modifier, msg_start, len(result))\n"
     ]
    },
    {
     "name": "stdout",
     "output_type": "stream",
     "text": [
      "Isolation Forest Roc and Precision in 150 Estimators are 0.7495 and 0.0\n"
     ]
    },
    {
     "name": "stderr",
     "output_type": "stream",
     "text": [
      "/Users/ziye.zhou/Documents/Work/cost_anomaly_detection/tensorflow-venv/lib/python3.7/site-packages/sklearn/metrics/_classification.py:1272: UndefinedMetricWarning: Precision is ill-defined and being set to 0.0 due to no predicted samples. Use `zero_division` parameter to control this behavior.\n",
      "  _warn_prf(average, modifier, msg_start, len(result))\n"
     ]
    },
    {
     "name": "stdout",
     "output_type": "stream",
     "text": [
      "Isolation Forest Roc and Precision in 200 Estimators are 0.7084 and 0.0\n"
     ]
    },
    {
     "name": "stderr",
     "output_type": "stream",
     "text": [
      "/Users/ziye.zhou/Documents/Work/cost_anomaly_detection/tensorflow-venv/lib/python3.7/site-packages/sklearn/metrics/_classification.py:1272: UndefinedMetricWarning: Precision is ill-defined and being set to 0.0 due to no predicted samples. Use `zero_division` parameter to control this behavior.\n",
      "  _warn_prf(average, modifier, msg_start, len(result))\n"
     ]
    },
    {
     "name": "stdout",
     "output_type": "stream",
     "text": [
      "Isolation Forest Roc and Precision in 250 Estimators are 0.6806 and 0.0\n",
      "\n",
      "\n",
      "Processing Extreme_Grandient_Boost_\n"
     ]
    },
    {
     "name": "stderr",
     "output_type": "stream",
     "text": [
      "/Users/ziye.zhou/Documents/Work/cost_anomaly_detection/tensorflow-venv/lib/python3.7/site-packages/sklearn/metrics/_classification.py:1272: UndefinedMetricWarning: Precision is ill-defined and being set to 0.0 due to no predicted samples. Use `zero_division` parameter to control this behavior.\n",
      "  _warn_prf(average, modifier, msg_start, len(result))\n"
     ]
    },
    {
     "name": "stdout",
     "output_type": "stream",
     "text": [
      "Processing Random_Forest_\n"
     ]
    },
    {
     "name": "stderr",
     "output_type": "stream",
     "text": [
      "/Users/ziye.zhou/Documents/Work/cost_anomaly_detection/tensorflow-venv/lib/python3.7/site-packages/sklearn/metrics/_classification.py:1272: UndefinedMetricWarning: Precision is ill-defined and being set to 0.0 due to no predicted samples. Use `zero_division` parameter to control this behavior.\n",
      "  _warn_prf(average, modifier, msg_start, len(result))\n"
     ]
    },
    {
     "name": "stdout",
     "output_type": "stream",
     "text": [
      "\n",
      "\n",
      "Processing trial 8 out of 10 \n",
      "\n",
      "largest KNN Roc and Precision in 1 Neighbors are 0.2361 and 0.0\n",
      "largest KNN Roc and Precision in 2 Neighbors are 0.2197 and 0.0\n",
      "largest KNN Roc and Precision in 3 Neighbors are 0.206 and 0.0\n",
      "largest KNN Roc and Precision in 4 Neighbors are 0.1956 and 0.0\n",
      "largest KNN Roc and Precision in 5 Neighbors are 0.1984 and 0.0\n",
      "largest KNN Roc and Precision in 10 Neighbors are 0.2508 and 0.0\n",
      "largest KNN Roc and Precision in 15 Neighbors are 0.2503 and 0.0\n",
      "largest KNN Roc and Precision in 20 Neighbors are 0.2525 and 0.0\n",
      "largest KNN Roc and Precision in 30 Neighbors are 0.2486 and 0.0\n",
      "largest KNN Roc and Precision in 40 Neighbors are 0.2464 and 0.0\n",
      "largest KNN Roc and Precision in 50 Neighbors are 0.2574 and 0.0\n",
      "largest KNN Roc and Precision in 60 Neighbors are 0.2503 and 0.0\n",
      "largest KNN Roc and Precision in 70 Neighbors are 0.247 and 0.0\n",
      "largest KNN Roc and Precision in 80 Neighbors are 0.2607 and 0.0\n",
      "largest KNN Roc and Precision in 90 Neighbors are 0.2738 and 0.0\n",
      "largest KNN Roc and Precision in 100 Neighbors are 0.277 and 0.0\n",
      "\n",
      "\n",
      "mean KNN Roc and Precision in 1 Neighbors are 0.2361 and 0.0\n",
      "mean KNN Roc and Precision in 2 Neighbors are 0.2224 and 0.0\n",
      "mean KNN Roc and Precision in 3 Neighbors are 0.2131 and 0.0\n",
      "mean KNN Roc and Precision in 4 Neighbors are 0.2071 and 0.0\n",
      "mean KNN Roc and Precision in 5 Neighbors are 0.2 and 0.0\n",
      "mean KNN Roc and Precision in 10 Neighbors are 0.218 and 0.0\n",
      "mean KNN Roc and Precision in 15 Neighbors are 0.2333 and 0.0\n",
      "mean KNN Roc and Precision in 20 Neighbors are 0.2361 and 0.0\n",
      "mean KNN Roc and Precision in 30 Neighbors are 0.2448 and 0.0\n",
      "mean KNN Roc and Precision in 40 Neighbors are 0.2475 and 0.0\n",
      "mean KNN Roc and Precision in 50 Neighbors are 0.2492 and 0.0\n",
      "mean KNN Roc and Precision in 60 Neighbors are 0.247 and 0.0\n",
      "mean KNN Roc and Precision in 70 Neighbors are 0.2448 and 0.0\n",
      "mean KNN Roc and Precision in 80 Neighbors are 0.2464 and 0.0\n",
      "mean KNN Roc and Precision in 90 Neighbors are 0.2481 and 0.0\n",
      "mean KNN Roc and Precision in 100 Neighbors are 0.2508 and 0.0\n",
      "\n",
      "\n",
      "median KNN Roc and Precision in 1 Neighbors are 0.2361 and 0.0\n",
      "median KNN Roc and Precision in 2 Neighbors are 0.2224 and 0.0\n",
      "median KNN Roc and Precision in 3 Neighbors are 0.2197 and 0.0\n",
      "median KNN Roc and Precision in 4 Neighbors are 0.2077 and 0.0\n",
      "median KNN Roc and Precision in 5 Neighbors are 0.206 and 0.0\n",
      "median KNN Roc and Precision in 10 Neighbors are 0.2033 and 0.0\n",
      "median KNN Roc and Precision in 15 Neighbors are 0.2339 and 0.0\n",
      "median KNN Roc and Precision in 20 Neighbors are 0.2546 and 0.0\n",
      "median KNN Roc and Precision in 30 Neighbors are 0.2503 and 0.0\n",
      "median KNN Roc and Precision in 40 Neighbors are 0.253 and 0.0\n",
      "median KNN Roc and Precision in 50 Neighbors are 0.241 and 0.0\n",
      "median KNN Roc and Precision in 60 Neighbors are 0.2486 and 0.0\n",
      "median KNN Roc and Precision in 70 Neighbors are 0.2464 and 0.0\n",
      "median KNN Roc and Precision in 80 Neighbors are 0.2459 and 0.0\n",
      "median KNN Roc and Precision in 90 Neighbors are 0.2508 and 0.0\n",
      "median KNN Roc and Precision in 100 Neighbors are 0.2568 and 0.0\n",
      "\n",
      "\n",
      "Local Outlier Factor Roc and Precision in 1 Neighbors are 0.4765 and 0.0\n",
      "Local Outlier Factor Roc and Precision in 2 Neighbors are 0.3945 and 0.0\n",
      "Local Outlier Factor Roc and Precision in 3 Neighbors are 0.4869 and 0.0\n",
      "Local Outlier Factor Roc and Precision in 4 Neighbors are 0.5511 and 0.0\n",
      "Local Outlier Factor Roc and Precision in 5 Neighbors are 0.6669 and 0.0\n",
      "Local Outlier Factor Roc and Precision in 10 Neighbors are 0.6552 and 0.0\n",
      "Local Outlier Factor Roc and Precision in 15 Neighbors are 0.7885 and 0.0\n",
      "Local Outlier Factor Roc and Precision in 20 Neighbors are 0.724 and 0.0\n"
     ]
    },
    {
     "name": "stderr",
     "output_type": "stream",
     "text": [
      "/Users/ziye.zhou/Documents/Work/cost_anomaly_detection/tensorflow-venv/lib/python3.7/site-packages/sklearn/metrics/_classification.py:1272: UndefinedMetricWarning: Precision is ill-defined and being set to 0.0 due to no predicted samples. Use `zero_division` parameter to control this behavior.\n",
      "  _warn_prf(average, modifier, msg_start, len(result))\n"
     ]
    },
    {
     "name": "stdout",
     "output_type": "stream",
     "text": [
      "Local Outlier Factor Roc and Precision in 30 Neighbors are 0.7087 and 0.0\n",
      "Local Outlier Factor Roc and Precision in 40 Neighbors are 0.7066 and 0.0\n",
      "Local Outlier Factor Roc and Precision in 50 Neighbors are 0.7388 and 0.0\n",
      "Local Outlier Factor Roc and Precision in 60 Neighbors are 0.7208 and 0.0\n",
      "Local Outlier Factor Roc and Precision in 70 Neighbors are 0.8117 and 0.0\n",
      "Local Outlier Factor Roc and Precision in 80 Neighbors are 0.788 and 0.0\n",
      "Local Outlier Factor Roc and Precision in 90 Neighbors are 0.765 and 0.0\n",
      "Local Outlier Factor Roc and Precision in 100 Neighbors are 0.7486 and 0.0\n",
      "\n",
      "\n",
      "Support Vector Machine Roc and Precision in 0.01 are 0.2208 and 0.0\n",
      "Support Vector Machine Roc and Precision in 0.1 are 0.271 and 0.0\n",
      "Support Vector Machine Roc and Precision in 0.2 are 0.3071 and 0.0\n",
      "Support Vector Machine Roc and Precision in 0.3 are 0.3153 and 0.0\n",
      "Support Vector Machine Roc and Precision in 0.4 are 0.329 and 0.0\n",
      "Support Vector Machine Roc and Precision in 0.5 are 0.3317 and 0.0\n",
      "Support Vector Machine Roc and Precision in 0.6 are 0.3344 and 0.0\n",
      "Support Vector Machine Roc and Precision in 0.7 are 0.3399 and 0.0\n",
      "Support Vector Machine Roc and Precision in 0.8 are 0.3454 and 0.0\n",
      "Support Vector Machine Roc and Precision in 0.9 are 0.3454 and 0.0\n",
      "Support Vector Machine Roc and Precision in 0.99 are 0.3454 and 0.0\n",
      "\n",
      "\n",
      "Isolation Forest Roc and Precision in 10 Estimators are 0.6653 and 0.0\n",
      "Isolation Forest Roc and Precision in 20 Estimators are 0.6694 and 0.0\n"
     ]
    },
    {
     "name": "stderr",
     "output_type": "stream",
     "text": [
      "/Users/ziye.zhou/Documents/Work/cost_anomaly_detection/tensorflow-venv/lib/python3.7/site-packages/sklearn/metrics/_classification.py:1272: UndefinedMetricWarning: Precision is ill-defined and being set to 0.0 due to no predicted samples. Use `zero_division` parameter to control this behavior.\n",
      "  _warn_prf(average, modifier, msg_start, len(result))\n",
      "/Users/ziye.zhou/Documents/Work/cost_anomaly_detection/tensorflow-venv/lib/python3.7/site-packages/sklearn/metrics/_classification.py:1272: UndefinedMetricWarning: Precision is ill-defined and being set to 0.0 due to no predicted samples. Use `zero_division` parameter to control this behavior.\n",
      "  _warn_prf(average, modifier, msg_start, len(result))\n",
      "/Users/ziye.zhou/Documents/Work/cost_anomaly_detection/tensorflow-venv/lib/python3.7/site-packages/sklearn/metrics/_classification.py:1272: UndefinedMetricWarning: Precision is ill-defined and being set to 0.0 due to no predicted samples. Use `zero_division` parameter to control this behavior.\n",
      "  _warn_prf(average, modifier, msg_start, len(result))\n",
      "/Users/ziye.zhou/Documents/Work/cost_anomaly_detection/tensorflow-venv/lib/python3.7/site-packages/sklearn/metrics/_classification.py:1272: UndefinedMetricWarning: Precision is ill-defined and being set to 0.0 due to no predicted samples. Use `zero_division` parameter to control this behavior.\n",
      "  _warn_prf(average, modifier, msg_start, len(result))\n"
     ]
    },
    {
     "name": "stdout",
     "output_type": "stream",
     "text": [
      "Isolation Forest Roc and Precision in 30 Estimators are 0.6101 and 0.0\n",
      "Isolation Forest Roc and Precision in 40 Estimators are 0.694 and 0.0\n",
      "Isolation Forest Roc and Precision in 50 Estimators are 0.7527 and 0.0\n"
     ]
    },
    {
     "name": "stderr",
     "output_type": "stream",
     "text": [
      "/Users/ziye.zhou/Documents/Work/cost_anomaly_detection/tensorflow-venv/lib/python3.7/site-packages/sklearn/metrics/_classification.py:1272: UndefinedMetricWarning: Precision is ill-defined and being set to 0.0 due to no predicted samples. Use `zero_division` parameter to control this behavior.\n",
      "  _warn_prf(average, modifier, msg_start, len(result))\n",
      "/Users/ziye.zhou/Documents/Work/cost_anomaly_detection/tensorflow-venv/lib/python3.7/site-packages/sklearn/metrics/_classification.py:1272: UndefinedMetricWarning: Precision is ill-defined and being set to 0.0 due to no predicted samples. Use `zero_division` parameter to control this behavior.\n",
      "  _warn_prf(average, modifier, msg_start, len(result))\n"
     ]
    },
    {
     "name": "stdout",
     "output_type": "stream",
     "text": [
      "Isolation Forest Roc and Precision in 60 Estimators are 0.7486 and 0.0\n",
      "Isolation Forest Roc and Precision in 70 Estimators are 0.7268 and 0.0\n"
     ]
    },
    {
     "name": "stderr",
     "output_type": "stream",
     "text": [
      "/Users/ziye.zhou/Documents/Work/cost_anomaly_detection/tensorflow-venv/lib/python3.7/site-packages/sklearn/metrics/_classification.py:1272: UndefinedMetricWarning: Precision is ill-defined and being set to 0.0 due to no predicted samples. Use `zero_division` parameter to control this behavior.\n",
      "  _warn_prf(average, modifier, msg_start, len(result))\n",
      "/Users/ziye.zhou/Documents/Work/cost_anomaly_detection/tensorflow-venv/lib/python3.7/site-packages/sklearn/metrics/_classification.py:1272: UndefinedMetricWarning: Precision is ill-defined and being set to 0.0 due to no predicted samples. Use `zero_division` parameter to control this behavior.\n",
      "  _warn_prf(average, modifier, msg_start, len(result))\n"
     ]
    },
    {
     "name": "stdout",
     "output_type": "stream",
     "text": [
      "Isolation Forest Roc and Precision in 80 Estimators are 0.7582 and 0.0\n",
      "Isolation Forest Roc and Precision in 90 Estimators are 0.7582 and 0.0\n"
     ]
    },
    {
     "name": "stderr",
     "output_type": "stream",
     "text": [
      "/Users/ziye.zhou/Documents/Work/cost_anomaly_detection/tensorflow-venv/lib/python3.7/site-packages/sklearn/metrics/_classification.py:1272: UndefinedMetricWarning: Precision is ill-defined and being set to 0.0 due to no predicted samples. Use `zero_division` parameter to control this behavior.\n",
      "  _warn_prf(average, modifier, msg_start, len(result))\n",
      "/Users/ziye.zhou/Documents/Work/cost_anomaly_detection/tensorflow-venv/lib/python3.7/site-packages/sklearn/metrics/_classification.py:1272: UndefinedMetricWarning: Precision is ill-defined and being set to 0.0 due to no predicted samples. Use `zero_division` parameter to control this behavior.\n",
      "  _warn_prf(average, modifier, msg_start, len(result))\n"
     ]
    },
    {
     "name": "stdout",
     "output_type": "stream",
     "text": [
      "Isolation Forest Roc and Precision in 100 Estimators are 0.627 and 0.0\n"
     ]
    },
    {
     "name": "stderr",
     "output_type": "stream",
     "text": [
      "/Users/ziye.zhou/Documents/Work/cost_anomaly_detection/tensorflow-venv/lib/python3.7/site-packages/sklearn/metrics/_classification.py:1272: UndefinedMetricWarning: Precision is ill-defined and being set to 0.0 due to no predicted samples. Use `zero_division` parameter to control this behavior.\n",
      "  _warn_prf(average, modifier, msg_start, len(result))\n"
     ]
    },
    {
     "name": "stdout",
     "output_type": "stream",
     "text": [
      "Isolation Forest Roc and Precision in 150 Estimators are 0.6822 and 0.0\n"
     ]
    },
    {
     "name": "stderr",
     "output_type": "stream",
     "text": [
      "/Users/ziye.zhou/Documents/Work/cost_anomaly_detection/tensorflow-venv/lib/python3.7/site-packages/sklearn/metrics/_classification.py:1272: UndefinedMetricWarning: Precision is ill-defined and being set to 0.0 due to no predicted samples. Use `zero_division` parameter to control this behavior.\n",
      "  _warn_prf(average, modifier, msg_start, len(result))\n"
     ]
    },
    {
     "name": "stdout",
     "output_type": "stream",
     "text": [
      "Isolation Forest Roc and Precision in 200 Estimators are 0.7719 and 0.0\n"
     ]
    },
    {
     "name": "stderr",
     "output_type": "stream",
     "text": [
      "/Users/ziye.zhou/Documents/Work/cost_anomaly_detection/tensorflow-venv/lib/python3.7/site-packages/sklearn/metrics/_classification.py:1272: UndefinedMetricWarning: Precision is ill-defined and being set to 0.0 due to no predicted samples. Use `zero_division` parameter to control this behavior.\n",
      "  _warn_prf(average, modifier, msg_start, len(result))\n"
     ]
    },
    {
     "name": "stdout",
     "output_type": "stream",
     "text": [
      "Isolation Forest Roc and Precision in 250 Estimators are 0.7992 and 0.0\n",
      "\n",
      "\n",
      "Processing Extreme_Grandient_Boost_\n"
     ]
    },
    {
     "name": "stderr",
     "output_type": "stream",
     "text": [
      "/Users/ziye.zhou/Documents/Work/cost_anomaly_detection/tensorflow-venv/lib/python3.7/site-packages/sklearn/metrics/_classification.py:1272: UndefinedMetricWarning: Precision is ill-defined and being set to 0.0 due to no predicted samples. Use `zero_division` parameter to control this behavior.\n",
      "  _warn_prf(average, modifier, msg_start, len(result))\n"
     ]
    },
    {
     "name": "stdout",
     "output_type": "stream",
     "text": [
      "Processing Random_Forest_\n",
      "\n",
      "\n",
      "Processing trial 9 out of 10 \n",
      "\n",
      "largest KNN Roc and Precision in 1 Neighbors are 0.3324 and 0.0\n",
      "largest KNN Roc and Precision in 2 Neighbors are 0.3163 and 0.0\n",
      "largest KNN Roc and Precision in 3 Neighbors are 0.29 and 0.0\n",
      "largest KNN Roc and Precision in 4 Neighbors are 0.2889 and 0.0\n",
      "largest KNN Roc and Precision in 5 Neighbors are 0.2826 and 0.0\n",
      "largest KNN Roc and Precision in 10 Neighbors are 0.2943 and 0.0\n",
      "largest KNN Roc and Precision in 15 Neighbors are 0.3026 and 0.0\n",
      "largest KNN Roc and Precision in 20 Neighbors are 0.3034 and 0.0\n",
      "largest KNN Roc and Precision in 30 Neighbors are 0.3053 and 0.0\n",
      "largest KNN Roc and Precision in 40 Neighbors are 0.3057 and 0.0\n",
      "largest KNN Roc and Precision in 50 Neighbors are 0.3132 and 0.0\n",
      "largest KNN Roc and Precision in 60 Neighbors are 0.3136 and 0.0\n",
      "largest KNN Roc and Precision in 70 Neighbors are 0.3159 and 0.0\n",
      "largest KNN Roc and Precision in 80 Neighbors are 0.3195 and 0.0\n",
      "largest KNN Roc and Precision in 90 Neighbors are 0.3242 and 0.0\n",
      "largest KNN Roc and Precision in 100 Neighbors are 0.3261 and 0.0\n",
      "\n",
      "\n",
      "mean KNN Roc and Precision in 1 Neighbors are 0.3324 and 0.0\n",
      "mean KNN Roc and Precision in 2 Neighbors are 0.3167 and 0.0\n",
      "mean KNN Roc and Precision in 3 Neighbors are 0.2912 and 0.0\n",
      "mean KNN Roc and Precision in 4 Neighbors are 0.2889 and 0.0\n",
      "mean KNN Roc and Precision in 5 Neighbors are 0.2838 and 0.0\n",
      "mean KNN Roc and Precision in 10 Neighbors are 0.2861 and 0.0\n",
      "mean KNN Roc and Precision in 15 Neighbors are 0.294 and 0.0\n",
      "mean KNN Roc and Precision in 20 Neighbors are 0.2959 and 0.0\n",
      "mean KNN Roc and Precision in 30 Neighbors are 0.3014 and 0.0\n",
      "mean KNN Roc and Precision in 40 Neighbors are 0.3038 and 0.0\n",
      "mean KNN Roc and Precision in 50 Neighbors are 0.3069 and 0.0\n",
      "mean KNN Roc and Precision in 60 Neighbors are 0.3093 and 0.0\n",
      "mean KNN Roc and Precision in 70 Neighbors are 0.3112 and 0.0\n",
      "mean KNN Roc and Precision in 80 Neighbors are 0.3116 and 0.0\n",
      "mean KNN Roc and Precision in 90 Neighbors are 0.3144 and 0.0\n",
      "mean KNN Roc and Precision in 100 Neighbors are 0.3159 and 0.0\n",
      "\n",
      "\n",
      "median KNN Roc and Precision in 1 Neighbors are 0.3324 and 0.0\n",
      "median KNN Roc and Precision in 2 Neighbors are 0.3167 and 0.0\n",
      "median KNN Roc and Precision in 3 Neighbors are 0.3163 and 0.0\n",
      "median KNN Roc and Precision in 4 Neighbors are 0.2928 and 0.0\n",
      "median KNN Roc and Precision in 5 Neighbors are 0.29 and 0.0\n",
      "median KNN Roc and Precision in 10 Neighbors are 0.2834 and 0.0\n",
      "median KNN Roc and Precision in 15 Neighbors are 0.294 and 0.0\n",
      "median KNN Roc and Precision in 20 Neighbors are 0.303 and 0.0\n",
      "median KNN Roc and Precision in 30 Neighbors are 0.3026 and 0.0\n",
      "median KNN Roc and Precision in 40 Neighbors are 0.3038 and 0.0\n",
      "median KNN Roc and Precision in 50 Neighbors are 0.3112 and 0.0\n",
      "median KNN Roc and Precision in 60 Neighbors are 0.3057 and 0.0\n",
      "median KNN Roc and Precision in 70 Neighbors are 0.3069 and 0.0\n",
      "median KNN Roc and Precision in 80 Neighbors are 0.3053 and 0.0\n",
      "median KNN Roc and Precision in 90 Neighbors are 0.3112 and 0.0\n",
      "median KNN Roc and Precision in 100 Neighbors are 0.3132 and 0.0\n",
      "\n",
      "\n",
      "Local Outlier Factor Roc and Precision in 1 Neighbors are 0.4639 and 0.0\n",
      "Local Outlier Factor Roc and Precision in 2 Neighbors are 0.6093 and 0.0\n",
      "Local Outlier Factor Roc and Precision in 3 Neighbors are 0.6605 and 0.0\n",
      "Local Outlier Factor Roc and Precision in 4 Neighbors are 0.8379 and 0.1429\n",
      "Local Outlier Factor Roc and Precision in 5 Neighbors are 0.852 and 0.2857\n",
      "Local Outlier Factor Roc and Precision in 10 Neighbors are 0.7131 and 0.0\n",
      "Local Outlier Factor Roc and Precision in 15 Neighbors are 0.6801 and 0.0\n",
      "Local Outlier Factor Roc and Precision in 20 Neighbors are 0.6115 and 0.0\n",
      "Local Outlier Factor Roc and Precision in 30 Neighbors are 0.5255 and 0.0\n",
      "Local Outlier Factor Roc and Precision in 40 Neighbors are 0.4804 and 0.0\n",
      "Local Outlier Factor Roc and Precision in 50 Neighbors are 0.4914 and 0.0\n",
      "Local Outlier Factor Roc and Precision in 60 Neighbors are 0.5002 and 0.0\n"
     ]
    },
    {
     "name": "stderr",
     "output_type": "stream",
     "text": [
      "/Users/ziye.zhou/Documents/Work/cost_anomaly_detection/tensorflow-venv/lib/python3.7/site-packages/sklearn/metrics/_classification.py:1272: UndefinedMetricWarning: Precision is ill-defined and being set to 0.0 due to no predicted samples. Use `zero_division` parameter to control this behavior.\n",
      "  _warn_prf(average, modifier, msg_start, len(result))\n"
     ]
    },
    {
     "name": "stdout",
     "output_type": "stream",
     "text": [
      "Local Outlier Factor Roc and Precision in 70 Neighbors are 0.5037 and 0.0\n",
      "Local Outlier Factor Roc and Precision in 80 Neighbors are 0.5039 and 0.0\n",
      "Local Outlier Factor Roc and Precision in 90 Neighbors are 0.5094 and 0.0\n",
      "Local Outlier Factor Roc and Precision in 100 Neighbors are 0.5149 and 0.0\n",
      "\n",
      "\n",
      "Support Vector Machine Roc and Precision in 0.01 are 0.3038 and 0.0\n",
      "Support Vector Machine Roc and Precision in 0.1 are 0.3599 and 0.0\n",
      "Support Vector Machine Roc and Precision in 0.2 are 0.3881 and 0.0\n",
      "Support Vector Machine Roc and Precision in 0.3 are 0.3968 and 0.0\n",
      "Support Vector Machine Roc and Precision in 0.4 are 0.4105 and 0.0\n",
      "Support Vector Machine Roc and Precision in 0.5 are 0.427 and 0.0\n",
      "Support Vector Machine Roc and Precision in 0.6 are 0.4337 and 0.0\n",
      "Support Vector Machine Roc and Precision in 0.7 are 0.4419 and 0.0\n",
      "Support Vector Machine Roc and Precision in 0.8 are 0.4447 and 0.0\n",
      "Support Vector Machine Roc and Precision in 0.9 are 0.4447 and 0.0\n",
      "Support Vector Machine Roc and Precision in 0.99 are 0.4474 and 0.0\n",
      "\n",
      "\n",
      "Isolation Forest Roc and Precision in 10 Estimators are 0.6003 and 0.0\n"
     ]
    },
    {
     "name": "stderr",
     "output_type": "stream",
     "text": [
      "/Users/ziye.zhou/Documents/Work/cost_anomaly_detection/tensorflow-venv/lib/python3.7/site-packages/sklearn/metrics/_classification.py:1272: UndefinedMetricWarning: Precision is ill-defined and being set to 0.0 due to no predicted samples. Use `zero_division` parameter to control this behavior.\n",
      "  _warn_prf(average, modifier, msg_start, len(result))\n",
      "/Users/ziye.zhou/Documents/Work/cost_anomaly_detection/tensorflow-venv/lib/python3.7/site-packages/sklearn/metrics/_classification.py:1272: UndefinedMetricWarning: Precision is ill-defined and being set to 0.0 due to no predicted samples. Use `zero_division` parameter to control this behavior.\n",
      "  _warn_prf(average, modifier, msg_start, len(result))\n",
      "/Users/ziye.zhou/Documents/Work/cost_anomaly_detection/tensorflow-venv/lib/python3.7/site-packages/sklearn/metrics/_classification.py:1272: UndefinedMetricWarning: Precision is ill-defined and being set to 0.0 due to no predicted samples. Use `zero_division` parameter to control this behavior.\n",
      "  _warn_prf(average, modifier, msg_start, len(result))\n",
      "/Users/ziye.zhou/Documents/Work/cost_anomaly_detection/tensorflow-venv/lib/python3.7/site-packages/sklearn/metrics/_classification.py:1272: UndefinedMetricWarning: Precision is ill-defined and being set to 0.0 due to no predicted samples. Use `zero_division` parameter to control this behavior.\n",
      "  _warn_prf(average, modifier, msg_start, len(result))\n"
     ]
    },
    {
     "name": "stdout",
     "output_type": "stream",
     "text": [
      "Isolation Forest Roc and Precision in 20 Estimators are 0.6387 and 0.0\n",
      "Isolation Forest Roc and Precision in 30 Estimators are 0.7225 and 0.0\n",
      "Isolation Forest Roc and Precision in 40 Estimators are 0.6758 and 0.0\n"
     ]
    },
    {
     "name": "stderr",
     "output_type": "stream",
     "text": [
      "/Users/ziye.zhou/Documents/Work/cost_anomaly_detection/tensorflow-venv/lib/python3.7/site-packages/sklearn/metrics/_classification.py:1272: UndefinedMetricWarning: Precision is ill-defined and being set to 0.0 due to no predicted samples. Use `zero_division` parameter to control this behavior.\n",
      "  _warn_prf(average, modifier, msg_start, len(result))\n",
      "/Users/ziye.zhou/Documents/Work/cost_anomaly_detection/tensorflow-venv/lib/python3.7/site-packages/sklearn/metrics/_classification.py:1272: UndefinedMetricWarning: Precision is ill-defined and being set to 0.0 due to no predicted samples. Use `zero_division` parameter to control this behavior.\n",
      "  _warn_prf(average, modifier, msg_start, len(result))\n"
     ]
    },
    {
     "name": "stdout",
     "output_type": "stream",
     "text": [
      "Isolation Forest Roc and Precision in 50 Estimators are 0.6909 and 0.0\n",
      "Isolation Forest Roc and Precision in 60 Estimators are 0.7088 and 0.0\n"
     ]
    },
    {
     "name": "stderr",
     "output_type": "stream",
     "text": [
      "/Users/ziye.zhou/Documents/Work/cost_anomaly_detection/tensorflow-venv/lib/python3.7/site-packages/sklearn/metrics/_classification.py:1272: UndefinedMetricWarning: Precision is ill-defined and being set to 0.0 due to no predicted samples. Use `zero_division` parameter to control this behavior.\n",
      "  _warn_prf(average, modifier, msg_start, len(result))\n",
      "/Users/ziye.zhou/Documents/Work/cost_anomaly_detection/tensorflow-venv/lib/python3.7/site-packages/sklearn/metrics/_classification.py:1272: UndefinedMetricWarning: Precision is ill-defined and being set to 0.0 due to no predicted samples. Use `zero_division` parameter to control this behavior.\n",
      "  _warn_prf(average, modifier, msg_start, len(result))\n"
     ]
    },
    {
     "name": "stdout",
     "output_type": "stream",
     "text": [
      "Isolation Forest Roc and Precision in 70 Estimators are 0.6766 and 0.0\n",
      "Isolation Forest Roc and Precision in 80 Estimators are 0.7239 and 0.0\n"
     ]
    },
    {
     "name": "stderr",
     "output_type": "stream",
     "text": [
      "/Users/ziye.zhou/Documents/Work/cost_anomaly_detection/tensorflow-venv/lib/python3.7/site-packages/sklearn/metrics/_classification.py:1272: UndefinedMetricWarning: Precision is ill-defined and being set to 0.0 due to no predicted samples. Use `zero_division` parameter to control this behavior.\n",
      "  _warn_prf(average, modifier, msg_start, len(result))\n",
      "/Users/ziye.zhou/Documents/Work/cost_anomaly_detection/tensorflow-venv/lib/python3.7/site-packages/sklearn/metrics/_classification.py:1272: UndefinedMetricWarning: Precision is ill-defined and being set to 0.0 due to no predicted samples. Use `zero_division` parameter to control this behavior.\n",
      "  _warn_prf(average, modifier, msg_start, len(result))\n"
     ]
    },
    {
     "name": "stdout",
     "output_type": "stream",
     "text": [
      "Isolation Forest Roc and Precision in 90 Estimators are 0.7009 and 0.0\n",
      "Isolation Forest Roc and Precision in 100 Estimators are 0.7013 and 0.0\n"
     ]
    },
    {
     "name": "stderr",
     "output_type": "stream",
     "text": [
      "/Users/ziye.zhou/Documents/Work/cost_anomaly_detection/tensorflow-venv/lib/python3.7/site-packages/sklearn/metrics/_classification.py:1272: UndefinedMetricWarning: Precision is ill-defined and being set to 0.0 due to no predicted samples. Use `zero_division` parameter to control this behavior.\n",
      "  _warn_prf(average, modifier, msg_start, len(result))\n"
     ]
    },
    {
     "name": "stdout",
     "output_type": "stream",
     "text": [
      "Isolation Forest Roc and Precision in 150 Estimators are 0.6325 and 0.0\n"
     ]
    },
    {
     "name": "stderr",
     "output_type": "stream",
     "text": [
      "/Users/ziye.zhou/Documents/Work/cost_anomaly_detection/tensorflow-venv/lib/python3.7/site-packages/sklearn/metrics/_classification.py:1272: UndefinedMetricWarning: Precision is ill-defined and being set to 0.0 due to no predicted samples. Use `zero_division` parameter to control this behavior.\n",
      "  _warn_prf(average, modifier, msg_start, len(result))\n"
     ]
    },
    {
     "name": "stdout",
     "output_type": "stream",
     "text": [
      "Isolation Forest Roc and Precision in 200 Estimators are 0.7335 and 0.0\n"
     ]
    },
    {
     "name": "stderr",
     "output_type": "stream",
     "text": [
      "/Users/ziye.zhou/Documents/Work/cost_anomaly_detection/tensorflow-venv/lib/python3.7/site-packages/sklearn/metrics/_classification.py:1272: UndefinedMetricWarning: Precision is ill-defined and being set to 0.0 due to no predicted samples. Use `zero_division` parameter to control this behavior.\n",
      "  _warn_prf(average, modifier, msg_start, len(result))\n"
     ]
    },
    {
     "name": "stdout",
     "output_type": "stream",
     "text": [
      "Isolation Forest Roc and Precision in 250 Estimators are 0.737 and 0.0\n",
      "\n",
      "\n",
      "Processing Extreme_Grandient_Boost_\n",
      "Processing Random_Forest_\n"
     ]
    },
    {
     "name": "stderr",
     "output_type": "stream",
     "text": [
      "/Users/ziye.zhou/Documents/Work/cost_anomaly_detection/tensorflow-venv/lib/python3.7/site-packages/sklearn/metrics/_classification.py:1272: UndefinedMetricWarning: Precision is ill-defined and being set to 0.0 due to no predicted samples. Use `zero_division` parameter to control this behavior.\n",
      "  _warn_prf(average, modifier, msg_start, len(result))\n"
     ]
    },
    {
     "name": "stdout",
     "output_type": "stream",
     "text": [
      "\n",
      "\n",
      "Processing trial 10 out of 10 \n",
      "\n",
      "largest KNN Roc and Precision in 1 Neighbors are 0.3356 and 0.0\n",
      "largest KNN Roc and Precision in 2 Neighbors are 0.3081 and 0.0\n",
      "largest KNN Roc and Precision in 3 Neighbors are 0.2967 and 0.0\n",
      "largest KNN Roc and Precision in 4 Neighbors are 0.2936 and 0.0\n",
      "largest KNN Roc and Precision in 5 Neighbors are 0.2881 and 0.0\n",
      "largest KNN Roc and Precision in 10 Neighbors are 0.2928 and 0.0\n",
      "largest KNN Roc and Precision in 15 Neighbors are 0.323 and 0.0\n",
      "largest KNN Roc and Precision in 20 Neighbors are 0.3469 and 0.0\n",
      "largest KNN Roc and Precision in 30 Neighbors are 0.3544 and 0.0\n",
      "largest KNN Roc and Precision in 40 Neighbors are 0.3548 and 0.0\n",
      "largest KNN Roc and Precision in 50 Neighbors are 0.3438 and 0.0\n",
      "largest KNN Roc and Precision in 60 Neighbors are 0.3442 and 0.0\n",
      "largest KNN Roc and Precision in 70 Neighbors are 0.3509 and 0.0\n",
      "largest KNN Roc and Precision in 80 Neighbors are 0.354 and 0.0\n",
      "largest KNN Roc and Precision in 90 Neighbors are 0.3583 and 0.0\n",
      "largest KNN Roc and Precision in 100 Neighbors are 0.3591 and 0.0\n",
      "\n",
      "\n",
      "mean KNN Roc and Precision in 1 Neighbors are 0.3356 and 0.0\n",
      "mean KNN Roc and Precision in 2 Neighbors are 0.3108 and 0.0\n",
      "mean KNN Roc and Precision in 3 Neighbors are 0.3022 and 0.0\n",
      "mean KNN Roc and Precision in 4 Neighbors are 0.2963 and 0.0\n",
      "mean KNN Roc and Precision in 5 Neighbors are 0.29 and 0.0\n",
      "mean KNN Roc and Precision in 10 Neighbors are 0.2908 and 0.0\n",
      "mean KNN Roc and Precision in 15 Neighbors are 0.3093 and 0.0\n",
      "mean KNN Roc and Precision in 20 Neighbors are 0.3132 and 0.0\n",
      "mean KNN Roc and Precision in 30 Neighbors are 0.3293 and 0.0\n",
      "mean KNN Roc and Precision in 40 Neighbors are 0.3414 and 0.0\n",
      "mean KNN Roc and Precision in 50 Neighbors are 0.3454 and 0.0\n",
      "mean KNN Roc and Precision in 60 Neighbors are 0.3387 and 0.0\n",
      "mean KNN Roc and Precision in 70 Neighbors are 0.3399 and 0.0\n",
      "mean KNN Roc and Precision in 80 Neighbors are 0.3411 and 0.0\n",
      "mean KNN Roc and Precision in 90 Neighbors are 0.3454 and 0.0\n",
      "mean KNN Roc and Precision in 100 Neighbors are 0.3477 and 0.0\n",
      "\n",
      "\n",
      "median KNN Roc and Precision in 1 Neighbors are 0.3356 and 0.0\n",
      "median KNN Roc and Precision in 2 Neighbors are 0.3108 and 0.0\n",
      "median KNN Roc and Precision in 3 Neighbors are 0.3081 and 0.0\n",
      "median KNN Roc and Precision in 4 Neighbors are 0.2975 and 0.0\n",
      "median KNN Roc and Precision in 5 Neighbors are 0.2967 and 0.0\n",
      "median KNN Roc and Precision in 10 Neighbors are 0.2912 and 0.0\n",
      "median KNN Roc and Precision in 15 Neighbors are 0.3132 and 0.0\n",
      "median KNN Roc and Precision in 20 Neighbors are 0.3081 and 0.0\n",
      "median KNN Roc and Precision in 30 Neighbors are 0.3257 and 0.0\n",
      "median KNN Roc and Precision in 40 Neighbors are 0.3501 and 0.0\n",
      "median KNN Roc and Precision in 50 Neighbors are 0.352 and 0.0\n",
      "median KNN Roc and Precision in 60 Neighbors are 0.352 and 0.0\n",
      "median KNN Roc and Precision in 70 Neighbors are 0.352 and 0.0\n",
      "median KNN Roc and Precision in 80 Neighbors are 0.356 and 0.0\n",
      "median KNN Roc and Precision in 90 Neighbors are 0.3497 and 0.0\n",
      "median KNN Roc and Precision in 100 Neighbors are 0.3446 and 0.0\n",
      "\n",
      "\n",
      "Local Outlier Factor Roc and Precision in 1 Neighbors are 0.4062 and 0.0\n",
      "Local Outlier Factor Roc and Precision in 2 Neighbors are 0.7374 and 0.1429\n",
      "Local Outlier Factor Roc and Precision in 3 Neighbors are 0.6444 and 0.0\n",
      "Local Outlier Factor Roc and Precision in 4 Neighbors are 0.8069 and 0.0\n",
      "Local Outlier Factor Roc and Precision in 5 Neighbors are 0.794 and 0.0\n",
      "Local Outlier Factor Roc and Precision in 10 Neighbors are 0.6362 and 0.0\n",
      "Local Outlier Factor Roc and Precision in 15 Neighbors are 0.6425 and 0.0\n",
      "Local Outlier Factor Roc and Precision in 20 Neighbors are 0.719 and 0.0\n",
      "Local Outlier Factor Roc and Precision in 30 Neighbors are 0.6354 and 0.0\n",
      "Local Outlier Factor Roc and Precision in 40 Neighbors are 0.6381 and 0.0\n",
      "Local Outlier Factor Roc and Precision in 50 Neighbors are 0.5561 and 0.0\n",
      "Local Outlier Factor Roc and Precision in 60 Neighbors are 0.5805 and 0.0\n"
     ]
    },
    {
     "name": "stderr",
     "output_type": "stream",
     "text": [
      "/Users/ziye.zhou/Documents/Work/cost_anomaly_detection/tensorflow-venv/lib/python3.7/site-packages/sklearn/metrics/_classification.py:1272: UndefinedMetricWarning: Precision is ill-defined and being set to 0.0 due to no predicted samples. Use `zero_division` parameter to control this behavior.\n",
      "  _warn_prf(average, modifier, msg_start, len(result))\n"
     ]
    },
    {
     "name": "stdout",
     "output_type": "stream",
     "text": [
      "Local Outlier Factor Roc and Precision in 70 Neighbors are 0.5914 and 0.0\n",
      "Local Outlier Factor Roc and Precision in 80 Neighbors are 0.5871 and 0.0\n",
      "Local Outlier Factor Roc and Precision in 90 Neighbors are 0.5954 and 0.0\n",
      "Local Outlier Factor Roc and Precision in 100 Neighbors are 0.5871 and 0.0\n",
      "\n",
      "\n",
      "Support Vector Machine Roc and Precision in 0.01 are 0.3332 and 0.0\n",
      "Support Vector Machine Roc and Precision in 0.1 are 0.3744 and 0.0\n",
      "Support Vector Machine Roc and Precision in 0.2 are 0.4156 and 0.0\n",
      "Support Vector Machine Roc and Precision in 0.3 are 0.4192 and 0.0\n",
      "Support Vector Machine Roc and Precision in 0.4 are 0.4266 and 0.0\n",
      "Support Vector Machine Roc and Precision in 0.5 are 0.4376 and 0.0\n",
      "Support Vector Machine Roc and Precision in 0.6 are 0.4431 and 0.0\n",
      "Support Vector Machine Roc and Precision in 0.7 are 0.4486 and 0.0\n",
      "Support Vector Machine Roc and Precision in 0.8 are 0.4513 and 0.0\n",
      "Support Vector Machine Roc and Precision in 0.9 are 0.4513 and 0.0\n",
      "Support Vector Machine Roc and Precision in 0.99 are 0.4521 and 0.0\n",
      "\n",
      "\n",
      "Isolation Forest Roc and Precision in 10 Estimators are 0.6264 and 0.0\n"
     ]
    },
    {
     "name": "stderr",
     "output_type": "stream",
     "text": [
      "/Users/ziye.zhou/Documents/Work/cost_anomaly_detection/tensorflow-venv/lib/python3.7/site-packages/sklearn/metrics/_classification.py:1272: UndefinedMetricWarning: Precision is ill-defined and being set to 0.0 due to no predicted samples. Use `zero_division` parameter to control this behavior.\n",
      "  _warn_prf(average, modifier, msg_start, len(result))\n",
      "/Users/ziye.zhou/Documents/Work/cost_anomaly_detection/tensorflow-venv/lib/python3.7/site-packages/sklearn/metrics/_classification.py:1272: UndefinedMetricWarning: Precision is ill-defined and being set to 0.0 due to no predicted samples. Use `zero_division` parameter to control this behavior.\n",
      "  _warn_prf(average, modifier, msg_start, len(result))\n",
      "/Users/ziye.zhou/Documents/Work/cost_anomaly_detection/tensorflow-venv/lib/python3.7/site-packages/sklearn/metrics/_classification.py:1272: UndefinedMetricWarning: Precision is ill-defined and being set to 0.0 due to no predicted samples. Use `zero_division` parameter to control this behavior.\n",
      "  _warn_prf(average, modifier, msg_start, len(result))\n",
      "/Users/ziye.zhou/Documents/Work/cost_anomaly_detection/tensorflow-venv/lib/python3.7/site-packages/sklearn/metrics/_classification.py:1272: UndefinedMetricWarning: Precision is ill-defined and being set to 0.0 due to no predicted samples. Use `zero_division` parameter to control this behavior.\n",
      "  _warn_prf(average, modifier, msg_start, len(result))\n"
     ]
    },
    {
     "name": "stdout",
     "output_type": "stream",
     "text": [
      "Isolation Forest Roc and Precision in 20 Estimators are 0.6868 and 0.0\n",
      "Isolation Forest Roc and Precision in 30 Estimators are 0.6172 and 0.0\n",
      "Isolation Forest Roc and Precision in 40 Estimators are 0.6319 and 0.0\n"
     ]
    },
    {
     "name": "stderr",
     "output_type": "stream",
     "text": [
      "/Users/ziye.zhou/Documents/Work/cost_anomaly_detection/tensorflow-venv/lib/python3.7/site-packages/sklearn/metrics/_classification.py:1272: UndefinedMetricWarning: Precision is ill-defined and being set to 0.0 due to no predicted samples. Use `zero_division` parameter to control this behavior.\n",
      "  _warn_prf(average, modifier, msg_start, len(result))\n",
      "/Users/ziye.zhou/Documents/Work/cost_anomaly_detection/tensorflow-venv/lib/python3.7/site-packages/sklearn/metrics/_classification.py:1272: UndefinedMetricWarning: Precision is ill-defined and being set to 0.0 due to no predicted samples. Use `zero_division` parameter to control this behavior.\n",
      "  _warn_prf(average, modifier, msg_start, len(result))\n"
     ]
    },
    {
     "name": "stdout",
     "output_type": "stream",
     "text": [
      "Isolation Forest Roc and Precision in 50 Estimators are 0.6719 and 0.0\n",
      "Isolation Forest Roc and Precision in 60 Estimators are 0.6495 and 0.0\n"
     ]
    },
    {
     "name": "stderr",
     "output_type": "stream",
     "text": [
      "/Users/ziye.zhou/Documents/Work/cost_anomaly_detection/tensorflow-venv/lib/python3.7/site-packages/sklearn/metrics/_classification.py:1272: UndefinedMetricWarning: Precision is ill-defined and being set to 0.0 due to no predicted samples. Use `zero_division` parameter to control this behavior.\n",
      "  _warn_prf(average, modifier, msg_start, len(result))\n",
      "/Users/ziye.zhou/Documents/Work/cost_anomaly_detection/tensorflow-venv/lib/python3.7/site-packages/sklearn/metrics/_classification.py:1272: UndefinedMetricWarning: Precision is ill-defined and being set to 0.0 due to no predicted samples. Use `zero_division` parameter to control this behavior.\n",
      "  _warn_prf(average, modifier, msg_start, len(result))\n"
     ]
    },
    {
     "name": "stdout",
     "output_type": "stream",
     "text": [
      "Isolation Forest Roc and Precision in 70 Estimators are 0.634 and 0.0\n",
      "Isolation Forest Roc and Precision in 80 Estimators are 0.6837 and 0.0\n"
     ]
    },
    {
     "name": "stderr",
     "output_type": "stream",
     "text": [
      "/Users/ziye.zhou/Documents/Work/cost_anomaly_detection/tensorflow-venv/lib/python3.7/site-packages/sklearn/metrics/_classification.py:1272: UndefinedMetricWarning: Precision is ill-defined and being set to 0.0 due to no predicted samples. Use `zero_division` parameter to control this behavior.\n",
      "  _warn_prf(average, modifier, msg_start, len(result))\n"
     ]
    },
    {
     "name": "stdout",
     "output_type": "stream",
     "text": [
      "Isolation Forest Roc and Precision in 90 Estimators are 0.728 and 0.0\n"
     ]
    },
    {
     "name": "stderr",
     "output_type": "stream",
     "text": [
      "/Users/ziye.zhou/Documents/Work/cost_anomaly_detection/tensorflow-venv/lib/python3.7/site-packages/sklearn/metrics/_classification.py:1272: UndefinedMetricWarning: Precision is ill-defined and being set to 0.0 due to no predicted samples. Use `zero_division` parameter to control this behavior.\n",
      "  _warn_prf(average, modifier, msg_start, len(result))\n"
     ]
    },
    {
     "name": "stdout",
     "output_type": "stream",
     "text": [
      "Isolation Forest Roc and Precision in 100 Estimators are 0.6485 and 0.0\n"
     ]
    },
    {
     "name": "stderr",
     "output_type": "stream",
     "text": [
      "/Users/ziye.zhou/Documents/Work/cost_anomaly_detection/tensorflow-venv/lib/python3.7/site-packages/sklearn/metrics/_classification.py:1272: UndefinedMetricWarning: Precision is ill-defined and being set to 0.0 due to no predicted samples. Use `zero_division` parameter to control this behavior.\n",
      "  _warn_prf(average, modifier, msg_start, len(result))\n"
     ]
    },
    {
     "name": "stdout",
     "output_type": "stream",
     "text": [
      "Isolation Forest Roc and Precision in 150 Estimators are 0.6105 and 0.0\n"
     ]
    },
    {
     "name": "stderr",
     "output_type": "stream",
     "text": [
      "/Users/ziye.zhou/Documents/Work/cost_anomaly_detection/tensorflow-venv/lib/python3.7/site-packages/sklearn/metrics/_classification.py:1272: UndefinedMetricWarning: Precision is ill-defined and being set to 0.0 due to no predicted samples. Use `zero_division` parameter to control this behavior.\n",
      "  _warn_prf(average, modifier, msg_start, len(result))\n"
     ]
    },
    {
     "name": "stdout",
     "output_type": "stream",
     "text": [
      "Isolation Forest Roc and Precision in 200 Estimators are 0.675 and 0.0\n"
     ]
    },
    {
     "name": "stderr",
     "output_type": "stream",
     "text": [
      "/Users/ziye.zhou/Documents/Work/cost_anomaly_detection/tensorflow-venv/lib/python3.7/site-packages/sklearn/metrics/_classification.py:1272: UndefinedMetricWarning: Precision is ill-defined and being set to 0.0 due to no predicted samples. Use `zero_division` parameter to control this behavior.\n",
      "  _warn_prf(average, modifier, msg_start, len(result))\n"
     ]
    },
    {
     "name": "stdout",
     "output_type": "stream",
     "text": [
      "Isolation Forest Roc and Precision in 250 Estimators are 0.6364 and 0.0\n",
      "\n",
      "\n",
      "Processing Extreme_Grandient_Boost_\n"
     ]
    },
    {
     "name": "stderr",
     "output_type": "stream",
     "text": [
      "/Users/ziye.zhou/Documents/Work/cost_anomaly_detection/tensorflow-venv/lib/python3.7/site-packages/sklearn/metrics/_classification.py:1272: UndefinedMetricWarning: Precision is ill-defined and being set to 0.0 due to no predicted samples. Use `zero_division` parameter to control this behavior.\n",
      "  _warn_prf(average, modifier, msg_start, len(result))\n"
     ]
    },
    {
     "name": "stdout",
     "output_type": "stream",
     "text": [
      "Processing Random_Forest_\n"
     ]
    },
    {
     "name": "stderr",
     "output_type": "stream",
     "text": [
      "/Users/ziye.zhou/Documents/Work/cost_anomaly_detection/tensorflow-venv/lib/python3.7/site-packages/sklearn/metrics/_classification.py:1272: UndefinedMetricWarning: Precision is ill-defined and being set to 0.0 due to no predicted samples. Use `zero_division` parameter to control this behavior.\n",
      "  _warn_prf(average, modifier, msg_start, len(result))\n",
      "/Users/ziye.zhou/Documents/Work/cost_anomaly_detection/tensorflow-venv/lib/python3.7/site-packages/sklearn/metrics/_classification.py:1272: UndefinedMetricWarning: Precision is ill-defined and being set to 0.0 due to no predicted samples. Use `zero_division` parameter to control this behavior.\n",
      "  _warn_prf(average, modifier, msg_start, len(result))\n",
      "/Users/ziye.zhou/Documents/Work/cost_anomaly_detection/tensorflow-venv/lib/python3.7/site-packages/sklearn/metrics/_classification.py:1272: UndefinedMetricWarning: Precision is ill-defined and being set to 0.0 due to no predicted samples. Use `zero_division` parameter to control this behavior.\n",
      "  _warn_prf(average, modifier, msg_start, len(result))\n"
     ]
    },
    {
     "name": "stdout",
     "output_type": "stream",
     "text": [
      "\n",
      "\n"
     ]
    }
   ],
   "source": [
    "clf_list, result_dict = initialize_classifier()\n",
    "\n",
    "cost_transformed[\"label\"] = 0\n",
    "cost_transformed.label.loc[cost_transformed.cost >= 0.5] = 1\n",
    "X_origin = cost_transformed.drop([\"cost\", \"label\"], axis = 1).values\n",
    "y_origin = cost_transformed.label.values\n",
    "iteration, test_size, outlier_percent = set_parameters(y_origin)\n",
    "\n",
    "k_list_pre = [1, 2, 3, 4, 5, 10, 15, 20, 30, 40, 50, 60, 70, 80, 90, 100]\n",
    "nu_list = [0.01, 0.1, 0.2, 0.3, 0.4, 0.5, 0.6, 0.7, 0.8, 0.9, 0.99]\n",
    "n_list = [10, 20, 30, 40, 50, 60, 70, 80, 90, 100, 150, 200, 250]\n",
    "\n",
    "for t in range(iteration):\n",
    "    \n",
    "    print(\"Processing trial\", t + 1, \"out of\", iteration, \"\\n\")\n",
    "    \n",
    "    # Split X and y for training and testing\n",
    "    X, X_test, y, y_test = train_test_split(X_origin, y_origin, test_size = test_size)\n",
    "    \n",
    "    # Normalize data\n",
    "    scaler = Normalizer().fit(X)\n",
    "    X_norm = scaler.transform(X)\n",
    "    X_test_norm = scaler.transform(X_test)\n",
    "    \n",
    "    feature_list_knn, train_knn, test_knn, roc_knn, precision_knn = get_results_from_KNN(\n",
    "        k_list_pre, X_norm, X_test_norm, y_test, outlier_percent, \"largest\"\n",
    "    )\n",
    "    print(\"\\n\")\n",
    "    feature_list_knn_mean, train_knn_mean, test_knn_mean, roc_knn_mean, precision_knn_mean = get_results_from_KNN(\n",
    "        k_list_pre, X_norm, X_test_norm, y_test, outlier_percent, \"mean\"\n",
    "    )\n",
    "    print(\"\\n\")\n",
    "    feature_list_knn_median, train_knn_median, test_knn_median, roc_knn_median, precision_knn_median = get_results_from_KNN(\n",
    "        k_list_pre, X_norm, X_test_norm, y_test, outlier_percent, \"median\"\n",
    "    )\n",
    "    print(\"\\n\")\n",
    "    feature_list_lof, train_lof, test_lof, roc_lof, precision_lof = get_results_from_LOF(\n",
    "        k_list_pre, X_norm, X_test_norm, y_test, outlier_percent\n",
    "    )\n",
    "    print(\"\\n\")\n",
    "    feature_list_svm, train_svm, test_svm, roc_svm, precision_svm = get_results_from_SVM(\n",
    "        nu_list, X_norm, X_test_norm, y_test, outlier_percent\n",
    "    )\n",
    "    print(\"\\n\")\n",
    "    feature_list_if, train_if, test_if, roc_if, precision_if = get_results_from_IF(\n",
    "        n_list, X_norm, X_test_norm, y_test, outlier_percent\n",
    "    )\n",
    "    print(\"\\n\")\n",
    "    roc = [roc_knn, roc_knn_mean, roc_knn_median, roc_lof, roc_svm, roc_if]\n",
    "    precision = [precision_knn, precision_knn_mean, precision_knn_median, precision_lof, precision_svm, precision_if]\n",
    "    score = [train_knn, train_knn_mean, train_knn_median, train_lof, train_svm, train_if]\n",
    "    score_test = [test_knn, test_knn_mean, test_knn_median, test_lof, test_svm, test_if]\n",
    "    X_train_new, X_test_new, X_train_all, X_test_all, roc_list, precision_list = generate_new_feature(\n",
    "        X_norm, X_test_norm, score, score_test, roc, precision\n",
    "    )\n",
    "\n",
    "    X_train_new_rnd, X_train_all_rnd = random_selection(X_norm, X_train_new, roc_list, p = 10)\n",
    "    X_test_new_rnd, X_test_all_rnd = random_selection(X_test_norm, X_test_new, roc_list, p = 10)\n",
    "    X_train_new_acc, X_train_all_acc = accurate_selection(X_norm, X_train_new, roc_list, p = 10, n = 10)\n",
    "    X_test_new_acc, X_test_all_acc = accurate_selection(X_test_norm, X_test_new, roc_list, p = 10, n = 10)\n",
    "    X_train_new_bal, X_train_all_bal = balance_selection(X_norm, X_train_new, roc_list, p = 10)\n",
    "    X_test_new_bal, X_test_all_bal = balance_selection(X_test_norm, X_test_new, roc_list, p = 10)\n",
    "    \n",
    "    feature_list = [\n",
    "        X_norm, \n",
    "        X_train_new, X_train_new_rnd, X_train_new_acc, X_train_new_bal,\n",
    "        X_train_all, X_train_all_rnd, X_train_all_acc, X_train_all_bal\n",
    "    ]\n",
    "    feature_test_list = [\n",
    "        X_test_norm,\n",
    "        X_test_new, X_test_new_rnd, X_test_new_acc, X_test_new_bal,\n",
    "        X_test_all, X_test_all_rnd, X_test_all_acc, X_test_all_bal\n",
    "    ]\n",
    "    result_dict = train_classifier( feature_list, feature_test_list, y, y_test)\n",
    "    print(\"\\n\")"
   ]
  },
  {
   "cell_type": "code",
   "execution_count": 32,
   "metadata": {},
   "outputs": [
    {
     "name": "stdout",
     "output_type": "stream",
     "text": [
      "\n",
      "0.8354 roc_Extreme_Grandient_Boost_origin\n",
      "0.8491 roc_Extreme_Grandient_Boost_anomaly_score\n",
      "0.5431 roc_Extreme_Grandient_Boost_anomaly_score_random\n",
      "0.5133 roc_Extreme_Grandient_Boost_anomaly_score_accurate\n",
      "0.51 roc_Extreme_Grandient_Boost_anomaly_score_balance\n",
      "0.911 roc_Extreme_Grandient_Boost_semi_supervised\n",
      "0.9135 roc_Extreme_Grandient_Boost_semi_supervised_random\n",
      "0.895 roc_Extreme_Grandient_Boost_semi_supervised_accurate\n",
      "0.9176 roc_Extreme_Grandient_Boost_semi_supervised_balance\n",
      "0.8678 roc_Random_Forest_origin\n",
      "0.7903 roc_Random_Forest_anomaly_score\n",
      "0.6128 roc_Random_Forest_anomaly_score_random\n",
      "0.5135 roc_Random_Forest_anomaly_score_accurate\n",
      "0.4951 roc_Random_Forest_anomaly_score_balance\n",
      "0.8448 roc_Random_Forest_semi_supervised\n",
      "0.8111 roc_Random_Forest_semi_supervised_random\n",
      "0.8412 roc_Random_Forest_semi_supervised_accurate\n",
      "0.8002 roc_Random_Forest_semi_supervised_balance\n",
      "\n",
      "0.3508 precision_Extreme_Grandient_Boost_origin\n",
      "0.2606 precision_Extreme_Grandient_Boost_anomaly_score\n",
      "0.0167 precision_Extreme_Grandient_Boost_anomaly_score_random\n",
      "0.0 precision_Extreme_Grandient_Boost_anomaly_score_accurate\n",
      "0.0 precision_Extreme_Grandient_Boost_anomaly_score_balance\n",
      "0.4268 precision_Extreme_Grandient_Boost_semi_supervised\n",
      "0.3943 precision_Extreme_Grandient_Boost_semi_supervised_random\n",
      "0.3365 precision_Extreme_Grandient_Boost_semi_supervised_accurate\n",
      "0.2879 precision_Extreme_Grandient_Boost_semi_supervised_balance\n",
      "0.2954 precision_Random_Forest_origin\n",
      "0.1381 precision_Random_Forest_anomaly_score\n",
      "0.02 precision_Random_Forest_anomaly_score_random\n",
      "0.0 precision_Random_Forest_anomaly_score_accurate\n",
      "0.0 precision_Random_Forest_anomaly_score_balance\n",
      "0.1829 precision_Random_Forest_semi_supervised\n",
      "0.24 precision_Random_Forest_semi_supervised_random\n",
      "0.1771 precision_Random_Forest_semi_supervised_accurate\n",
      "0.2414 precision_Random_Forest_semi_supervised_balance\n",
      "\n",
      "0.3564 auc_Extreme_Grandient_Boost_origin\n",
      "0.233 auc_Extreme_Grandient_Boost_anomaly_score\n",
      "0.0342 auc_Extreme_Grandient_Boost_anomaly_score_random\n",
      "0.209 auc_Extreme_Grandient_Boost_anomaly_score_accurate\n",
      "0.0216 auc_Extreme_Grandient_Boost_anomaly_score_balance\n",
      "0.3647 auc_Extreme_Grandient_Boost_semi_supervised\n",
      "0.4114 auc_Extreme_Grandient_Boost_semi_supervised_random\n",
      "0.3253 auc_Extreme_Grandient_Boost_semi_supervised_accurate\n",
      "0.3289 auc_Extreme_Grandient_Boost_semi_supervised_balance\n",
      "0.2474 auc_Random_Forest_origin\n",
      "0.1238 auc_Random_Forest_anomaly_score\n",
      "0.0455 auc_Random_Forest_anomaly_score_random\n",
      "0.159 auc_Random_Forest_anomaly_score_accurate\n",
      "0.048 auc_Random_Forest_anomaly_score_balance\n",
      "0.1706 auc_Random_Forest_semi_supervised\n",
      "0.1318 auc_Random_Forest_semi_supervised_random\n",
      "0.1621 auc_Random_Forest_semi_supervised_accurate\n",
      "0.1321 auc_Random_Forest_semi_supervised_balance\n"
     ]
    }
   ],
   "source": [
    "evaluate_classifier()"
   ]
  },
  {
   "cell_type": "code",
   "execution_count": null,
   "metadata": {},
   "outputs": [],
   "source": []
  }
 ],
 "metadata": {
  "kernelspec": {
   "display_name": "Python 3",
   "language": "python",
   "name": "python3"
  },
  "language_info": {
   "codemirror_mode": {
    "name": "ipython",
    "version": 3
   },
   "file_extension": ".py",
   "mimetype": "text/x-python",
   "name": "python",
   "nbconvert_exporter": "python",
   "pygments_lexer": "ipython3",
   "version": "3.7.6"
  }
 },
 "nbformat": 4,
 "nbformat_minor": 4
}
